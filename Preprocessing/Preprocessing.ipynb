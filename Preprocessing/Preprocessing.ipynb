{
 "cells": [
  {
   "cell_type": "code",
   "execution_count": 1,
   "metadata": {},
   "outputs": [],
   "source": [
    "# basic\n",
    "import pandas as pd\n",
    "import numpy as np\n",
    "\n",
    "# graphical \n",
    "import matplotlib.pyplot as plt\n",
    "import pandas as pd\n",
    "import seaborn as sns\n",
    "\n",
    "# interactive\n",
    "import ipywidgets as widgets\n",
    "from ipywidgets import interact, interactive, fixed, interact_manual"
   ]
  },
  {
   "cell_type": "markdown",
   "metadata": {},
   "source": [
    "# Preprocessing\n",
    "\n",
    "This notebook contains the steps taken in preprocessing the data for our final model. We begin by finding common trips among device ids as well as isolating specific interactions for use in our model. Our goal is to reduce our dataframes down to one, where each row represents a summary of the trip. "
   ]
  },
  {
   "cell_type": "markdown",
   "metadata": {},
   "source": [
    "## Part 1: Loading Individual Dataframes \n",
    "\n",
    "We begin by loading each csv into individual dataframes as done in EDA. Since these csv files are quite large, we subset only the necessary columns from each to keep run time and memory requrements down. Below are all of the columns in each of the relevant dataframes that were found in the EDA section. We then select a subset of those columns to load into our dataframes. "
   ]
  },
  {
   "cell_type": "code",
   "execution_count": 2,
   "metadata": {
    "scrolled": true
   },
   "outputs": [
    {
     "name": "stdout",
     "output_type": "stream",
     "text": [
      "\n",
      "Original EvtWarn Columns: ( length: 35 )\n",
      " ['Device', 'Trip', 'Time', 'RvDevice', 'NativeFlag', 'LocalTimeMS', 'PsId', 'RvBasicVehClass', 'RvRandomId', 'AlertLevel', 'EventAppId', 'RvClass', 'RvLatitude', 'RvLongitude', 'RvHeading', 'RvElevation', 'RvSpeed', 'RvBrakeStatus', 'RvYawRate', 'RvLongitudinalAccel', 'RvTurnSignal', 'RvEventFlags', 'RvRange', 'RvRangeRate', 'RvLongOffset', 'RvLatOffset', 'HvLatitude', 'HvLongitude', 'HvHeading', 'HvElevation', 'HvSpeed', 'HvBrakeStatus', 'HvYawRate', 'HvLongitudinalAccel', 'HvTurnSignal']\n",
      "\n",
      "Original Host Columns: ( length: 29 )\n",
      " ['Device', 'Trip', 'Time', 'NativeFlag', 'LocalTimeMS', 'Latitude', 'Longitude', 'Elevation', 'Heading', 'GpsSpeed', 'GpsFixType', 'GpsSemiMajAxis', 'GpsSemiMinAxis', 'GpsOrientSemiMaj', 'BrakeStatus', 'Speed', 'YawRate', 'LongAccel', 'ThrottlePosPct', 'SteerAngle', 'TurnSignal', 'Headlamp', 'Wiper', 'TransState', 'StabilityControlStatus', 'ABSStatus', 'TracControlStatus', 'ClosestIntersectId', 'Distance']\n",
      "\n",
      "Original RvBsm Columns: ( length: 17 )\n",
      " ['Device', 'Trip', 'Time', 'RvDevice', 'NativeFlag', 'LocalTimeMS', 'BsmPsId', 'BasicVehClass', 'RvRandomId', 'Latitude', 'Longitude', 'Elevation', 'Heading', 'GpsSpeed', 'BrakeStatus', 'YawRate', 'LongAccel']\n",
      "\n",
      "Original Spat Columns: ( length: 10 )\n",
      " ['Device', 'Trip', 'Time', 'NativeFlag', 'LocalTimeMS', 'IntersectId', 'LaneId', 'MovementPhase', 'SignalGroupId', 'MinEndTime']\n"
     ]
    }
   ],
   "source": [
    "# All Columns\n",
    "all_col_dict = {\n",
    "    \"EvtWarn\" : ['Device', \n",
    "                 'Trip', \n",
    "                 'Time', \n",
    "                 'RvDevice', \n",
    "                 'NativeFlag', \n",
    "                 'LocalTimeMS', \n",
    "                 'PsId', \n",
    "                 'RvBasicVehClass', \n",
    "                 'RvRandomId', \n",
    "                 'AlertLevel', \n",
    "                 'EventAppId', \n",
    "                 'RvClass', \n",
    "                 'RvLatitude', \n",
    "                 'RvLongitude', \n",
    "                 'RvHeading', \n",
    "                 'RvElevation', \n",
    "                 'RvSpeed', \n",
    "                 'RvBrakeStatus', \n",
    "                 'RvYawRate', \n",
    "                 'RvLongitudinalAccel', \n",
    "                 'RvTurnSignal', \n",
    "                 'RvEventFlags', \n",
    "                 'RvRange', \n",
    "                 'RvRangeRate', \n",
    "                 'RvLongOffset', \n",
    "                 'RvLatOffset', \n",
    "                 'HvLatitude', \n",
    "                 'HvLongitude', \n",
    "                 'HvHeading', \n",
    "                 'HvElevation', \n",
    "                 'HvSpeed', \n",
    "                 'HvBrakeStatus', \n",
    "                 'HvYawRate', \n",
    "                 'HvLongitudinalAccel', \n",
    "                 'HvTurnSignal'],\n",
    "    \n",
    "    \"Host\" : ['Device', \n",
    "              'Trip', \n",
    "              'Time', \n",
    "              'NativeFlag', \n",
    "              'LocalTimeMS', \n",
    "              'Latitude', \n",
    "              'Longitude', \n",
    "              'Elevation', \n",
    "              'Heading', \n",
    "              'GpsSpeed', \n",
    "              'GpsFixType', \n",
    "              'GpsSemiMajAxis', \n",
    "              'GpsSemiMinAxis', \n",
    "              'GpsOrientSemiMaj', \n",
    "              'BrakeStatus', \n",
    "              'Speed', \n",
    "              'YawRate', \n",
    "              'LongAccel', \n",
    "              'ThrottlePosPct', \n",
    "              'SteerAngle', \n",
    "              'TurnSignal', \n",
    "              'Headlamp', \n",
    "              'Wiper', \n",
    "              'TransState', \n",
    "              'StabilityControlStatus', \n",
    "              'ABSStatus', \n",
    "              'TracControlStatus', \n",
    "              'ClosestIntersectId', \n",
    "              'Distance'],\n",
    "    \n",
    "    \"RvBsm\" : ['Device', \n",
    "               'Trip', \n",
    "               'Time', \n",
    "               'RvDevice', \n",
    "               'NativeFlag', \n",
    "               'LocalTimeMS', \n",
    "               'BsmPsId', \n",
    "               'BasicVehClass', \n",
    "               'RvRandomId', \n",
    "               'Latitude', \n",
    "               'Longitude', \n",
    "               'Elevation', \n",
    "               'Heading', \n",
    "               'GpsSpeed', \n",
    "               'BrakeStatus', \n",
    "               'YawRate', \n",
    "               'LongAccel'],\n",
    "    \n",
    "    \"Spat\" : ['Device', \n",
    "              'Trip', \n",
    "              'Time', \n",
    "              'NativeFlag', \n",
    "              'LocalTimeMS', \n",
    "              'IntersectId', \n",
    "              'LaneId', \n",
    "              'MovementPhase', \n",
    "              'SignalGroupId', \n",
    "              'MinEndTime'] \n",
    "}\n",
    "\n",
    "for name in all_col_dict:\n",
    "    print('\\nOriginal', name, 'Columns: ( length:', len(all_col_dict[name]), ')\\n', all_col_dict[name])"
   ]
  },
  {
   "cell_type": "code",
   "execution_count": 3,
   "metadata": {},
   "outputs": [
    {
     "name": "stdout",
     "output_type": "stream",
     "text": [
      "\n",
      "Selected EvtWarn Columns: ( length: 22 )\n",
      " ['Device', 'Trip', 'Time', 'RvDevice', 'AlertLevel', 'EventAppId', 'RvBasicVehClass', 'RvLatitude', 'RvLongitude', 'RvHeading', 'RvSpeed', 'RvBrakeStatus', 'RvYawRate', 'RvLongitudinalAccel', 'RvEventFlags', 'RvLongOffset', 'RvLatOffset', 'HvLatitude', 'HvLongitude', 'HvHeading', 'HvSpeed', 'HvBrakeStatus']\n",
      "\n",
      "Selected Host Columns: ( length: 12 )\n",
      " ['Device', 'Trip', 'Time', 'Latitude', 'Longitude', 'Heading', 'BrakeStatus', 'GpsSpeed', 'YawRate', 'LongAccel', 'Speed', 'Distance']\n",
      "\n",
      "Selected RvBsm Columns: ( length: 11 )\n",
      " ['Device', 'Trip', 'Time', 'BasicVehClass', 'Latitude', 'Longitude', 'Heading', 'GpsSpeed', 'BrakeStatus', 'YawRate', 'LongAccel']\n",
      "\n",
      "Selected Spat Columns: ( length: 8 )\n",
      " ['Device', 'Trip', 'Time', 'IntersectId', 'LaneId', 'MovementPhase', 'SignalGroupId', 'MinEndTime']\n"
     ]
    }
   ],
   "source": [
    "# Selected Columns\n",
    "evt_cols = ['Device', \n",
    "            'Trip', \n",
    "            'Time', \n",
    "            'RvDevice', \n",
    "            'AlertLevel', \n",
    "            'EventAppId',\n",
    "            'RvBasicVehClass', \n",
    "            'RvLatitude', \n",
    "            'RvLongitude', \n",
    "            'RvHeading', \n",
    "            'RvSpeed', \n",
    "            'RvBrakeStatus', \n",
    "            'RvYawRate', \n",
    "            'RvLongitudinalAccel', \n",
    "            'RvEventFlags', \n",
    "            'RvLongOffset', \n",
    "            'RvLatOffset', \n",
    "            'HvLatitude', \n",
    "            'HvLongitude', \n",
    "            'HvHeading', \n",
    "            'HvSpeed', \n",
    "            'HvBrakeStatus']\n",
    "\n",
    "host_cols = ['Device', \n",
    "             'Trip', \n",
    "             'Time',  \n",
    "             'Latitude', \n",
    "             'Longitude', \n",
    "             'Heading', \n",
    "             'BrakeStatus', \n",
    "             'GpsSpeed', \n",
    "             'YawRate', \n",
    "             'LongAccel', \n",
    "             'Speed', \n",
    "             'Distance']\n",
    "\n",
    "rvbsm_cols = ['Device', \n",
    "              'Trip', \n",
    "              'Time',  \n",
    "              'BasicVehClass',\n",
    "              'Latitude', \n",
    "              'Longitude',\n",
    "              'Heading', \n",
    "              'GpsSpeed', \n",
    "              'BrakeStatus', \n",
    "              'YawRate', \n",
    "              'LongAccel']\n",
    "\n",
    "spat_cols = ['Device', \n",
    "             'Trip', \n",
    "             'Time', \n",
    "             'IntersectId', \n",
    "             'LaneId', \n",
    "             'MovementPhase', \n",
    "             'SignalGroupId', \n",
    "             'MinEndTime']\n",
    "\n",
    "selected_col_dict = {\n",
    "    \"EvtWarn\" : evt_cols,\n",
    "    \"Host\" : host_cols,\n",
    "    \"RvBsm\" : rvbsm_cols,\n",
    "    \"Spat\" : spat_cols\n",
    "}\n",
    "\n",
    "for name in selected_col_dict:\n",
    "    print('\\nSelected', name, 'Columns: ( length:', len(selected_col_dict[name]), ')\\n', selected_col_dict[name])"
   ]
  },
  {
   "cell_type": "code",
   "execution_count": 4,
   "metadata": {},
   "outputs": [
    {
     "name": "stdout",
     "output_type": "stream",
     "text": [
      "reading 'EvtWarn.csv'...\n",
      "reading 'Host.csv'...\n",
      "reading 'RvBsm.csv'...\n",
      "reading 'Spat.csv'...\n",
      "done!\n"
     ]
    }
   ],
   "source": [
    "# Load the data (I am leaving the unused csv files in our dataset commented out)\n",
    "\n",
    "#Summary = pd.read_csv(\"../Data/Summary.csv\")\n",
    "\n",
    "print(\"reading 'EvtWarn.csv'...\")\n",
    "evtwarn = pd.read_csv(\"../Data/EvtWarn.csv\", usecols = evt_cols)\n",
    "print(\"reading 'Host.csv'...\")\n",
    "host = pd.read_csv(\"../Data/Host.csv\", usecols = host_cols)\n",
    "print(\"reading 'RvBsm.csv'...\")\n",
    "rvbsm = pd.read_csv(\"../Data/RvBsm.csv\", usecols = rvbsm_cols)\n",
    "print(\"reading 'Spat.csv'...\")\n",
    "spat = pd.read_csv(\"../Data/Spat.csv\")\n",
    "print(\"done!\")\n",
    "\n",
    "#RvZone = pd.read_csv(\"../Data/RvZone.csv\")\n",
    "#RvBasicVehClass = pd.read_csv(\"../Data/RvBasicVehClass.csv\")"
   ]
  },
  {
   "cell_type": "markdown",
   "metadata": {},
   "source": [
    "### Resulting DataFrames\n",
    "We will first call the interactive function from the EDA, which will be used throughout this notebook as well.  "
   ]
  },
  {
   "cell_type": "code",
   "execution_count": 5,
   "metadata": {},
   "outputs": [],
   "source": [
    "def df_interact(df):\n",
    "    '''\n",
    "    Outputs sliders that show rows and columns of df\n",
    "    '''\n",
    "    def peek(row=0, col=0):\n",
    "        return df.iloc[row:row + 5, col:col + 6]\n",
    "    interact(peek, row=(0, len(df), 5), col=(0, len(df.columns) - 6))\n",
    "    print('({} rows, {} columns) total'.format(df.shape[0], df.shape[1]))"
   ]
  },
  {
   "cell_type": "markdown",
   "metadata": {},
   "source": [
    "#### EvtWarn"
   ]
  },
  {
   "cell_type": "code",
   "execution_count": 6,
   "metadata": {},
   "outputs": [
    {
     "data": {
      "application/vnd.jupyter.widget-view+json": {
       "model_id": "65472e9ce5bd4528807d9c386ee12758",
       "version_major": 2,
       "version_minor": 0
      },
      "text/plain": [
       "interactive(children=(IntSlider(value=0, description='row', max=2461, step=5), IntSlider(value=0, description=…"
      ]
     },
     "metadata": {},
     "output_type": "display_data"
    },
    {
     "name": "stdout",
     "output_type": "stream",
     "text": [
      "(2461 rows, 22 columns) total\n"
     ]
    }
   ],
   "source": [
    "df_interact(evtwarn)"
   ]
  },
  {
   "cell_type": "markdown",
   "metadata": {},
   "source": [
    "#### Host"
   ]
  },
  {
   "cell_type": "code",
   "execution_count": 7,
   "metadata": {},
   "outputs": [
    {
     "data": {
      "application/vnd.jupyter.widget-view+json": {
       "model_id": "15ba4b9e51b546b1b10f8076386406ea",
       "version_major": 2,
       "version_minor": 0
      },
      "text/plain": [
       "interactive(children=(IntSlider(value=0, description='row', max=11418494, step=5), IntSlider(value=0, descript…"
      ]
     },
     "metadata": {},
     "output_type": "display_data"
    },
    {
     "name": "stdout",
     "output_type": "stream",
     "text": [
      "(11418494 rows, 12 columns) total\n"
     ]
    }
   ],
   "source": [
    "df_interact(host)"
   ]
  },
  {
   "cell_type": "markdown",
   "metadata": {},
   "source": [
    "#### RvBsm"
   ]
  },
  {
   "cell_type": "code",
   "execution_count": 8,
   "metadata": {},
   "outputs": [
    {
     "data": {
      "application/vnd.jupyter.widget-view+json": {
       "model_id": "44e0926695c0440db7e5031e8ff98f9e",
       "version_major": 2,
       "version_minor": 0
      },
      "text/plain": [
       "interactive(children=(IntSlider(value=0, description='row', max=648149, step=5), IntSlider(value=0, descriptio…"
      ]
     },
     "metadata": {},
     "output_type": "display_data"
    },
    {
     "name": "stdout",
     "output_type": "stream",
     "text": [
      "(648149 rows, 11 columns) total\n"
     ]
    }
   ],
   "source": [
    "df_interact(rvbsm)"
   ]
  },
  {
   "cell_type": "markdown",
   "metadata": {},
   "source": [
    "#### Spat"
   ]
  },
  {
   "cell_type": "code",
   "execution_count": 9,
   "metadata": {},
   "outputs": [
    {
     "data": {
      "application/vnd.jupyter.widget-view+json": {
       "model_id": "6a128b88a7404fcf8bb32beed4580b05",
       "version_major": 2,
       "version_minor": 0
      },
      "text/plain": [
       "interactive(children=(IntSlider(value=0, description='row', max=56568, step=5), IntSlider(value=0, description…"
      ]
     },
     "metadata": {},
     "output_type": "display_data"
    },
    {
     "name": "stdout",
     "output_type": "stream",
     "text": [
      "(56568 rows, 10 columns) total\n"
     ]
    }
   ],
   "source": [
    "df_interact(spat)"
   ]
  },
  {
   "cell_type": "markdown",
   "metadata": {},
   "source": [
    "## Part 2: Filtering Data\n",
    "In this section, we filter the data down to include only the driving scene we desire. We will:\n",
    "\n",
    "1. Select only IMA (intersection movement assist) warnings using `EvtWarn`\n",
    "2. Set a time range for analysis of that warning\n",
    "3. Filter `RvBsm` and `Host` for data within that time range\n",
    " "
   ]
  },
  {
   "cell_type": "code",
   "execution_count": 20,
   "metadata": {},
   "outputs": [],
   "source": [
    "# Get time range for each event\n",
    "evtwarn_ima = evtwarn[(evtwarn[\"EventAppId\"] == 2)]\n",
    "evt_times = evtwarn_ima.loc[:, [\"Trip\", \"Device\", \"Time\"]].groupby([\"Device\", \"Trip\"]).agg(['min', 'max'])\n",
    "evt_times.columns = evt_times.columns.droplevel(0)\n",
    "\n",
    "evt_times\n",
    "# Increase range per event to include 2 seconds before and 5 seconds after the events were observed\n",
    "evt_times['min'] = evt_times['min'] - 200\n",
    "evt_times['max'] = evt_times['max'] + 500\n",
    "\n",
    "\n",
    "# Set the unique device, trip, event combination as index\n",
    "#evt_times.reset_index(inplace = True)\n",
    "#evt_times['device_trip_event'] = evt_times['Device'].astype(str) +'_'+ evt_times['Trip'].astype(str) +'_'+ evt_times['RvEventFlags'].astype(str)\n",
    "#evt_times.set_index('device_trip_event', inplace = True)\n",
    "#evt_times.head()\n"
   ]
  },
  {
   "cell_type": "code",
   "execution_count": 14,
   "metadata": {},
   "outputs": [
    {
     "data": {
      "text/html": [
       "<div>\n",
       "<style scoped>\n",
       "    .dataframe tbody tr th:only-of-type {\n",
       "        vertical-align: middle;\n",
       "    }\n",
       "\n",
       "    .dataframe tbody tr th {\n",
       "        vertical-align: top;\n",
       "    }\n",
       "\n",
       "    .dataframe thead th {\n",
       "        text-align: right;\n",
       "    }\n",
       "</style>\n",
       "<table border=\"1\" class=\"dataframe\">\n",
       "  <thead>\n",
       "    <tr style=\"text-align: right;\">\n",
       "      <th></th>\n",
       "      <th>Device</th>\n",
       "      <th>Trip</th>\n",
       "      <th>Time</th>\n",
       "      <th>RvDevice</th>\n",
       "      <th>RvBasicVehClass</th>\n",
       "      <th>EventAppId</th>\n",
       "      <th>RvLatitude</th>\n",
       "      <th>RvLongitude</th>\n",
       "      <th>RvHeading</th>\n",
       "      <th>RvSpeed</th>\n",
       "      <th>...</th>\n",
       "      <th>RvYawRate</th>\n",
       "      <th>RvLongitudinalAccel</th>\n",
       "      <th>RvEventFlags</th>\n",
       "      <th>RvLongOffset</th>\n",
       "      <th>RvLatOffset</th>\n",
       "      <th>HvLatitude</th>\n",
       "      <th>HvLongitude</th>\n",
       "      <th>HvHeading</th>\n",
       "      <th>HvSpeed</th>\n",
       "      <th>HvBrakeStatus</th>\n",
       "    </tr>\n",
       "    <tr>\n",
       "      <th>AlertLevel</th>\n",
       "      <th></th>\n",
       "      <th></th>\n",
       "      <th></th>\n",
       "      <th></th>\n",
       "      <th></th>\n",
       "      <th></th>\n",
       "      <th></th>\n",
       "      <th></th>\n",
       "      <th></th>\n",
       "      <th></th>\n",
       "      <th></th>\n",
       "      <th></th>\n",
       "      <th></th>\n",
       "      <th></th>\n",
       "      <th></th>\n",
       "      <th></th>\n",
       "      <th></th>\n",
       "      <th></th>\n",
       "      <th></th>\n",
       "      <th></th>\n",
       "      <th></th>\n",
       "    </tr>\n",
       "  </thead>\n",
       "  <tbody>\n",
       "    <tr>\n",
       "      <th>2</th>\n",
       "      <td>356</td>\n",
       "      <td>356</td>\n",
       "      <td>356</td>\n",
       "      <td>356</td>\n",
       "      <td>356</td>\n",
       "      <td>356</td>\n",
       "      <td>356</td>\n",
       "      <td>356</td>\n",
       "      <td>356</td>\n",
       "      <td>356</td>\n",
       "      <td>...</td>\n",
       "      <td>356</td>\n",
       "      <td>356</td>\n",
       "      <td>356</td>\n",
       "      <td>356</td>\n",
       "      <td>356</td>\n",
       "      <td>356</td>\n",
       "      <td>356</td>\n",
       "      <td>356</td>\n",
       "      <td>356</td>\n",
       "      <td>356</td>\n",
       "    </tr>\n",
       "    <tr>\n",
       "      <th>3</th>\n",
       "      <td>126</td>\n",
       "      <td>126</td>\n",
       "      <td>126</td>\n",
       "      <td>126</td>\n",
       "      <td>126</td>\n",
       "      <td>126</td>\n",
       "      <td>126</td>\n",
       "      <td>126</td>\n",
       "      <td>126</td>\n",
       "      <td>126</td>\n",
       "      <td>...</td>\n",
       "      <td>126</td>\n",
       "      <td>126</td>\n",
       "      <td>126</td>\n",
       "      <td>126</td>\n",
       "      <td>126</td>\n",
       "      <td>126</td>\n",
       "      <td>126</td>\n",
       "      <td>126</td>\n",
       "      <td>126</td>\n",
       "      <td>126</td>\n",
       "    </tr>\n",
       "  </tbody>\n",
       "</table>\n",
       "<p>2 rows × 21 columns</p>\n",
       "</div>"
      ],
      "text/plain": [
       "            Device  Trip  Time  RvDevice  RvBasicVehClass  EventAppId  \\\n",
       "AlertLevel                                                              \n",
       "2              356   356   356       356              356         356   \n",
       "3              126   126   126       126              126         126   \n",
       "\n",
       "            RvLatitude  RvLongitude  RvHeading  RvSpeed      ...        \\\n",
       "AlertLevel                                                   ...         \n",
       "2                  356          356        356      356      ...         \n",
       "3                  126          126        126      126      ...         \n",
       "\n",
       "            RvYawRate  RvLongitudinalAccel  RvEventFlags  RvLongOffset  \\\n",
       "AlertLevel                                                               \n",
       "2                 356                  356           356           356   \n",
       "3                 126                  126           126           126   \n",
       "\n",
       "            RvLatOffset  HvLatitude  HvLongitude  HvHeading  HvSpeed  \\\n",
       "AlertLevel                                                             \n",
       "2                   356         356          356        356      356   \n",
       "3                   126         126          126        126      126   \n",
       "\n",
       "            HvBrakeStatus  \n",
       "AlertLevel                 \n",
       "2                     356  \n",
       "3                     126  \n",
       "\n",
       "[2 rows x 21 columns]"
      ]
     },
     "execution_count": 14,
     "metadata": {},
     "output_type": "execute_result"
    }
   ],
   "source": [
    "# Get only IMA warnings\n",
    "evtwarn_ima = evtwarn[(evtwarn[\"EventAppId\"] == 2)]\n",
    "\n",
    "# uncomment the following linto note that 356 of these are informs and only 126 are warnings\n",
    "# evtwarn_ima.groupby([\"AlertLevel\"]).count()\n",
    "\n",
    "# for now we will continue with both, but we can get just warnings by changing the first line to \n",
    "# evt_warn_ima = evtwarn[(evtwarn[\"EventAppId\"] == 2) & (evtwarn[\"AlertLevel\"] == 3)]\n",
    "\n",
    "# create groupby object, \n",
    "evt_times = evtwarn.loc[:, [\"Trip\", \"Device\", \"EventAppId\", \"Time\"]].groupby([\"Trip\", \"Device\", 'EventAppId'])\n",
    "#evt_times.groups"
   ]
  },
  {
   "cell_type": "code",
   "execution_count": 94,
   "metadata": {},
   "outputs": [
    {
     "ename": "SyntaxError",
     "evalue": "unexpected EOF while parsing (<ipython-input-94-c9d71b613bd6>, line 11)",
     "output_type": "error",
     "traceback": [
      "\u001b[1;36m  File \u001b[1;32m\"<ipython-input-94-c9d71b613bd6>\"\u001b[1;36m, line \u001b[1;32m11\u001b[0m\n\u001b[1;33m    df.groupby(['Device', 'Trip', 'Event']).filter(lambda x: x['Time'])\u001b[0m\n\u001b[1;37m                                                                       ^\u001b[0m\n\u001b[1;31mSyntaxError\u001b[0m\u001b[1;31m:\u001b[0m unexpected EOF while parsing\n"
     ]
    }
   ],
   "source": [
    "# pull that into a min dictionary and a max dictionary\n",
    "min_dict = {}\n",
    "max_dict = {}\n",
    "\n",
    "for event in list(evt_times.index):\n",
    "    min_dict[event] = evt_times.loc[event, 'min']\n",
    "    max_dict[event] = evt_times.loc[event, 'max']\n",
    "\n",
    "def filter_times(df):\n",
    "    (df['Time'] >  \n",
    "df.groupby(['Device', 'Trip', 'Event']).filter(lambda x: x['Time'])"
   ]
  },
  {
   "cell_type": "markdown",
   "metadata": {},
   "source": [
    "## Part 3:  Classify Reactive vs. Nonreactive\n",
    "In this section, we classify a drivers response as reactive versus nonreactive. Do accomplish this we use the `BrakeStatus` feature in the `Host` dataframe.\n",
    "\n",
    "For our model we use the following classification scheme:\n",
    "\n",
    "| Time from Warning Issued to Brakes Applied | Reactivity  | Integer Representation |\n",
    "|--------------------------------------------|-------------|------------------------|\n",
    "| > 1 second                                 | Nonreactive | 0                      |\n",
    "| <= 1 second                                | Reactive    | 1                      |\n",
    "\n",
    "We make that determination by:\n",
    "\n",
    "1. \n",
    "2. \n",
    "3. \n",
    "\n",
    "__\\* _Future Goal_ \\*__ \n",
    "\n",
    "1. Use __Host__ lane changes as well to determine reactivity of the driver \n",
    "2. Remove the situations where __Remote Vehicle__ changes lanes upon issuing warning (utilize the `RvBrakeStatus` feature in `RvBsm`) "
   ]
  },
  {
   "cell_type": "markdown",
   "metadata": {},
   "source": [
    "## Part 4: Merge Data\n",
    "\n",
    "To Merge the data, we first need to create a unique identifier in each dataframe. In our [EDA](../EDA) notebooks, we found that the unique identifier for each row is made up of:\n",
    "\n",
    "    1. Device: The host vehicle ID\n",
    "    2. Trip: The trip number for that device\n",
    "    3. Time: The amount of time since the start of the trip\n",
    "\n",
    "To get a better idea of how this should be done, we first look at an individual device-trip pair, then generalize to the entire dataset. "
   ]
  },
  {
   "cell_type": "markdown",
   "metadata": {},
   "source": [
    "### A) Individual Trip Example"
   ]
  },
  {
   "cell_type": "code",
   "execution_count": 62,
   "metadata": {},
   "outputs": [
    {
     "data": {
      "text/html": [
       "<div>\n",
       "<style scoped>\n",
       "    .dataframe tbody tr th:only-of-type {\n",
       "        vertical-align: middle;\n",
       "    }\n",
       "\n",
       "    .dataframe tbody tr th {\n",
       "        vertical-align: top;\n",
       "    }\n",
       "\n",
       "    .dataframe thead th {\n",
       "        text-align: right;\n",
       "    }\n",
       "</style>\n",
       "<table border=\"1\" class=\"dataframe\">\n",
       "  <thead>\n",
       "    <tr style=\"text-align: right;\">\n",
       "      <th></th>\n",
       "      <th>Device</th>\n",
       "      <th>Trip</th>\n",
       "      <th>Time</th>\n",
       "      <th>RvDevice</th>\n",
       "      <th>NativeFlag</th>\n",
       "      <th>LocalTimeMS</th>\n",
       "      <th>RvBasicVehClass</th>\n",
       "      <th>RvLatitude</th>\n",
       "      <th>RvLongitude</th>\n",
       "      <th>RvHeading</th>\n",
       "      <th>...</th>\n",
       "      <th>RvYawRate</th>\n",
       "      <th>RvLongitudinalAccel</th>\n",
       "      <th>RvEventFlags</th>\n",
       "      <th>RvLongOffset</th>\n",
       "      <th>RvLatOffset</th>\n",
       "      <th>HvLatitude</th>\n",
       "      <th>HvLongitude</th>\n",
       "      <th>HvHeading</th>\n",
       "      <th>HvSpeed</th>\n",
       "      <th>HvBrakeStatus</th>\n",
       "    </tr>\n",
       "  </thead>\n",
       "  <tbody>\n",
       "    <tr>\n",
       "      <th>0</th>\n",
       "      <td>2004</td>\n",
       "      <td>12</td>\n",
       "      <td>48150</td>\n",
       "      <td>2494</td>\n",
       "      <td>1</td>\n",
       "      <td>80559500</td>\n",
       "      <td>0</td>\n",
       "      <td>40.258754</td>\n",
       "      <td>-83.463172</td>\n",
       "      <td>110.250</td>\n",
       "      <td>...</td>\n",
       "      <td>0.0</td>\n",
       "      <td>0.16</td>\n",
       "      <td>0</td>\n",
       "      <td>-13.039368</td>\n",
       "      <td>-4.904795</td>\n",
       "      <td>40.258686</td>\n",
       "      <td>-83.463096</td>\n",
       "      <td>110.27</td>\n",
       "      <td>31.577778</td>\n",
       "      <td>0</td>\n",
       "    </tr>\n",
       "    <tr>\n",
       "      <th>1</th>\n",
       "      <td>2004</td>\n",
       "      <td>12</td>\n",
       "      <td>48250</td>\n",
       "      <td>2494</td>\n",
       "      <td>1</td>\n",
       "      <td>80560500</td>\n",
       "      <td>0</td>\n",
       "      <td>40.258647</td>\n",
       "      <td>-83.462790</td>\n",
       "      <td>110.250</td>\n",
       "      <td>...</td>\n",
       "      <td>0.0</td>\n",
       "      <td>-0.02</td>\n",
       "      <td>0</td>\n",
       "      <td>-10.674012</td>\n",
       "      <td>-5.043336</td>\n",
       "      <td>40.258585</td>\n",
       "      <td>-83.462745</td>\n",
       "      <td>110.43</td>\n",
       "      <td>31.611113</td>\n",
       "      <td>0</td>\n",
       "    </tr>\n",
       "    <tr>\n",
       "      <th>2</th>\n",
       "      <td>2004</td>\n",
       "      <td>12</td>\n",
       "      <td>48350</td>\n",
       "      <td>2494</td>\n",
       "      <td>1</td>\n",
       "      <td>80561500</td>\n",
       "      <td>0</td>\n",
       "      <td>40.258539</td>\n",
       "      <td>-83.462409</td>\n",
       "      <td>110.175</td>\n",
       "      <td>...</td>\n",
       "      <td>0.0</td>\n",
       "      <td>0.20</td>\n",
       "      <td>0</td>\n",
       "      <td>-8.518434</td>\n",
       "      <td>-5.195783</td>\n",
       "      <td>40.258485</td>\n",
       "      <td>-83.462393</td>\n",
       "      <td>110.53</td>\n",
       "      <td>31.622221</td>\n",
       "      <td>0</td>\n",
       "    </tr>\n",
       "    <tr>\n",
       "      <th>3</th>\n",
       "      <td>2004</td>\n",
       "      <td>12</td>\n",
       "      <td>48450</td>\n",
       "      <td>2494</td>\n",
       "      <td>1</td>\n",
       "      <td>80562500</td>\n",
       "      <td>0</td>\n",
       "      <td>40.258431</td>\n",
       "      <td>-83.462028</td>\n",
       "      <td>110.350</td>\n",
       "      <td>...</td>\n",
       "      <td>0.0</td>\n",
       "      <td>-0.18</td>\n",
       "      <td>0</td>\n",
       "      <td>-0.706004</td>\n",
       "      <td>-5.365892</td>\n",
       "      <td>40.258383</td>\n",
       "      <td>-83.462042</td>\n",
       "      <td>110.57</td>\n",
       "      <td>31.561111</td>\n",
       "      <td>0</td>\n",
       "    </tr>\n",
       "  </tbody>\n",
       "</table>\n",
       "<p>4 rows × 22 columns</p>\n",
       "</div>"
      ],
      "text/plain": [
       "   Device  Trip   Time  RvDevice  NativeFlag  LocalTimeMS  RvBasicVehClass  \\\n",
       "0    2004    12  48150      2494           1     80559500                0   \n",
       "1    2004    12  48250      2494           1     80560500                0   \n",
       "2    2004    12  48350      2494           1     80561500                0   \n",
       "3    2004    12  48450      2494           1     80562500                0   \n",
       "\n",
       "   RvLatitude  RvLongitude  RvHeading      ...        RvYawRate  \\\n",
       "0   40.258754   -83.463172    110.250      ...              0.0   \n",
       "1   40.258647   -83.462790    110.250      ...              0.0   \n",
       "2   40.258539   -83.462409    110.175      ...              0.0   \n",
       "3   40.258431   -83.462028    110.350      ...              0.0   \n",
       "\n",
       "   RvLongitudinalAccel  RvEventFlags  RvLongOffset  RvLatOffset  HvLatitude  \\\n",
       "0                 0.16             0    -13.039368    -4.904795   40.258686   \n",
       "1                -0.02             0    -10.674012    -5.043336   40.258585   \n",
       "2                 0.20             0     -8.518434    -5.195783   40.258485   \n",
       "3                -0.18             0     -0.706004    -5.365892   40.258383   \n",
       "\n",
       "   HvLongitude  HvHeading    HvSpeed  HvBrakeStatus  \n",
       "0   -83.463096     110.27  31.577778              0  \n",
       "1   -83.462745     110.43  31.611113              0  \n",
       "2   -83.462393     110.53  31.622221              0  \n",
       "3   -83.462042     110.57  31.561111              0  \n",
       "\n",
       "[4 rows x 22 columns]"
      ]
     },
     "execution_count": 62,
     "metadata": {},
     "output_type": "execute_result"
    }
   ],
   "source": [
    "## To see the results for another device-trip pair, change the following values\n",
    "device = 2004\n",
    "trip = 12\n",
    "evtwarn[(evtwarn['Device'] == 2004) & (evtwarn['Trip'] == 12)]\n",
    "when there is interaction: 10 hz \n",
    "with no interaction: 2 hz"
   ]
  },
  {
   "cell_type": "code",
   "execution_count": 26,
   "metadata": {},
   "outputs": [],
   "source": [
    "# Get data for the specific trip on the specified device\n",
    "host_data = host[(host['Device'] == device) & (host['Trip'] == trip)].reset_index().drop(columns=['index'])\n",
    "rvbsm_data = rvbsm[(rvbsm['Device'] == device) & (rvbsm['Trip'] == trip)].reset_index().drop(columns=['index'])\n",
    "evt_data = evtwarn[(evtwarn['Device'] == device) & (evtwarn['Trip'] == trip)].reset_index().drop(columns=['index'])\n",
    "spat_data = spat[(spat['Device'] == device) & (spat['Trip'] == trip)].reset_index().drop(columns=['index'])"
   ]
  },
  {
   "cell_type": "code",
   "execution_count": 27,
   "metadata": {},
   "outputs": [],
   "source": [
    "# Create unique identifier for each record based on Time \n",
    "host_data['merge_id'] = host_data['Device'].astype(str) +'_'+ host_data['Trip'].astype(str)  +'_'+ host_data['Time'].astype(str)\n",
    "rvbsm_data['merge_id'] = rvbsm_data['Device'].astype(str) +'_'+ rvbsm_data['Trip'].astype(str)  +'_'+ rvbsm_data['Time'].astype(str)\n",
    "evt_data['merge_id'] = evt_data['Device'].astype(str) +'_'+ evt_data['Trip'].astype(str)  +'_'+ evt_data['Time'].astype(str)\n",
    "spat_data['merge_id'] = spat_data['Device'].astype(str) +'_'+ spat_data['Trip'].astype(str)  +'_'+ spat_data['Time'].astype(str)"
   ]
  },
  {
   "cell_type": "code",
   "execution_count": 60,
   "metadata": {},
   "outputs": [
    {
     "ename": "KeyError",
     "evalue": "'merge_id'",
     "output_type": "error",
     "traceback": [
      "\u001b[1;31m---------------------------------------------------------------------------\u001b[0m",
      "\u001b[1;31mKeyError\u001b[0m                                  Traceback (most recent call last)",
      "\u001b[1;32m~\\Anaconda3\\lib\\site-packages\\pandas\\core\\indexes\\base.py\u001b[0m in \u001b[0;36mget_loc\u001b[1;34m(self, key, method, tolerance)\u001b[0m\n\u001b[0;32m   3077\u001b[0m             \u001b[1;32mtry\u001b[0m\u001b[1;33m:\u001b[0m\u001b[1;33m\u001b[0m\u001b[1;33m\u001b[0m\u001b[0m\n\u001b[1;32m-> 3078\u001b[1;33m                 \u001b[1;32mreturn\u001b[0m \u001b[0mself\u001b[0m\u001b[1;33m.\u001b[0m\u001b[0m_engine\u001b[0m\u001b[1;33m.\u001b[0m\u001b[0mget_loc\u001b[0m\u001b[1;33m(\u001b[0m\u001b[0mkey\u001b[0m\u001b[1;33m)\u001b[0m\u001b[1;33m\u001b[0m\u001b[1;33m\u001b[0m\u001b[0m\n\u001b[0m\u001b[0;32m   3079\u001b[0m             \u001b[1;32mexcept\u001b[0m \u001b[0mKeyError\u001b[0m\u001b[1;33m:\u001b[0m\u001b[1;33m\u001b[0m\u001b[1;33m\u001b[0m\u001b[0m\n",
      "\u001b[1;32mpandas\\_libs\\index.pyx\u001b[0m in \u001b[0;36mpandas._libs.index.IndexEngine.get_loc\u001b[1;34m()\u001b[0m\n",
      "\u001b[1;32mpandas\\_libs\\index.pyx\u001b[0m in \u001b[0;36mpandas._libs.index.IndexEngine.get_loc\u001b[1;34m()\u001b[0m\n",
      "\u001b[1;32mpandas\\_libs\\hashtable_class_helper.pxi\u001b[0m in \u001b[0;36mpandas._libs.hashtable.PyObjectHashTable.get_item\u001b[1;34m()\u001b[0m\n",
      "\u001b[1;32mpandas\\_libs\\hashtable_class_helper.pxi\u001b[0m in \u001b[0;36mpandas._libs.hashtable.PyObjectHashTable.get_item\u001b[1;34m()\u001b[0m\n",
      "\u001b[1;31mKeyError\u001b[0m: 'merge_id'",
      "\nDuring handling of the above exception, another exception occurred:\n",
      "\u001b[1;31mKeyError\u001b[0m                                  Traceback (most recent call last)",
      "\u001b[1;32m<ipython-input-60-a91a186b8e9a>\u001b[0m in \u001b[0;36m<module>\u001b[1;34m\u001b[0m\n\u001b[0;32m      1\u001b[0m \u001b[1;31m# Set unique identifier as index\u001b[0m\u001b[1;33m\u001b[0m\u001b[1;33m\u001b[0m\u001b[1;33m\u001b[0m\u001b[0m\n\u001b[1;32m----> 2\u001b[1;33m \u001b[0mhost_data\u001b[0m \u001b[1;33m=\u001b[0m \u001b[0mhost_data\u001b[0m\u001b[1;33m.\u001b[0m\u001b[0mset_index\u001b[0m\u001b[1;33m(\u001b[0m\u001b[1;34m'merge_id'\u001b[0m\u001b[1;33m)\u001b[0m\u001b[1;33m\u001b[0m\u001b[1;33m\u001b[0m\u001b[0m\n\u001b[0m\u001b[0;32m      3\u001b[0m \u001b[0mrvbsm_data\u001b[0m \u001b[1;33m=\u001b[0m \u001b[0mrvbsm_data\u001b[0m\u001b[1;33m.\u001b[0m\u001b[0mset_index\u001b[0m\u001b[1;33m(\u001b[0m\u001b[1;34m'merge_id'\u001b[0m\u001b[1;33m)\u001b[0m\u001b[1;33m\u001b[0m\u001b[1;33m\u001b[0m\u001b[0m\n\u001b[0;32m      4\u001b[0m \u001b[0mevt_data\u001b[0m \u001b[1;33m=\u001b[0m \u001b[0mevt_data\u001b[0m\u001b[1;33m.\u001b[0m\u001b[0mset_index\u001b[0m\u001b[1;33m(\u001b[0m\u001b[1;34m'merge_id'\u001b[0m\u001b[1;33m)\u001b[0m\u001b[1;33m\u001b[0m\u001b[1;33m\u001b[0m\u001b[0m\n\u001b[0;32m      5\u001b[0m \u001b[0mspat_data\u001b[0m \u001b[1;33m=\u001b[0m \u001b[0mspat_data\u001b[0m\u001b[1;33m.\u001b[0m\u001b[0mset_index\u001b[0m\u001b[1;33m(\u001b[0m\u001b[1;34m'merge_id'\u001b[0m\u001b[1;33m)\u001b[0m\u001b[1;33m\u001b[0m\u001b[1;33m\u001b[0m\u001b[0m\n",
      "\u001b[1;32m~\\Anaconda3\\lib\\site-packages\\pandas\\core\\frame.py\u001b[0m in \u001b[0;36mset_index\u001b[1;34m(self, keys, drop, append, inplace, verify_integrity)\u001b[0m\n\u001b[0;32m   3907\u001b[0m                 \u001b[0mnames\u001b[0m\u001b[1;33m.\u001b[0m\u001b[0mappend\u001b[0m\u001b[1;33m(\u001b[0m\u001b[1;32mNone\u001b[0m\u001b[1;33m)\u001b[0m\u001b[1;33m\u001b[0m\u001b[1;33m\u001b[0m\u001b[0m\n\u001b[0;32m   3908\u001b[0m             \u001b[1;32melse\u001b[0m\u001b[1;33m:\u001b[0m\u001b[1;33m\u001b[0m\u001b[1;33m\u001b[0m\u001b[0m\n\u001b[1;32m-> 3909\u001b[1;33m                 \u001b[0mlevel\u001b[0m \u001b[1;33m=\u001b[0m \u001b[0mframe\u001b[0m\u001b[1;33m[\u001b[0m\u001b[0mcol\u001b[0m\u001b[1;33m]\u001b[0m\u001b[1;33m.\u001b[0m\u001b[0m_values\u001b[0m\u001b[1;33m\u001b[0m\u001b[1;33m\u001b[0m\u001b[0m\n\u001b[0m\u001b[0;32m   3910\u001b[0m                 \u001b[0mnames\u001b[0m\u001b[1;33m.\u001b[0m\u001b[0mappend\u001b[0m\u001b[1;33m(\u001b[0m\u001b[0mcol\u001b[0m\u001b[1;33m)\u001b[0m\u001b[1;33m\u001b[0m\u001b[1;33m\u001b[0m\u001b[0m\n\u001b[0;32m   3911\u001b[0m                 \u001b[1;32mif\u001b[0m \u001b[0mdrop\u001b[0m\u001b[1;33m:\u001b[0m\u001b[1;33m\u001b[0m\u001b[1;33m\u001b[0m\u001b[0m\n",
      "\u001b[1;32m~\\Anaconda3\\lib\\site-packages\\pandas\\core\\frame.py\u001b[0m in \u001b[0;36m__getitem__\u001b[1;34m(self, key)\u001b[0m\n\u001b[0;32m   2686\u001b[0m             \u001b[1;32mreturn\u001b[0m \u001b[0mself\u001b[0m\u001b[1;33m.\u001b[0m\u001b[0m_getitem_multilevel\u001b[0m\u001b[1;33m(\u001b[0m\u001b[0mkey\u001b[0m\u001b[1;33m)\u001b[0m\u001b[1;33m\u001b[0m\u001b[1;33m\u001b[0m\u001b[0m\n\u001b[0;32m   2687\u001b[0m         \u001b[1;32melse\u001b[0m\u001b[1;33m:\u001b[0m\u001b[1;33m\u001b[0m\u001b[1;33m\u001b[0m\u001b[0m\n\u001b[1;32m-> 2688\u001b[1;33m             \u001b[1;32mreturn\u001b[0m \u001b[0mself\u001b[0m\u001b[1;33m.\u001b[0m\u001b[0m_getitem_column\u001b[0m\u001b[1;33m(\u001b[0m\u001b[0mkey\u001b[0m\u001b[1;33m)\u001b[0m\u001b[1;33m\u001b[0m\u001b[1;33m\u001b[0m\u001b[0m\n\u001b[0m\u001b[0;32m   2689\u001b[0m \u001b[1;33m\u001b[0m\u001b[0m\n\u001b[0;32m   2690\u001b[0m     \u001b[1;32mdef\u001b[0m \u001b[0m_getitem_column\u001b[0m\u001b[1;33m(\u001b[0m\u001b[0mself\u001b[0m\u001b[1;33m,\u001b[0m \u001b[0mkey\u001b[0m\u001b[1;33m)\u001b[0m\u001b[1;33m:\u001b[0m\u001b[1;33m\u001b[0m\u001b[1;33m\u001b[0m\u001b[0m\n",
      "\u001b[1;32m~\\Anaconda3\\lib\\site-packages\\pandas\\core\\frame.py\u001b[0m in \u001b[0;36m_getitem_column\u001b[1;34m(self, key)\u001b[0m\n\u001b[0;32m   2693\u001b[0m         \u001b[1;31m# get column\u001b[0m\u001b[1;33m\u001b[0m\u001b[1;33m\u001b[0m\u001b[1;33m\u001b[0m\u001b[0m\n\u001b[0;32m   2694\u001b[0m         \u001b[1;32mif\u001b[0m \u001b[0mself\u001b[0m\u001b[1;33m.\u001b[0m\u001b[0mcolumns\u001b[0m\u001b[1;33m.\u001b[0m\u001b[0mis_unique\u001b[0m\u001b[1;33m:\u001b[0m\u001b[1;33m\u001b[0m\u001b[1;33m\u001b[0m\u001b[0m\n\u001b[1;32m-> 2695\u001b[1;33m             \u001b[1;32mreturn\u001b[0m \u001b[0mself\u001b[0m\u001b[1;33m.\u001b[0m\u001b[0m_get_item_cache\u001b[0m\u001b[1;33m(\u001b[0m\u001b[0mkey\u001b[0m\u001b[1;33m)\u001b[0m\u001b[1;33m\u001b[0m\u001b[1;33m\u001b[0m\u001b[0m\n\u001b[0m\u001b[0;32m   2696\u001b[0m \u001b[1;33m\u001b[0m\u001b[0m\n\u001b[0;32m   2697\u001b[0m         \u001b[1;31m# duplicate columns & possible reduce dimensionality\u001b[0m\u001b[1;33m\u001b[0m\u001b[1;33m\u001b[0m\u001b[1;33m\u001b[0m\u001b[0m\n",
      "\u001b[1;32m~\\Anaconda3\\lib\\site-packages\\pandas\\core\\generic.py\u001b[0m in \u001b[0;36m_get_item_cache\u001b[1;34m(self, item)\u001b[0m\n\u001b[0;32m   2487\u001b[0m         \u001b[0mres\u001b[0m \u001b[1;33m=\u001b[0m \u001b[0mcache\u001b[0m\u001b[1;33m.\u001b[0m\u001b[0mget\u001b[0m\u001b[1;33m(\u001b[0m\u001b[0mitem\u001b[0m\u001b[1;33m)\u001b[0m\u001b[1;33m\u001b[0m\u001b[1;33m\u001b[0m\u001b[0m\n\u001b[0;32m   2488\u001b[0m         \u001b[1;32mif\u001b[0m \u001b[0mres\u001b[0m \u001b[1;32mis\u001b[0m \u001b[1;32mNone\u001b[0m\u001b[1;33m:\u001b[0m\u001b[1;33m\u001b[0m\u001b[1;33m\u001b[0m\u001b[0m\n\u001b[1;32m-> 2489\u001b[1;33m             \u001b[0mvalues\u001b[0m \u001b[1;33m=\u001b[0m \u001b[0mself\u001b[0m\u001b[1;33m.\u001b[0m\u001b[0m_data\u001b[0m\u001b[1;33m.\u001b[0m\u001b[0mget\u001b[0m\u001b[1;33m(\u001b[0m\u001b[0mitem\u001b[0m\u001b[1;33m)\u001b[0m\u001b[1;33m\u001b[0m\u001b[1;33m\u001b[0m\u001b[0m\n\u001b[0m\u001b[0;32m   2490\u001b[0m             \u001b[0mres\u001b[0m \u001b[1;33m=\u001b[0m \u001b[0mself\u001b[0m\u001b[1;33m.\u001b[0m\u001b[0m_box_item_values\u001b[0m\u001b[1;33m(\u001b[0m\u001b[0mitem\u001b[0m\u001b[1;33m,\u001b[0m \u001b[0mvalues\u001b[0m\u001b[1;33m)\u001b[0m\u001b[1;33m\u001b[0m\u001b[1;33m\u001b[0m\u001b[0m\n\u001b[0;32m   2491\u001b[0m             \u001b[0mcache\u001b[0m\u001b[1;33m[\u001b[0m\u001b[0mitem\u001b[0m\u001b[1;33m]\u001b[0m \u001b[1;33m=\u001b[0m \u001b[0mres\u001b[0m\u001b[1;33m\u001b[0m\u001b[1;33m\u001b[0m\u001b[0m\n",
      "\u001b[1;32m~\\Anaconda3\\lib\\site-packages\\pandas\\core\\internals.py\u001b[0m in \u001b[0;36mget\u001b[1;34m(self, item, fastpath)\u001b[0m\n\u001b[0;32m   4113\u001b[0m \u001b[1;33m\u001b[0m\u001b[0m\n\u001b[0;32m   4114\u001b[0m             \u001b[1;32mif\u001b[0m \u001b[1;32mnot\u001b[0m \u001b[0misna\u001b[0m\u001b[1;33m(\u001b[0m\u001b[0mitem\u001b[0m\u001b[1;33m)\u001b[0m\u001b[1;33m:\u001b[0m\u001b[1;33m\u001b[0m\u001b[1;33m\u001b[0m\u001b[0m\n\u001b[1;32m-> 4115\u001b[1;33m                 \u001b[0mloc\u001b[0m \u001b[1;33m=\u001b[0m \u001b[0mself\u001b[0m\u001b[1;33m.\u001b[0m\u001b[0mitems\u001b[0m\u001b[1;33m.\u001b[0m\u001b[0mget_loc\u001b[0m\u001b[1;33m(\u001b[0m\u001b[0mitem\u001b[0m\u001b[1;33m)\u001b[0m\u001b[1;33m\u001b[0m\u001b[1;33m\u001b[0m\u001b[0m\n\u001b[0m\u001b[0;32m   4116\u001b[0m             \u001b[1;32melse\u001b[0m\u001b[1;33m:\u001b[0m\u001b[1;33m\u001b[0m\u001b[1;33m\u001b[0m\u001b[0m\n\u001b[0;32m   4117\u001b[0m                 \u001b[0mindexer\u001b[0m \u001b[1;33m=\u001b[0m \u001b[0mnp\u001b[0m\u001b[1;33m.\u001b[0m\u001b[0marange\u001b[0m\u001b[1;33m(\u001b[0m\u001b[0mlen\u001b[0m\u001b[1;33m(\u001b[0m\u001b[0mself\u001b[0m\u001b[1;33m.\u001b[0m\u001b[0mitems\u001b[0m\u001b[1;33m)\u001b[0m\u001b[1;33m)\u001b[0m\u001b[1;33m[\u001b[0m\u001b[0misna\u001b[0m\u001b[1;33m(\u001b[0m\u001b[0mself\u001b[0m\u001b[1;33m.\u001b[0m\u001b[0mitems\u001b[0m\u001b[1;33m)\u001b[0m\u001b[1;33m]\u001b[0m\u001b[1;33m\u001b[0m\u001b[1;33m\u001b[0m\u001b[0m\n",
      "\u001b[1;32m~\\Anaconda3\\lib\\site-packages\\pandas\\core\\indexes\\base.py\u001b[0m in \u001b[0;36mget_loc\u001b[1;34m(self, key, method, tolerance)\u001b[0m\n\u001b[0;32m   3078\u001b[0m                 \u001b[1;32mreturn\u001b[0m \u001b[0mself\u001b[0m\u001b[1;33m.\u001b[0m\u001b[0m_engine\u001b[0m\u001b[1;33m.\u001b[0m\u001b[0mget_loc\u001b[0m\u001b[1;33m(\u001b[0m\u001b[0mkey\u001b[0m\u001b[1;33m)\u001b[0m\u001b[1;33m\u001b[0m\u001b[1;33m\u001b[0m\u001b[0m\n\u001b[0;32m   3079\u001b[0m             \u001b[1;32mexcept\u001b[0m \u001b[0mKeyError\u001b[0m\u001b[1;33m:\u001b[0m\u001b[1;33m\u001b[0m\u001b[1;33m\u001b[0m\u001b[0m\n\u001b[1;32m-> 3080\u001b[1;33m                 \u001b[1;32mreturn\u001b[0m \u001b[0mself\u001b[0m\u001b[1;33m.\u001b[0m\u001b[0m_engine\u001b[0m\u001b[1;33m.\u001b[0m\u001b[0mget_loc\u001b[0m\u001b[1;33m(\u001b[0m\u001b[0mself\u001b[0m\u001b[1;33m.\u001b[0m\u001b[0m_maybe_cast_indexer\u001b[0m\u001b[1;33m(\u001b[0m\u001b[0mkey\u001b[0m\u001b[1;33m)\u001b[0m\u001b[1;33m)\u001b[0m\u001b[1;33m\u001b[0m\u001b[1;33m\u001b[0m\u001b[0m\n\u001b[0m\u001b[0;32m   3081\u001b[0m \u001b[1;33m\u001b[0m\u001b[0m\n\u001b[0;32m   3082\u001b[0m         \u001b[0mindexer\u001b[0m \u001b[1;33m=\u001b[0m \u001b[0mself\u001b[0m\u001b[1;33m.\u001b[0m\u001b[0mget_indexer\u001b[0m\u001b[1;33m(\u001b[0m\u001b[1;33m[\u001b[0m\u001b[0mkey\u001b[0m\u001b[1;33m]\u001b[0m\u001b[1;33m,\u001b[0m \u001b[0mmethod\u001b[0m\u001b[1;33m=\u001b[0m\u001b[0mmethod\u001b[0m\u001b[1;33m,\u001b[0m \u001b[0mtolerance\u001b[0m\u001b[1;33m=\u001b[0m\u001b[0mtolerance\u001b[0m\u001b[1;33m)\u001b[0m\u001b[1;33m\u001b[0m\u001b[1;33m\u001b[0m\u001b[0m\n",
      "\u001b[1;32mpandas\\_libs\\index.pyx\u001b[0m in \u001b[0;36mpandas._libs.index.IndexEngine.get_loc\u001b[1;34m()\u001b[0m\n",
      "\u001b[1;32mpandas\\_libs\\index.pyx\u001b[0m in \u001b[0;36mpandas._libs.index.IndexEngine.get_loc\u001b[1;34m()\u001b[0m\n",
      "\u001b[1;32mpandas\\_libs\\hashtable_class_helper.pxi\u001b[0m in \u001b[0;36mpandas._libs.hashtable.PyObjectHashTable.get_item\u001b[1;34m()\u001b[0m\n",
      "\u001b[1;32mpandas\\_libs\\hashtable_class_helper.pxi\u001b[0m in \u001b[0;36mpandas._libs.hashtable.PyObjectHashTable.get_item\u001b[1;34m()\u001b[0m\n",
      "\u001b[1;31mKeyError\u001b[0m: 'merge_id'"
     ]
    }
   ],
   "source": [
    "# Set unique identifier as index\n",
    "host_data = host_data.set_index('merge_id')\n",
    "rvbsm_data = rvbsm_data.set_index('merge_id')\n",
    "evt_data = evt_data.set_index('merge_id')\n",
    "spat_data = spat_data.set_index('merge_id')\n",
    "\n",
    "evt_data"
   ]
  },
  {
   "cell_type": "code",
   "execution_count": 29,
   "metadata": {
    "scrolled": true
   },
   "outputs": [
    {
     "data": {
      "application/vnd.jupyter.widget-view+json": {
       "model_id": "28e792dade8842acb26170e48db8d527",
       "version_major": 2,
       "version_minor": 0
      },
      "text/plain": [
       "interactive(children=(IntSlider(value=0, description='row', max=2236, step=5), IntSlider(value=0, description=…"
      ]
     },
     "metadata": {},
     "output_type": "display_data"
    },
    {
     "name": "stdout",
     "output_type": "stream",
     "text": [
      "(2236 rows, 59 columns) total\n"
     ]
    }
   ],
   "source": [
    "# Join Tables\n",
    "ht_ = host_data.join(rvbsm_data,lsuffix='_host',rsuffix='_rvbsm').join(evt_data,rsuffix='_evtwarn').join(spat_data,rsuffix='_spat')\n",
    "\n",
    "# View Resulting DataFrame\n",
    "df_interact(ht_)"
   ]
  },
  {
   "cell_type": "code",
   "execution_count": 30,
   "metadata": {},
   "outputs": [
    {
     "name": "stdout",
     "output_type": "stream",
     "text": [
      "<class 'pandas.core.frame.DataFrame'>\n",
      "Index: 2236 entries, 2004_12_20450 to 2004_12_136050\n",
      "Data columns (total 59 columns):\n",
      "Device_host            2236 non-null int64\n",
      "Trip_host              2236 non-null int64\n",
      "Time_host              2236 non-null int64\n",
      "NativeFlag_host        2236 non-null int64\n",
      "LocalTimeMS_host       2236 non-null int64\n",
      "Latitude_host          2236 non-null float64\n",
      "Longitude_host         2236 non-null float64\n",
      "Heading_host           2236 non-null float64\n",
      "GpsSpeed_host          2236 non-null float64\n",
      "BrakeStatus_host       2236 non-null int64\n",
      "Speed                  2236 non-null float64\n",
      "YawRate_host           2236 non-null float64\n",
      "LongAccel_host         2236 non-null float64\n",
      "Distance               2236 non-null float64\n",
      "Device_rvbsm           1503 non-null float64\n",
      "Trip_rvbsm             1503 non-null float64\n",
      "Time_rvbsm             1503 non-null float64\n",
      "NativeFlag_rvbsm       1503 non-null float64\n",
      "LocalTimeMS_rvbsm      1503 non-null float64\n",
      "BasicVehClass          1503 non-null float64\n",
      "Latitude_rvbsm         1503 non-null float64\n",
      "Longitude_rvbsm        1503 non-null float64\n",
      "Heading_rvbsm          1503 non-null float64\n",
      "GpsSpeed_rvbsm         1503 non-null float64\n",
      "BrakeStatus_rvbsm      1503 non-null float64\n",
      "YawRate_rvbsm          1503 non-null float64\n",
      "LongAccel_rvbsm        1503 non-null float64\n",
      "Device                 4 non-null float64\n",
      "Trip                   4 non-null float64\n",
      "Time                   4 non-null float64\n",
      "RvDevice               4 non-null float64\n",
      "NativeFlag             4 non-null float64\n",
      "LocalTimeMS            4 non-null float64\n",
      "RvBasicVehClass        4 non-null float64\n",
      "RvLatitude             4 non-null float64\n",
      "RvLongitude            4 non-null float64\n",
      "RvHeading              4 non-null float64\n",
      "RvSpeed                4 non-null float64\n",
      "RvBrakeStatus          4 non-null float64\n",
      "RvYawRate              4 non-null float64\n",
      "RvLongitudinalAccel    4 non-null float64\n",
      "RvEventFlags           4 non-null float64\n",
      "RvLongOffset           4 non-null float64\n",
      "RvLatOffset            4 non-null float64\n",
      "HvLatitude             4 non-null float64\n",
      "HvLongitude            4 non-null float64\n",
      "HvHeading              4 non-null float64\n",
      "HvSpeed                4 non-null float64\n",
      "HvBrakeStatus          4 non-null float64\n",
      "Device_spat            6 non-null float64\n",
      "Trip_spat              6 non-null float64\n",
      "Time_spat              6 non-null float64\n",
      "NativeFlag_spat        6 non-null float64\n",
      "LocalTimeMS_spat       6 non-null float64\n",
      "IntersectId            6 non-null float64\n",
      "LaneId                 6 non-null float64\n",
      "MovementPhase          6 non-null float64\n",
      "SignalGroupId          6 non-null float64\n",
      "MinEndTime             6 non-null float64\n",
      "dtypes: float64(53), int64(6)\n",
      "memory usage: 1.1+ MB\n"
     ]
    }
   ],
   "source": [
    "# NOTE TO FIX: So many null values...\n",
    "ht_.info()"
   ]
  },
  {
   "cell_type": "markdown",
   "metadata": {},
   "source": [
    "### B) All Trips\n",
    "Using the same method on all the trips at once would generate a massive dataframe that would be difficult to work with. Instead, we do the following:\n",
    "\n",
    "    1. Identify the beginning and end times of each individual event\n",
    "    2. \n",
    "    \n",
    "Erima"
   ]
  },
  {
   "cell_type": "code",
   "execution_count": 18,
   "metadata": {},
   "outputs": [],
   "source": [
    "# To fit with the data dictionary and to prevent confusion, the names used \n",
    "    # for the RvBsm columns will be changed as follows:\n",
    "rvbsm.columns = ['Device', 'Trip', 'Time', 'NativeFlag', 'LocalTimeMS', 'RvBasicVehClass', 'RvLatitude', 'RvLongitude', 'RvHeading', 'RvGpsSpeed', 'RvBrakeStatus', 'RvYawRate', 'RvLongAccel']"
   ]
  },
  {
   "cell_type": "markdown",
   "metadata": {},
   "source": [
    " \\* __Move the following cell to EDA__ \\*"
   ]
  },
  {
   "cell_type": "code",
   "execution_count": 42,
   "metadata": {
    "scrolled": false
   },
   "outputs": [
    {
     "data": {
      "text/html": [
       "<div>\n",
       "<style scoped>\n",
       "    .dataframe tbody tr th:only-of-type {\n",
       "        vertical-align: middle;\n",
       "    }\n",
       "\n",
       "    .dataframe tbody tr th {\n",
       "        vertical-align: top;\n",
       "    }\n",
       "\n",
       "    .dataframe thead th {\n",
       "        text-align: right;\n",
       "    }\n",
       "</style>\n",
       "<table border=\"1\" class=\"dataframe\">\n",
       "  <thead>\n",
       "    <tr style=\"text-align: right;\">\n",
       "      <th></th>\n",
       "      <th>Hazard Lights</th>\n",
       "      <th>Stop Line Violation</th>\n",
       "      <th>ABS Activated</th>\n",
       "      <th>Traction Control Loss</th>\n",
       "      <th>Stability Control Activated</th>\n",
       "      <th>Hazardous Materials</th>\n",
       "      <th>Reserved</th>\n",
       "      <th>Hard Braking</th>\n",
       "      <th>Air Bag Deployed</th>\n",
       "      <th>Count in EvtWarn</th>\n",
       "    </tr>\n",
       "  </thead>\n",
       "  <tbody>\n",
       "    <tr>\n",
       "      <th>0</th>\n",
       "      <td>1</td>\n",
       "      <td>0</td>\n",
       "      <td>0</td>\n",
       "      <td>0</td>\n",
       "      <td>0</td>\n",
       "      <td>0</td>\n",
       "      <td>0</td>\n",
       "      <td>0</td>\n",
       "      <td>0</td>\n",
       "      <td>1093</td>\n",
       "    </tr>\n",
       "    <tr>\n",
       "      <th>128</th>\n",
       "      <td>0</td>\n",
       "      <td>0</td>\n",
       "      <td>0</td>\n",
       "      <td>0</td>\n",
       "      <td>0</td>\n",
       "      <td>0</td>\n",
       "      <td>0</td>\n",
       "      <td>1</td>\n",
       "      <td>0</td>\n",
       "      <td>30</td>\n",
       "    </tr>\n",
       "    <tr>\n",
       "      <th>255</th>\n",
       "      <td>1</td>\n",
       "      <td>1</td>\n",
       "      <td>1</td>\n",
       "      <td>1</td>\n",
       "      <td>1</td>\n",
       "      <td>1</td>\n",
       "      <td>1</td>\n",
       "      <td>1</td>\n",
       "      <td>0</td>\n",
       "      <td>1318</td>\n",
       "    </tr>\n",
       "    <tr>\n",
       "      <th>4096</th>\n",
       "      <td>0</td>\n",
       "      <td>0</td>\n",
       "      <td>0</td>\n",
       "      <td>0</td>\n",
       "      <td>0</td>\n",
       "      <td>0</td>\n",
       "      <td>0</td>\n",
       "      <td>0</td>\n",
       "      <td>1</td>\n",
       "      <td>14</td>\n",
       "    </tr>\n",
       "    <tr>\n",
       "      <th>4224</th>\n",
       "      <td>0</td>\n",
       "      <td>0</td>\n",
       "      <td>0</td>\n",
       "      <td>0</td>\n",
       "      <td>0</td>\n",
       "      <td>0</td>\n",
       "      <td>0</td>\n",
       "      <td>1</td>\n",
       "      <td>1</td>\n",
       "      <td>6</td>\n",
       "    </tr>\n",
       "  </tbody>\n",
       "</table>\n",
       "</div>"
      ],
      "text/plain": [
       "      Hazard Lights  Stop Line Violation  ABS Activated  \\\n",
       "0                 1                    0              0   \n",
       "128               0                    0              0   \n",
       "255               1                    1              1   \n",
       "4096              0                    0              0   \n",
       "4224              0                    0              0   \n",
       "\n",
       "      Traction Control Loss  Stability Control Activated  Hazardous Materials  \\\n",
       "0                         0                            0                    0   \n",
       "128                       0                            0                    0   \n",
       "255                       1                            1                    1   \n",
       "4096                      0                            0                    0   \n",
       "4224                      0                            0                    0   \n",
       "\n",
       "      Reserved  Hard Braking  Air Bag Deployed  Count in EvtWarn  \n",
       "0            0             0                 0              1093  \n",
       "128          0             1                 0                30  \n",
       "255          1             1                 0              1318  \n",
       "4096         0             0                 1                14  \n",
       "4224         0             1                 1                 6  "
      ]
     },
     "execution_count": 42,
     "metadata": {},
     "output_type": "execute_result"
    }
   ],
   "source": [
    "# These are the event flags in our dataset and what they mean:\n",
    "evt_flags = {\n",
    "    'Hazard Lights': [1, 0, 1, 0, 0],\n",
    "    'Stop Line Violation': [0, 0, 1, 0, 0],\n",
    "    'ABS Activated': [0, 0, 1, 0, 0],\n",
    "    'Traction Control Loss': [0, 0, 1, 0, 0],\n",
    "    'Stability Control Activated': [0, 0, 1, 0, 0],\n",
    "    'Hazardous Materials': [0, 0, 1, 0, 0],\n",
    "    'Reserved': [0, 0, 1, 0, 0],\n",
    "    'Hard Braking': [0, 1, 1, 0, 1],\n",
    "    'Air Bag Deployed': [0, 0, 0, 1, 1]\n",
    "    \n",
    "}\n",
    "evt_flags = pd.DataFrame(evt_flags, index = [0, 128, 255, 4096, 4224])\n",
    "evt_flags[\"Count in EvtWarn\"] = evtwarn[\"RvEventFlags\"].value_counts()\n",
    "evt_flags"
   ]
  },
  {
   "cell_type": "code",
   "execution_count": 51,
   "metadata": {},
   "outputs": [
    {
     "data": {
      "text/plain": [
       "['2008_5_255',\n",
       " '2008_8_0',\n",
       " '2527_9_255',\n",
       " '2720_9_0',\n",
       " '2720_11_255',\n",
       " '2004_12_0',\n",
       " '2233_12_255',\n",
       " '2533_14_255',\n",
       " '2969_16_255',\n",
       " '2584_18_0',\n",
       " '2008_20_0',\n",
       " '2331_20_255',\n",
       " '2999_20_0',\n",
       " '2999_24_255',\n",
       " '2008_25_0',\n",
       " '2008_26_0',\n",
       " '2496_29_255',\n",
       " '2527_30_255',\n",
       " '2627_33_255',\n",
       " '2348_35_0',\n",
       " '2720_36_255',\n",
       " '2858_39_0',\n",
       " '2858_39_255',\n",
       " '2584_43_0',\n",
       " '2627_43_0',\n",
       " '2627_43_128',\n",
       " '2496_46_255',\n",
       " '2858_46_255',\n",
       " '2533_47_255',\n",
       " '2858_50_0',\n",
       " '2858_50_255',\n",
       " '2496_52_0',\n",
       " '2858_52_255',\n",
       " '2004_54_255',\n",
       " '2720_54_255',\n",
       " '2004_55_0',\n",
       " '2004_55_255',\n",
       " '2496_55_255',\n",
       " '2627_55_255',\n",
       " '2936_55_255',\n",
       " '2720_56_255',\n",
       " '2999_58_0',\n",
       " '2008_61_0',\n",
       " '2008_61_255',\n",
       " '2941_67_0',\n",
       " '2533_68_255',\n",
       " '2533_70_255',\n",
       " '2017_81_0',\n",
       " '2496_83_255',\n",
       " '2496_94_255',\n",
       " '2496_95_255',\n",
       " '2527_96_0',\n",
       " '2496_99_255',\n",
       " '2999_99_0',\n",
       " '2496_100_0',\n",
       " '2496_100_255',\n",
       " '2496_102_0',\n",
       " '2804_111_0',\n",
       " '2999_113_0',\n",
       " '2720_115_255',\n",
       " '2004_119_128',\n",
       " '2588_122_255',\n",
       " '2527_123_255',\n",
       " '2941_124_0',\n",
       " '2969_129_255',\n",
       " '2331_142_255',\n",
       " '2941_143_0',\n",
       " '2588_144_0',\n",
       " '2533_146_255',\n",
       " '2494_147_0',\n",
       " '2496_147_255',\n",
       " '2720_148_0',\n",
       " '2527_149_255',\n",
       " '2496_154_255',\n",
       " '2147_156_255',\n",
       " '2936_158_0',\n",
       " '2936_158_255',\n",
       " '2107_164_255',\n",
       " '2533_170_255',\n",
       " '2720_171_255',\n",
       " '2941_172_255',\n",
       " '2941_174_0',\n",
       " '2627_175_0',\n",
       " '2588_176_0',\n",
       " '2533_179_255',\n",
       " '2804_179_255',\n",
       " '2147_181_0',\n",
       " '2941_182_0',\n",
       " '2941_182_128',\n",
       " '2804_184_255',\n",
       " '2936_186_0',\n",
       " '2936_186_255',\n",
       " '2936_187_255',\n",
       " '2720_188_255',\n",
       " '2331_189_255',\n",
       " '2494_192_255',\n",
       " '2147_198_0',\n",
       " '2936_199_0',\n",
       " '2936_199_255',\n",
       " '2999_199_255',\n",
       " '2936_201_255',\n",
       " '2533_204_255',\n",
       " '2720_210_4096',\n",
       " '2720_210_4224',\n",
       " '2218_213_0',\n",
       " '2533_213_255',\n",
       " '2331_215_255',\n",
       " '2533_215_255',\n",
       " '2559_215_0',\n",
       " '2969_223_0',\n",
       " '2584_224_255',\n",
       " '2218_240_255',\n",
       " '2494_241_0',\n",
       " '2969_241_255',\n",
       " '2584_244_255',\n",
       " '2584_246_255',\n",
       " '2999_249_0',\n",
       " '2496_261_255',\n",
       " '2804_261_255',\n",
       " '2233_276_0',\n",
       " '2533_285_255',\n",
       " '2720_285_255',\n",
       " '2331_298_255',\n",
       " '2017_301_0',\n",
       " '2107_301_255',\n",
       " '2720_304_255',\n",
       " '2804_304_255',\n",
       " '2720_307_255',\n",
       " '2496_315_0',\n",
       " '2496_315_255',\n",
       " '2533_317_255',\n",
       " '2588_319_0',\n",
       " '2331_323_255',\n",
       " '2720_328_255',\n",
       " '2496_334_255',\n",
       " '2627_334_255',\n",
       " '2218_336_0',\n",
       " '2584_340_255',\n",
       " '2720_345_255',\n",
       " '2936_347_0',\n",
       " '2936_347_255',\n",
       " '2720_348_255',\n",
       " '2533_349_255',\n",
       " '2804_349_255',\n",
       " '2533_354_0',\n",
       " '2533_356_255',\n",
       " '2720_365_0',\n",
       " '2533_370_255',\n",
       " '2720_370_255',\n",
       " '2496_372_255',\n",
       " '2494_379_255',\n",
       " '2331_380_255',\n",
       " '2720_384_255',\n",
       " '2936_384_255',\n",
       " '2720_389_255',\n",
       " '2331_393_255',\n",
       " '2627_395_255',\n",
       " '2494_398_0',\n",
       " '2584_402_0',\n",
       " '2936_412_255',\n",
       " '2496_414_255',\n",
       " '2494_416_255',\n",
       " '2496_420_255',\n",
       " '2496_422_0',\n",
       " '2496_422_255',\n",
       " '2496_424_255',\n",
       " '2233_427_0',\n",
       " '2584_427_0',\n",
       " '2533_428_255',\n",
       " '2496_442_0',\n",
       " '2496_442_255',\n",
       " '2533_442_255',\n",
       " '2496_444_0',\n",
       " '2496_444_255',\n",
       " '2496_445_0',\n",
       " '2496_445_255',\n",
       " '2496_447_255',\n",
       " '2496_450_255',\n",
       " '2720_452_255',\n",
       " '2584_455_255',\n",
       " '2496_460_0',\n",
       " '2496_461_0',\n",
       " '2496_461_255',\n",
       " '2720_470_0',\n",
       " '2720_475_0',\n",
       " '2494_476_0',\n",
       " '2494_476_128',\n",
       " '2496_484_0',\n",
       " '2496_493_255',\n",
       " '2584_495_255',\n",
       " '2584_502_255',\n",
       " '2999_508_255',\n",
       " '2999_526_255',\n",
       " '2804_540_0',\n",
       " '2533_541_255',\n",
       " '2496_568_255',\n",
       " '2496_571_0',\n",
       " '2584_574_255',\n",
       " '2496_583_0',\n",
       " '2496_588_0',\n",
       " '2496_589_0',\n",
       " '2533_613_0',\n",
       " '2720_637_0',\n",
       " '2496_658_255',\n",
       " '2720_673_255',\n",
       " '2496_683_255',\n",
       " '2496_688_255',\n",
       " '2936_689_0',\n",
       " '2496_705_255',\n",
       " '2496_711_0',\n",
       " '2496_711_255',\n",
       " '2496_712_0',\n",
       " '2496_712_255',\n",
       " '2496_733_0',\n",
       " '2936_759_0',\n",
       " '2936_760_0',\n",
       " '2936_760_255',\n",
       " '2936_783_255',\n",
       " '2533_820_255',\n",
       " '2533_841_0',\n",
       " '2533_991_255',\n",
       " '2533_1218_0']"
      ]
     },
     "execution_count": 51,
     "metadata": {},
     "output_type": "execute_result"
    }
   ],
   "source": [
    "list(evt_times.index)"
   ]
  },
  {
   "cell_type": "code",
   "execution_count": 53,
   "metadata": {},
   "outputs": [
    {
     "name": "stdout",
     "output_type": "stream",
     "text": [
      "working on host...\n",
      " column added. \n",
      "resetting index...\n",
      " index reset\n",
      "working on rvbsm ...\n",
      " column added. \n",
      "resetting index...\n",
      " index reset\n",
      "working on evtwarn...\n",
      " column added. \n",
      "resetting index...\n",
      " index reset\n",
      "working on  spat...\n",
      " column added. \n",
      "resetting index...\n",
      " index reset\n"
     ]
    }
   ],
   "source": [
    "print(\"working on host...\")\n",
    "host['unique_trip'] = host['Device'].astype(str) +'_'+ host['Trip'].astype(str) +'-'+ host['Time'].astype(str)\n",
    "print(' column added. \\nresetting index...')\n",
    "host = host.set_index('unique_trip')\n",
    "print(' index reset')\n",
    "\n",
    "print(\"working on rvbsm ...\")\n",
    "rvbsm['unique_trip'] = rvbsm['Device'].astype(str) +'_'+ rvbsm['Trip'].astype(str)+'-'+ rvbsm['Time'].astype(str)\n",
    "print(' column added. \\nresetting index...')\n",
    "rvbsm = rvbsm.set_index('unique_trip')\n",
    "print(' index reset')\n",
    "\n",
    "print(\"working on evtwarn...\")\n",
    "evtwarn['unique_trip'] = evtwarn['Device'].astype(str) +'_'+ evtwarn['Trip'].astype(str)+'-'+ evtwarn['Time'].astype(str)\n",
    "print(' column added. \\nresetting index...')\n",
    "evtwarn = evtwarn.set_index('unique_trip')\n",
    "print(' index reset')\n",
    "\n",
    "print(\"working on  spat...\")\n",
    "spat['unique_trip'] = spat['Device'].astype(str) +'_'+ spat['Trip'].astype(str)+'-'+ spat['Time'].astype(str)\n",
    "print(' column added. \\nresetting index...')\n",
    "spat = spat.set_index('unique_trip')\n",
    "print(' index reset')"
   ]
  },
  {
   "cell_type": "code",
   "execution_count": 38,
   "metadata": {},
   "outputs": [
    {
     "data": {
      "text/plain": [
       "Index(['Device', 'Trip', 'Time', 'RvDevice', 'NativeFlag', 'LocalTimeMS',\n",
       "       'RvBasicVehClass', 'RvLatitude', 'RvLongitude', 'RvHeading', 'RvSpeed',\n",
       "       'RvBrakeStatus', 'RvYawRate', 'RvLongitudinalAccel', 'RvEventFlags',\n",
       "       'RvLongOffset', 'RvLatOffset', 'HvLatitude', 'HvLongitude', 'HvHeading',\n",
       "       'HvSpeed', 'HvBrakeStatus', 'unique_trip'],\n",
       "      dtype='object')"
      ]
     },
     "execution_count": 38,
     "metadata": {},
     "output_type": "execute_result"
    }
   ],
   "source": [
    "# find the min and max times of an event\n",
    "host['is_event'] = "
   ]
  },
  {
   "cell_type": "markdown",
   "metadata": {},
   "source": [
    "def col_added_message(df, col):\n",
    "    if col in list(df.columns):\n",
    "        print(col, 'successfully added')\n",
    "\n",
    "print(\"working on host...\")\n",
    "host['merge_id'] = host['Device'].astype(str) +'_'+ host['Trip'].astype(str)  +'_'+ host['Time'].astype(str)\n",
    "col_added_message(host, 'merge_id')\n",
    "\n",
    "rvbsm['merge_id'] = rvbsm['Device'].astype(str) +'_'+ rvbsm['Trip'].astype(str)  +'_'+ rvbsm['Time'].astype(str)\n",
    "col_added_message(rvbsm, 'merge_id')\n",
    "\n",
    "evtwarn['merge_id'] = evtwarn['Device'].astype(str) +'_'+ evtwarn['Trip'].astype(str)  +'_'+ evtwarn['Time'].astype(str)\n",
    "col_added_message(rvbsm, 'merge_id')\n",
    "\n",
    "spat['merge_id'] = spat['Device'].astype(str) +'_'+ spat['Trip'].astype(str)  +'_'+ spat['Time'].astype(str)\n",
    "col_added_message(rvbsm, 'merge_id')\n",
    "\n",
    "# Set unique identifier as index\n",
    "print(\"changing host index...\")\n",
    "host = host.set_index('merge_id')\n",
    "\n",
    "print(\"changing rvbsm index...\")\n",
    "rvbsm = rvbsm.set_index('merge_id')\n",
    "\n",
    "print(\"changing evtwarn index...\")\n",
    "evtwarn = evtwarn.set_index('merge_id')\n",
    "\n",
    "print(\"changing spat index...\")\n",
    "spat = spat.set_index('merge_id')\n",
    "print('done!')\n",
    "\n",
    "host.columns\n",
    "\n",
    "# Join Tables\n",
    "ht_ = host.join(rvbsm,lsuffix='_host',rsuffix='_rvbsm').join(evtwarn,rsuffix='_evtwarn').join(spat,rsuffix='_spat')\n",
    "\n",
    "# View Resulting DataFrame\n",
    "df_interact(ht_)\n",
    "\n",
    "# NOTE TO FIX: So many null values...\n",
    "ht_.info()"
   ]
  },
  {
   "cell_type": "markdown",
   "metadata": {},
   "source": [
    "## Part 3: Analyze Reaction\n",
    "\n",
    "In this section, we analyze the reactions by the host driver when a warning is sent. First we will define a function that determines whether the host vehicle's brake status changes after a message is recieved. "
   ]
  },
  {
   "cell_type": "code",
   "execution_count": null,
   "metadata": {},
   "outputs": [],
   "source": []
  },
  {
   "cell_type": "code",
   "execution_count": 98,
   "metadata": {},
   "outputs": [],
   "source": [
    "# To try on a different trip change these values\n",
    "test_device = 2004\n",
    "test_trip = 12\n",
    "\n",
    "EvtWarn_mini = EvtWarn[(EvtWarn[\"Device\"] == test_device) & (EvtWarn[\"Trip\"] == test_trip)]\n",
    "Host_mini = Host[(Host[\"Device\"] == test_device) & (Host[\"Trip\"] == test_trip)]\n",
    "RvBsm_mini = RvBsm[(RvBsm[\"Device\"] == test_device) & (RvBsm[\"Trip\"] == test_trip)]"
   ]
  },
  {
   "cell_type": "markdown",
   "metadata": {},
   "source": [
    "#### Test EvtWarn"
   ]
  },
  {
   "cell_type": "code",
   "execution_count": 47,
   "metadata": {},
   "outputs": [
    {
     "data": {
      "application/vnd.jupyter.widget-view+json": {
       "model_id": "23862eab34814a55ba3755c198de1265",
       "version_major": 2,
       "version_minor": 0
      },
      "text/plain": [
       "interactive(children=(IntSlider(value=0, description='row', max=4, step=5), IntSlider(value=0, description='co…"
      ]
     },
     "metadata": {},
     "output_type": "display_data"
    },
    {
     "name": "stdout",
     "output_type": "stream",
     "text": [
      "(4 rows, 23 columns) total\n"
     ]
    }
   ],
   "source": [
    "df_interact(EvtWarn_mini)"
   ]
  },
  {
   "cell_type": "code",
   "execution_count": null,
   "metadata": {},
   "outputs": [],
   "source": []
  },
  {
   "cell_type": "markdown",
   "metadata": {},
   "source": [
    "#### Test Host"
   ]
  },
  {
   "cell_type": "code",
   "execution_count": 42,
   "metadata": {},
   "outputs": [
    {
     "data": {
      "application/vnd.jupyter.widget-view+json": {
       "model_id": "d98bbb43804241a78618fbb07af958ca",
       "version_major": 2,
       "version_minor": 0
      },
      "text/plain": [
       "interactive(children=(IntSlider(value=0, description='row', max=2236, step=5), IntSlider(value=0, description=…"
      ]
     },
     "metadata": {},
     "output_type": "display_data"
    },
    {
     "name": "stdout",
     "output_type": "stream",
     "text": [
      "(2236 rows, 15 columns) total\n"
     ]
    }
   ],
   "source": [
    "df_interact(Host_mini)"
   ]
  },
  {
   "cell_type": "markdown",
   "metadata": {},
   "source": [
    "#### Test RvBsm"
   ]
  },
  {
   "cell_type": "code",
   "execution_count": 43,
   "metadata": {},
   "outputs": [
    {
     "data": {
      "application/vnd.jupyter.widget-view+json": {
       "model_id": "cb3d44c4659742ba83d0e9fc5d88ca86",
       "version_major": 2,
       "version_minor": 0
      },
      "text/plain": [
       "interactive(children=(IntSlider(value=0, description='row', max=1503, step=5), IntSlider(value=0, description=…"
      ]
     },
     "metadata": {},
     "output_type": "display_data"
    },
    {
     "name": "stdout",
     "output_type": "stream",
     "text": [
      "(1503 rows, 14 columns) total\n"
     ]
    }
   ],
   "source": [
    "df_interact(RvBsm_mini)"
   ]
  },
  {
   "cell_type": "code",
   "execution_count": 31,
   "metadata": {},
   "outputs": [],
   "source": [
    "EvtWarn[\"DeviceTrip\"] = EvtWarn[\"Device\"] * 10000 + EvtWarn[\"Trip\"]\n",
    "Host[\"DeviceTrip\"] = Host[\"Device\"] * 10000 + EvtWarn[\"Trip\"]\n",
    "RvBsm[\"DeviceTrip\"] = RvBsm[\"Device\"] * 10000 + EvtWarn[\"Trip\"]"
   ]
  },
  {
   "cell_type": "code",
   "execution_count": 33,
   "metadata": {},
   "outputs": [
    {
     "data": {
      "application/vnd.jupyter.widget-view+json": {
       "model_id": "b42aaffc514442c0a6d668cb81ff9984",
       "version_major": 2,
       "version_minor": 0
      },
      "text/plain": [
       "interactive(children=(IntSlider(value=0, description='row', max=9817, step=5), IntSlider(value=0, description=…"
      ]
     },
     "metadata": {},
     "output_type": "display_data"
    },
    {
     "name": "stdout",
     "output_type": "stream",
     "text": [
      "(9817 rows, 36 columns) total\n"
     ]
    }
   ],
   "source": [
    "Evt_BSM = pd.merge(EvtWarn, RvBsm, on = 'DeviceTrip', how = 'inner')\n",
    "df_interact(Evt_BSM)"
   ]
  },
  {
   "cell_type": "code",
   "execution_count": 65,
   "metadata": {},
   "outputs": [
    {
     "data": {
      "text/plain": [
       "Index(['Device', 'Trip', 'Time', 'RvDevice', 'NativeFlag', 'LocalTimeMS',\n",
       "       'PsId', 'RvBasicVehClass', 'RvRandomId', 'AlertLevel', 'EventAppId',\n",
       "       'RvClass', 'RvLatitude', 'RvLongitude', 'RvHeading', 'RvElevation',\n",
       "       'RvSpeed', 'RvBrakeStatus', 'RvYawRate', 'RvLongitudinalAccel',\n",
       "       'RvTurnSignal', 'RvEventFlags', 'RvRange', 'RvRangeRate',\n",
       "       'RvLongOffset', 'RvLatOffset', 'HvLatitude', 'HvLongitude', 'HvHeading',\n",
       "       'HvElevation', 'HvSpeed', 'HvBrakeStatus', 'HvYawRate',\n",
       "       'HvLongitudinalAccel', 'HvTurnSignal'],\n",
       "      dtype='object')"
      ]
     },
     "execution_count": 65,
     "metadata": {},
     "output_type": "execute_result"
    }
   ],
   "source": [
    "evtwarn = pd.read_csv(\"../Data/EvtWarn.csv\")\n",
    "evtwarn.columns"
   ]
  },
  {
   "cell_type": "code",
   "execution_count": 75,
   "metadata": {},
   "outputs": [
    {
     "data": {
      "text/plain": [
       "58"
      ]
     },
     "execution_count": 75,
     "metadata": {},
     "output_type": "execute_result"
    }
   ],
   "source": [
    "evtwarn[evtwarn['EventAppId']== 1].groupby(['Device', 'Trip']).count()['Time'].sum()\n"
   ]
  },
  {
   "cell_type": "code",
   "execution_count": null,
   "metadata": {},
   "outputs": [],
   "source": []
  }
 ],
 "metadata": {
  "kernelspec": {
   "display_name": "Python 3",
   "language": "python",
   "name": "python3"
  },
  "language_info": {
   "codemirror_mode": {
    "name": "ipython",
    "version": 3
   },
   "file_extension": ".py",
   "mimetype": "text/x-python",
   "name": "python",
   "nbconvert_exporter": "python",
   "pygments_lexer": "ipython3",
   "version": "3.7.1"
  }
 },
 "nbformat": 4,
 "nbformat_minor": 2
}
