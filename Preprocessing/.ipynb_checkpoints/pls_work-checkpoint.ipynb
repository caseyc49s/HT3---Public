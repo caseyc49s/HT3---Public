{
 "cells": [
  {
   "cell_type": "code",
   "execution_count": 1,
   "metadata": {},
   "outputs": [],
   "source": [
    "import pandas as pd\n",
    "alertl = pd.read_csv('HACKATHON_DB/AlertLevel.csv')\n",
    "rvbsm = pd.read_csv('HACKATHON_DB/RvBsm.csv')\n",
    "summary = pd.read_csv('HACKATHON_DB/Summary.csv')\n",
    "eventappid = pd.read_csv('HACKATHON_DB/EventAppID.csv')\n",
    "host = pd.read_csv('HACKATHON_DB/Host.csv')\n",
    "rvzone = pd.read_csv('HACKATHON_DB/RvZone.csv')\n",
    "evtwarn = pd.read_csv('HACKATHON_DB/EvtWarn.csv')\n",
    "vehclass = pd.read_csv('HACKATHON_DB/RvBasicVehClass.csv')\n",
    "spat = pd.read_csv('HACKATHON_DB/Spat.csv')"
   ]
  },
  {
   "cell_type": "code",
   "execution_count": 2,
   "metadata": {},
   "outputs": [],
   "source": [
    "pd.set_option('display.max_columns', 500)\n",
    "pd.set_option('display.max_rows', 100)"
   ]
  },
  {
   "cell_type": "code",
   "execution_count": 3,
   "metadata": {},
   "outputs": [],
   "source": [
    "# unique device and trip : loop over summary \n",
    "device = 2004\n",
    "trip = 12"
   ]
  },
  {
   "cell_type": "code",
   "execution_count": 7,
   "metadata": {},
   "outputs": [],
   "source": [
    "# add unique identifer to join tables on: format: device_trip_time\n",
    "host['merge_id'] = host['Device'].astype(str) +'_'+ host['Trip'].astype(str)  +'_'+ host['Time'].astype(str)\n",
    "rvbsm['merge_id'] = rvbsm['Device'].astype(str) +'_'+ rvbsm['Trip'].astype(str)  +'_'+ rvbsm['Time'].astype(str)\n",
    "evtwarn['merge_id'] = evtwarn['Device'].astype(str) +'_'+ evtwarn['Trip'].astype(str)  +'_'+ evtwarn['Time'].astype(str)\n",
    "spat['merge_id'] = spat['Device'].astype(str) +'_'+ spat['Trip'].astype(str)  +'_'+ spat['Time'].astype(str)"
   ]
  },
  {
   "cell_type": "code",
   "execution_count": 8,
   "metadata": {},
   "outputs": [],
   "source": [
    "# update index to unique identifiers for the tables\n",
    "host= host.set_index('merge_id')\n",
    "rvbsm = rvbsm.set_index('merge_id')\n",
    "evtwarn = evtwarn.set_index('merge_id')\n",
    "spat = spat.set_index('merge_id')"
   ]
  },
  {
   "cell_type": "code",
   "execution_count": 9,
   "metadata": {},
   "outputs": [
    {
     "name": "stderr",
     "output_type": "stream",
     "text": [
      "ERROR:root:Internal Python error in the inspect module.\n",
      "Below is the traceback from this internal error.\n",
      "\n"
     ]
    },
    {
     "name": "stdout",
     "output_type": "stream",
     "text": [
      "Traceback (most recent call last):\n",
      "  File \"C:\\Users\\george\\Anaconda3\\lib\\site-packages\\IPython\\core\\interactiveshell.py\", line 3296, in run_code\n",
      "    exec(code_obj, self.user_global_ns, self.user_ns)\n",
      "  File \"<ipython-input-9-7702bdfed38c>\", line 2, in <module>\n",
      "    ht_ = host.join(rvbsm,lsuffix='_host',rsuffix='_rvbsm').join(evtwarn,rsuffix='_evtwarn').join(spat,rsuffix='_spat')\n",
      "  File \"C:\\Users\\george\\Anaconda3\\lib\\site-packages\\pandas\\core\\frame.py\", line 6815, in join\n",
      "    rsuffix=rsuffix, sort=sort)\n",
      "  File \"C:\\Users\\george\\Anaconda3\\lib\\site-packages\\pandas\\core\\frame.py\", line 6830, in _join_compat\n",
      "    suffixes=(lsuffix, rsuffix), sort=sort)\n",
      "  File \"C:\\Users\\george\\Anaconda3\\lib\\site-packages\\pandas\\core\\reshape\\merge.py\", line 48, in merge\n",
      "    return op.get_result()\n",
      "  File \"C:\\Users\\george\\Anaconda3\\lib\\site-packages\\pandas\\core\\reshape\\merge.py\", line 546, in get_result\n",
      "    join_index, left_indexer, right_indexer = self._get_join_info()\n",
      "  File \"C:\\Users\\george\\Anaconda3\\lib\\site-packages\\pandas\\core\\reshape\\merge.py\", line 744, in _get_join_info\n",
      "    sort=self.sort)\n",
      "  File \"C:\\Users\\george\\Anaconda3\\lib\\site-packages\\pandas\\core\\indexes\\base.py\", line 3290, in join\n",
      "    elif not self.is_unique or not other.is_unique:\n",
      "KeyboardInterrupt\n",
      "\n",
      "During handling of the above exception, another exception occurred:\n",
      "\n",
      "Traceback (most recent call last):\n",
      "  File \"C:\\Users\\george\\Anaconda3\\lib\\site-packages\\IPython\\core\\interactiveshell.py\", line 2033, in showtraceback\n",
      "    stb = value._render_traceback_()\n",
      "AttributeError: 'KeyboardInterrupt' object has no attribute '_render_traceback_'\n",
      "\n",
      "During handling of the above exception, another exception occurred:\n",
      "\n",
      "Traceback (most recent call last):\n",
      "  File \"C:\\Users\\george\\Anaconda3\\lib\\site-packages\\IPython\\core\\ultratb.py\", line 1095, in get_records\n",
      "    return _fixed_getinnerframes(etb, number_of_lines_of_context, tb_offset)\n",
      "  File \"C:\\Users\\george\\Anaconda3\\lib\\site-packages\\IPython\\core\\ultratb.py\", line 313, in wrapped\n",
      "    return f(*args, **kwargs)\n",
      "  File \"C:\\Users\\george\\Anaconda3\\lib\\site-packages\\IPython\\core\\ultratb.py\", line 347, in _fixed_getinnerframes\n",
      "    records = fix_frame_records_filenames(inspect.getinnerframes(etb, context))\n",
      "  File \"C:\\Users\\george\\Anaconda3\\lib\\inspect.py\", line 1502, in getinnerframes\n",
      "    frameinfo = (tb.tb_frame,) + getframeinfo(tb, context)\n",
      "  File \"C:\\Users\\george\\Anaconda3\\lib\\inspect.py\", line 1464, in getframeinfo\n",
      "    lines, lnum = findsource(frame)\n",
      "  File \"C:\\Users\\george\\Anaconda3\\lib\\site-packages\\IPython\\core\\ultratb.py\", line 167, in findsource\n",
      "    file = getsourcefile(object) or getfile(object)\n",
      "  File \"C:\\Users\\george\\Anaconda3\\lib\\inspect.py\", line 693, in getsourcefile\n",
      "    if os.path.exists(filename):\n",
      "  File \"C:\\Users\\george\\Anaconda3\\lib\\genericpath.py\", line 19, in exists\n",
      "    os.stat(path)\n",
      "KeyboardInterrupt\n"
     ]
    },
    {
     "ename": "KeyboardInterrupt",
     "evalue": "",
     "output_type": "error",
     "traceback": [
      "\u001b[1;31m---------------------------------------------------------------------------\u001b[0m"
     ]
    }
   ],
   "source": [
    "# join the tables\n",
    "ht_ = host.join(rvbsm,lsuffix='_host',rsuffix='_rvbsm').join(evtwarn,rsuffix='_evtwarn').join(spat,rsuffix='_spat')"
   ]
  },
  {
   "cell_type": "code",
   "execution_count": 17,
   "metadata": {},
   "outputs": [],
   "source": [
    "# save it as a trip (probably)\n",
    "ht_.to_csv('trip0.csv')"
   ]
  }
 ],
 "metadata": {
  "kernelspec": {
   "display_name": "Python 3",
   "language": "python",
   "name": "python3"
  },
  "language_info": {
   "codemirror_mode": {
    "name": "ipython",
    "version": 3
   },
   "file_extension": ".py",
   "mimetype": "text/x-python",
   "name": "python",
   "nbconvert_exporter": "python",
   "pygments_lexer": "ipython3",
   "version": "3.7.3"
  }
 },
 "nbformat": 4,
 "nbformat_minor": 2
}
