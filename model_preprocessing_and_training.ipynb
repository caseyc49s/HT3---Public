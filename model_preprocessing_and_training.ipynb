{
  "nbformat": 4,
  "nbformat_minor": 0,
  "metadata": {
    "colab": {
      "name": "model_preprocessing_and_training",
      "version": "0.3.2",
      "provenance": [],
      "collapsed_sections": []
    },
    "language_info": {
      "codemirror_mode": {
        "name": "ipython",
        "version": 3
      },
      "file_extension": ".py",
      "mimetype": "text/x-python",
      "name": "python",
      "nbconvert_exporter": "python",
      "pygments_lexer": "ipython3",
      "version": "3.6.7"
    },
    "kernelspec": {
      "display_name": "data-x",
      "language": "python",
      "name": "data-x"
    },
    "accelerator": "TPU"
  },
  "cells": [
    {
      "cell_type": "code",
      "metadata": {
        "colab_type": "code",
        "outputId": "14d1b7e8-3521-455b-83a4-033aaf738cec",
        "id": "2PEvyVbzU4DL",
        "colab": {
          "base_uri": "https://localhost:8080/",
          "height": 68
        }
      },
      "source": [
        ""
      ],
      "execution_count": 0,
      "outputs": [
        {
          "output_type": "execute_result",
          "data": {
            "text/plain": [
              "1    106\n",
              "0     31\n",
              "Name: reactiveness, dtype: int64"
            ]
          },
          "metadata": {
            "tags": []
          },
          "execution_count": 16
        }
      ]
    },
    {
      "cell_type": "markdown",
      "metadata": {
        "id": "ODlJUWtCoVue",
        "colab_type": "text"
      },
      "source": [
        "# Data Exploration and Preprocessing"
      ]
    },
    {
      "cell_type": "code",
      "metadata": {
        "id": "gy9nCPBnlYf9",
        "colab_type": "code",
        "colab": {}
      },
      "source": [
        "import numpy as np"
      ],
      "execution_count": 0,
      "outputs": []
    },
    {
      "cell_type": "code",
      "metadata": {
        "id": "w_AQ4JCioc-c",
        "colab_type": "code",
        "outputId": "4b75b073-7601-48ea-c3ad-840f93317c29",
        "colab": {
          "base_uri": "https://localhost:8080/",
          "height": 121
        }
      },
      "source": [
        "from google.colab import drive\n",
        "drive.mount('/content/drive')"
      ],
      "execution_count": 0,
      "outputs": [
        {
          "output_type": "stream",
          "text": [
            "Go to this URL in a browser: https://accounts.google.com/o/oauth2/auth?client_id=947318989803-6bn6qk8qdgf4n4g3pfee6491hc0brc4i.apps.googleusercontent.com&redirect_uri=urn%3Aietf%3Awg%3Aoauth%3A2.0%3Aoob&scope=email%20https%3A%2F%2Fwww.googleapis.com%2Fauth%2Fdocs.test%20https%3A%2F%2Fwww.googleapis.com%2Fauth%2Fdrive%20https%3A%2F%2Fwww.googleapis.com%2Fauth%2Fdrive.photos.readonly%20https%3A%2F%2Fwww.googleapis.com%2Fauth%2Fpeopleapi.readonly&response_type=code\n",
            "\n",
            "Enter your authorization code:\n",
            "··········\n",
            "Mounted at /content/drive\n"
          ],
          "name": "stdout"
        }
      ]
    },
    {
      "cell_type": "code",
      "metadata": {
        "id": "AUtu95KFopXv",
        "colab_type": "code",
        "colab": {}
      },
      "source": [
        "import os\n",
        "os.chdir(\"/content/drive/My Drive\")"
      ],
      "execution_count": 0,
      "outputs": []
    },
    {
      "cell_type": "code",
      "metadata": {
        "id": "_zwBiRxPoVui",
        "colab_type": "code",
        "colab": {}
      },
      "source": [
        "import pandas as pd\n",
        "#alertl = pd.read_csv('drive/My Drive/AlertLevel.csv')\n",
        "rvbsm = pd.read_csv('RvBsm.csv')\n",
        "#summary = pd.read_csv('drive/My Drive/Summary.csv')\n",
        "#eventappid = pd.read_csv('drive/My Drive/EventAppID.csv')\n",
        "host = pd.read_csv('Host.csv')\n",
        "#rvzone = pd.read_csv('drive/My Drive/RvZone.csv')\n",
        "evtwarn = pd.read_csv('EvtWarn.csv')\n",
        "#vehclass = pd.read_csv('drive/My Drive/RvBasicVehClass.csv')\n",
        "#spat = pd.read_csv('Spat.csv')"
      ],
      "execution_count": 0,
      "outputs": []
    },
    {
      "cell_type": "markdown",
      "metadata": {
        "id": "wDJiSR65oVvm",
        "colab_type": "text"
      },
      "source": [
        "ht_.dropna(thresh=50)"
      ]
    },
    {
      "cell_type": "code",
      "metadata": {
        "id": "F5preubwoVv0",
        "colab_type": "code",
        "outputId": "4daded00-1363-4350-bd73-75183ce86f26",
        "colab": {
          "base_uri": "https://localhost:8080/",
          "height": 232
        }
      },
      "source": [
        "# get unique trip and device. ignore consecutive events with interval less than 2.5s\n",
        "ignore_interval = 2.5 * 100\n",
        "e_  = pd.DataFrame(columns=evt_.columns)\n",
        "i_ = 0\n",
        "for i, row in evt_.iterrows():\n",
        "    if i_==0:\n",
        "        e_.loc[i_] = row\n",
        "        i_+=1\n",
        "    else:\n",
        "        if ((i-1 in evt_.index) and (evt_.loc[i]['Trip']==evt_.loc[i-1]['Trip']) \\\n",
        "        and (evt_.loc[i]['Device']==evt_.loc[i-1]['Device']) and (evt_.loc[i]['Time']-evt_.loc[i-1]['Time']<=ignore_interval)):\n",
        "            pass\n",
        "        else:\n",
        "            e_.loc[i_] = row\n",
        "            i_+=1\n",
        "            "
      ],
      "execution_count": 0,
      "outputs": [
        {
          "output_type": "error",
          "ename": "NameError",
          "evalue": "ignored",
          "traceback": [
            "\u001b[0;31m---------------------------------------------------------------------------\u001b[0m",
            "\u001b[0;31mNameError\u001b[0m                                 Traceback (most recent call last)",
            "\u001b[0;32m<ipython-input-7-c32701a749c5>\u001b[0m in \u001b[0;36m<module>\u001b[0;34m()\u001b[0m\n\u001b[1;32m      1\u001b[0m \u001b[0mignore_interval\u001b[0m \u001b[0;34m=\u001b[0m \u001b[0;36m2.5\u001b[0m \u001b[0;34m*\u001b[0m \u001b[0;36m100\u001b[0m\u001b[0;34m\u001b[0m\u001b[0;34m\u001b[0m\u001b[0m\n\u001b[0;32m----> 2\u001b[0;31m \u001b[0me_\u001b[0m  \u001b[0;34m=\u001b[0m \u001b[0mpd\u001b[0m\u001b[0;34m.\u001b[0m\u001b[0mDataFrame\u001b[0m\u001b[0;34m(\u001b[0m\u001b[0mcolumns\u001b[0m\u001b[0;34m=\u001b[0m\u001b[0mevt_\u001b[0m\u001b[0;34m.\u001b[0m\u001b[0mcolumns\u001b[0m\u001b[0;34m)\u001b[0m\u001b[0;34m\u001b[0m\u001b[0;34m\u001b[0m\u001b[0m\n\u001b[0m\u001b[1;32m      3\u001b[0m \u001b[0mi_\u001b[0m \u001b[0;34m=\u001b[0m \u001b[0;36m0\u001b[0m\u001b[0;34m\u001b[0m\u001b[0;34m\u001b[0m\u001b[0m\n\u001b[1;32m      4\u001b[0m \u001b[0;32mfor\u001b[0m \u001b[0mi\u001b[0m\u001b[0;34m,\u001b[0m \u001b[0mrow\u001b[0m \u001b[0;32min\u001b[0m \u001b[0mevt_\u001b[0m\u001b[0;34m.\u001b[0m\u001b[0miterrows\u001b[0m\u001b[0;34m(\u001b[0m\u001b[0;34m)\u001b[0m\u001b[0;34m:\u001b[0m\u001b[0;34m\u001b[0m\u001b[0;34m\u001b[0m\u001b[0m\n\u001b[1;32m      5\u001b[0m     \u001b[0;32mif\u001b[0m \u001b[0mi_\u001b[0m\u001b[0;34m==\u001b[0m\u001b[0;36m0\u001b[0m\u001b[0;34m:\u001b[0m\u001b[0;34m\u001b[0m\u001b[0;34m\u001b[0m\u001b[0m\n",
            "\u001b[0;31mNameError\u001b[0m: name 'evt_' is not defined"
          ]
        }
      ]
    },
    {
      "cell_type": "code",
      "metadata": {
        "id": "1hvippGBoVv5",
        "colab_type": "code",
        "colab": {}
      },
      "source": [
        "# e_.loc[0]['Time']-list(host[(host['Device']==e_.loc[0]['Device']) & (host['Trip']==e_.loc[0]['Trip']) & (host['Time']>e_.loc[0]['Time']) & (host['Time']<(e_.loc[0]['Time']+6000)) & (host['BrakeStatus']==1)]['Time'])[0]"
      ],
      "execution_count": 0,
      "outputs": []
    },
    {
      "cell_type": "code",
      "metadata": {
        "id": "cM9UR_EloVv-",
        "colab_type": "code",
        "colab": {}
      },
      "source": [
        "# new table with unique warings\n",
        "e_.head()"
      ],
      "execution_count": 0,
      "outputs": []
    },
    {
      "cell_type": "code",
      "metadata": {
        "id": "GAHx8lpPoVwC",
        "colab_type": "code",
        "colab": {}
      },
      "source": [
        "# calculate reaction time using host table . max look for 60s\n",
        "max_look_time = 60 * 100\n",
        "reactiveness = pd.DataFrame(columns=['Device','Trip','ReactionTime','Time'])\n",
        "for i,row in e_.iterrows():\n",
        "    rt = list(host[(host['Device']==row['Device']) & (host['Trip']==row['Trip']) & (host['Time']>row['Time']) & (host['Time']<(row['Time']+max_look_time)) & (host['BrakeStatus']==1)]['Time'])\n",
        "    if len(rt)>0:\n",
        "        rt=(rt[0]-row['Time'])/100\n",
        "    else:\n",
        "        rt=-1\n",
        "    reactiveness.loc[i]=[row['Device'],row['Trip'],rt,row['Time']]"
      ],
      "execution_count": 0,
      "outputs": []
    },
    {
      "cell_type": "code",
      "metadata": {
        "id": "GRKz72TgoVwJ",
        "colab_type": "code",
        "colab": {}
      },
      "source": [
        "reactiveness"
      ],
      "execution_count": 0,
      "outputs": []
    },
    {
      "cell_type": "code",
      "metadata": {
        "id": "Xi-VPgnzoVwP",
        "colab_type": "code",
        "colab": {}
      },
      "source": [
        "evtwarn['EventAppId'].value_counts()"
      ],
      "execution_count": 0,
      "outputs": []
    },
    {
      "cell_type": "code",
      "metadata": {
        "id": "8zbQJ6OsoVwU",
        "colab_type": "code",
        "colab": {}
      },
      "source": [
        "evt_ = evtwarn[(evtwarn['EventAppId'] == 0)]\n",
        "ignore_interval = 2.5 * 100\n",
        "e_  = pd.DataFrame(columns=evt_.columns)\n",
        "i_ = 0\n",
        "for i, row in evt_.iterrows():\n",
        "    if i_==0:\n",
        "        e_.loc[i_] = row\n",
        "        i_+=1\n",
        "    else:\n",
        "        if ((i-1 in evt_.index) and (evt_.loc[i]['Trip']==evt_.loc[i-1]['Trip']) \\\n",
        "        and (evt_.loc[i]['Device']==evt_.loc[i-1]['Device']) and (evt_.loc[i]['Time']-evt_.loc[i-1]['Time']<=ignore_interval)):\n",
        "            pass\n",
        "        else:\n",
        "            e_.loc[i_] = row\n",
        "            i_+=1\n",
        "max_look_time = 60 * 100\n",
        "reactiveness = pd.DataFrame(columns=['Device','Trip','ReactionTime','Time'])\n",
        "for i,row in e_.iterrows():\n",
        "    rt = list(host[(host['Device']==row['Device']) & (host['Trip']==row['Trip']) & (host['Time']>row['Time']) & (host['Time']<(row['Time']+max_look_time)) & (host['BrakeStatus']==1)]['Time'])\n",
        "    if len(rt)>0:\n",
        "        rt=(rt[0]-row['Time'])/100\n",
        "    else:\n",
        "        rt=-1\n",
        "    reactiveness.loc[i]=[row['Device'],row['Trip'],rt,row['Time']]\n",
        "reactiveness"
      ],
      "execution_count": 0,
      "outputs": []
    },
    {
      "cell_type": "code",
      "metadata": {
        "id": "-mjMfyEAoVwY",
        "colab_type": "code",
        "colab": {}
      },
      "source": [
        "evt_ = evtwarn[(evtwarn['EventAppId'] == 1)]\n",
        "ignore_interval = 2.5 * 100\n",
        "e_  = pd.DataFrame(columns=evt_.columns)\n",
        "i_ = 0\n",
        "for i, row in evt_.iterrows():\n",
        "    if i_==0:\n",
        "        e_.loc[i_] = row\n",
        "        i_+=1\n",
        "    else:\n",
        "        if ((i-1 in evt_.index) and (evt_.loc[i]['Trip']==evt_.loc[i-1]['Trip']) \\\n",
        "        and (evt_.loc[i]['Device']==evt_.loc[i-1]['Device']) and (evt_.loc[i]['Time']-evt_.loc[i-1]['Time']<=ignore_interval)):\n",
        "            pass\n",
        "        else:\n",
        "            e_.loc[i_] = row\n",
        "            i_+=1\n",
        "max_look_time = 60 * 100\n",
        "reactiveness = pd.DataFrame(columns=['Device','Trip','ReactionTime','Time'])\n",
        "for i,row in e_.iterrows():\n",
        "    rt = list(host[(host['Device']==row['Device']) & (host['Trip']==row['Trip']) & (host['Time']>row['Time']) & (host['Time']<(row['Time']+max_look_time)) & (host['BrakeStatus']==1)]['Time'])\n",
        "    if len(rt)>0:\n",
        "        rt=(rt[0]-row['Time'])/100\n",
        "    else:\n",
        "        rt=-1\n",
        "    reactiveness.loc[i]=[row['Device'],row['Trip'],rt,row['Time']]\n",
        "reactiveness"
      ],
      "execution_count": 0,
      "outputs": []
    },
    {
      "cell_type": "code",
      "metadata": {
        "id": "EFZ6nTh9oVwc",
        "colab_type": "code",
        "colab": {}
      },
      "source": [
        "evt_ = evtwarn[(evtwarn['EventAppId'] == 3)]\n",
        "ignore_interval = 2.5 * 100\n",
        "e_  = pd.DataFrame(columns=evt_.columns)\n",
        "i_ = 0\n",
        "for i, row in evt_.iterrows():\n",
        "    if i_==0:\n",
        "        e_.loc[i_] = row\n",
        "        i_+=1\n",
        "    else:\n",
        "        if ((i-1 in evt_.index) and (evt_.loc[i]['Trip']==evt_.loc[i-1]['Trip']) \\\n",
        "        and (evt_.loc[i]['Device']==evt_.loc[i-1]['Device']) and (evt_.loc[i]['Time']-evt_.loc[i-1]['Time']<=ignore_interval)):\n",
        "            pass\n",
        "        else:\n",
        "            e_.loc[i_] = row\n",
        "            i_+=1\n",
        "max_look_time = 60 * 100\n",
        "reactiveness = pd.DataFrame(columns=['Device','Trip','ReactionTime','Time'])\n",
        "for i,row in e_.iterrows():\n",
        "    rt = list(host[(host['Device']==row['Device']) & (host['Trip']==row['Trip']) & (host['Time']>row['Time']) & (host['Time']<(row['Time']+max_look_time)) & (host['BrakeStatus']==1)]['Time'])\n",
        "    if len(rt)>0:\n",
        "        rt=(rt[0]-row['Time'])/100\n",
        "    else:\n",
        "        rt=-1\n",
        "    reactiveness.loc[i]=[row['Device'],row['Trip'],rt,row['Time']]\n",
        "reactiveness"
      ],
      "execution_count": 0,
      "outputs": []
    },
    {
      "cell_type": "code",
      "metadata": {
        "id": "kMNKca7CoVwg",
        "colab_type": "code",
        "colab": {}
      },
      "source": [
        "evt_ = evtwarn[(evtwarn['EventAppId'] == 9)]\n",
        "ignore_interval = 2.5 * 100\n",
        "e_  = pd.DataFrame(columns=evt_.columns)\n",
        "i_ = 0\n",
        "for i, row in evt_.iterrows():\n",
        "    if i_==0:\n",
        "        e_.loc[i_] = row\n",
        "        i_+=1\n",
        "    else:\n",
        "        if ((i-1 in evt_.index) and (evt_.loc[i]['Trip']==evt_.loc[i-1]['Trip']) \\\n",
        "        and (evt_.loc[i]['Device']==evt_.loc[i-1]['Device']) and (evt_.loc[i]['Time']-evt_.loc[i-1]['Time']<=ignore_interval)):\n",
        "            pass\n",
        "        else:\n",
        "            e_.loc[i_] = row\n",
        "            i_+=1\n",
        "max_look_time = 60 * 100\n",
        "reactiveness = pd.DataFrame(columns=['Device','Trip','ReactionTime','Time'])\n",
        "for i,row in e_.iterrows():\n",
        "    rt = list(host[(host['Device']==row['Device']) & (host['Trip']==row['Trip']) & (host['Time']>row['Time']) & (host['Time']<(row['Time']+max_look_time)) & (host['BrakeStatus']==1)]['Time'])\n",
        "    if len(rt)>0:\n",
        "        rt=(rt[0]-row['Time'])/100\n",
        "    else:\n",
        "        rt=-1\n",
        "    reactiveness.loc[i]=[row['Device'],row['Trip'],rt,row['Time']]\n",
        "reactiveness"
      ],
      "execution_count": 0,
      "outputs": []
    },
    {
      "cell_type": "code",
      "metadata": {
        "id": "vmcRuPOHoVwo",
        "colab_type": "code",
        "colab": {}
      },
      "source": [
        "evt_ = evtwarn[(evtwarn['EventAppId'] == 10)]\n",
        "ignore_interval = 2.5 * 100\n",
        "e_  = pd.DataFrame(columns=evt_.columns)\n",
        "i_ = 0\n",
        "for i, row in evt_.iterrows():\n",
        "    if i_==0:\n",
        "        e_.loc[i_] = row\n",
        "        i_+=1\n",
        "    else:\n",
        "        if ((i-1 in evt_.index) and (evt_.loc[i]['Trip']==evt_.loc[i-1]['Trip']) \\\n",
        "        and (evt_.loc[i]['Device']==evt_.loc[i-1]['Device']) and (evt_.loc[i]['Time']-evt_.loc[i-1]['Time']<=ignore_interval)):\n",
        "            pass\n",
        "        else:\n",
        "            e_.loc[i_] = row\n",
        "            i_+=1\n",
        "max_look_time = 60 * 100\n",
        "reactiveness = pd.DataFrame(columns=['Device','Trip','ReactionTime','Time'])\n",
        "for i,row in e_.iterrows():\n",
        "    rt = list(host[(host['Device']==row['Device']) & (host['Trip']==row['Trip']) & (host['Time']>row['Time']) & (host['Time']<(row['Time']+max_look_time)) & (host['BrakeStatus']==1)]['Time'])\n",
        "    if len(rt)>0:\n",
        "        rt=(rt[0]-row['Time'])/100\n",
        "    else:\n",
        "        rt=-1\n",
        "    reactiveness.loc[i]=[row['Device'],row['Trip'],rt,row['Time']]\n",
        "reactiveness"
      ],
      "execution_count": 0,
      "outputs": []
    },
    {
      "cell_type": "code",
      "metadata": {
        "id": "2x9wlsANoVwv",
        "colab_type": "code",
        "colab": {}
      },
      "source": [
        "evt_ = evtwarn[(evtwarn['EventAppId'] == 11)]\n",
        "ignore_interval = 2.5 * 100\n",
        "e_  = pd.DataFrame(columns=evt_.columns)\n",
        "i_ = 0\n",
        "for i, row in evt_.iterrows():\n",
        "    if i_==0:\n",
        "        e_.loc[i_] = row\n",
        "        i_+=1\n",
        "    else:\n",
        "        if ((i-1 in evt_.index) and (evt_.loc[i]['Trip']==evt_.loc[i-1]['Trip']) \\\n",
        "        and (evt_.loc[i]['Device']==evt_.loc[i-1]['Device']) and (evt_.loc[i]['Time']-evt_.loc[i-1]['Time']<=ignore_interval)):\n",
        "            pass\n",
        "        else:\n",
        "            e_.loc[i_] = row\n",
        "            i_+=1\n",
        "max_look_time = 60 * 100\n",
        "reactiveness = pd.DataFrame(columns=['Device','Trip','ReactionTime','Time'])\n",
        "for i,row in e_.iterrows():\n",
        "    rt = list(host[(host['Device']==row['Device']) & (host['Trip']==row['Trip']) & (host['Time']>row['Time']) & (host['Time']<(row['Time']+max_look_time)) & (host['BrakeStatus']==1)]['Time'])\n",
        "    if len(rt)>0:\n",
        "        rt=(rt[0]-row['Time'])/100\n",
        "    else:\n",
        "        rt=-1\n",
        "    reactiveness.loc[i]=[row['Device'],row['Trip'],rt,row['Time']]\n",
        "reactiveness"
      ],
      "execution_count": 0,
      "outputs": []
    },
    {
      "cell_type": "code",
      "metadata": {
        "id": "KJl625jRoVwz",
        "colab_type": "code",
        "colab": {}
      },
      "source": [
        "evt_ = evtwarn[(evtwarn['EventAppId'] == 12)]\n",
        "ignore_interval = 2.5 * 100\n",
        "e_  = pd.DataFrame(columns=evt_.columns)\n",
        "i_ = 0\n",
        "for i, row in evt_.iterrows():\n",
        "    if i_==0:\n",
        "        e_.loc[i_] = row\n",
        "        i_+=1\n",
        "    else:\n",
        "        if ((i-1 in evt_.index) and (evt_.loc[i]['Trip']==evt_.loc[i-1]['Trip']) \\\n",
        "        and (evt_.loc[i]['Device']==evt_.loc[i-1]['Device']) and (evt_.loc[i]['Time']-evt_.loc[i-1]['Time']<=ignore_interval)):\n",
        "            pass\n",
        "        else:\n",
        "            e_.loc[i_] = row\n",
        "            i_+=1\n",
        "max_look_time = 60 * 100\n",
        "reactiveness = pd.DataFrame(columns=['Device','Trip','ReactionTime','Time'])\n",
        "for i,row in e_.iterrows():\n",
        "    rt = list(host[(host['Device']==row['Device']) & (host['Trip']==row['Trip']) & (host['Time']>row['Time']) & (host['Time']<(row['Time']+max_look_time)) & (host['BrakeStatus']==1)]['Time'])\n",
        "    if len(rt)>0:\n",
        "        rt=(rt[0]-row['Time'])/100\n",
        "    else:\n",
        "        rt=-1\n",
        "    reactiveness.loc[i]=[row['Device'],row['Trip'],rt,row['Time']]\n",
        "reactiveness"
      ],
      "execution_count": 0,
      "outputs": []
    },
    {
      "cell_type": "markdown",
      "metadata": {
        "id": "n6v9rDonoVw3",
        "colab_type": "text"
      },
      "source": [
        "# Train an RNN+LSTM Model\n",
        "Prepare training data and train"
      ]
    },
    {
      "cell_type": "code",
      "metadata": {
        "id": "FZOY4sljoVw4",
        "colab_type": "code",
        "colab": {}
      },
      "source": [
        "import pandas as pd\n",
        "#alertl = pd.read_csv('AlertLevel.csv')\n",
        "rvbsm = pd.read_csv('RvBsm.csv')\n",
        "#summary = pd.read_csv('Summary.csv')\n",
        "#eventappid = pd.read_csv('EventAppID.csv')\n",
        "host = pd.read_csv('Host.csv')\n",
        "#rvzone = pd.read_csv('RvZone.csv')\n",
        "evtwarn = pd.read_csv('EvtWarn.csv')\n",
        "#vehclass = pd.read_csv('RvBasicVehClass.csv')\n",
        "#spat = pd.read_csv('Spat.csv')"
      ],
      "execution_count": 0,
      "outputs": []
    },
    {
      "cell_type": "code",
      "metadata": {
        "id": "JDqgdEpEUuq4",
        "colab_type": "code",
        "colab": {}
      },
      "source": [
        "evtwarn['Time'] = evtwarn['Time'].astype(str).str.replace(',','').astype('int64')\n",
        "evtwarn['Device'] = evtwarn['Device'].astype(str).str.replace(',','').astype('int64')\n",
        "evtwarn['Trip'] = evtwarn['Trip'].astype(str).str.replace(',','').astype('int64')"
      ],
      "execution_count": 0,
      "outputs": []
    },
    {
      "cell_type": "code",
      "metadata": {
        "id": "_lC5zU-aoVw8",
        "colab_type": "code",
        "outputId": "8ed545df-d17a-4a1d-ff88-fe24abd2ace2",
        "colab": {
          "base_uri": "https://localhost:8080/",
          "height": 195
        }
      },
      "source": [
        "evt_ = evtwarn[(evtwarn['EventAppId'] == 2)]\n",
        "ignore_interval = 2.5 * 100\n",
        "e_  = pd.DataFrame(columns=evt_.columns)\n",
        "i_ = 0\n",
        "for i, row in evt_.iterrows():\n",
        "    if i_==0:\n",
        "        e_.loc[i_] = row\n",
        "        i_+=1\n",
        "    else:\n",
        "        if ((i-1 in evt_.index) and (evt_.loc[i]['Trip']==evt_.loc[i-1]['Trip']) \\\n",
        "        and (evt_.loc[i]['Device']==evt_.loc[i-1]['Device']) and (evt_.loc[i]['Time']-evt_.loc[i-1]['Time']<=ignore_interval)):\n",
        "            pass\n",
        "        else:\n",
        "            e_.loc[i_] = row\n",
        "            i_+=1\n",
        "max_look_time = 60 * 100\n",
        "reactiveness = pd.DataFrame(columns=['Device','Trip','ReactionTime','Time'])\n",
        "for i,row in e_.iterrows():\n",
        "    rt = list(host[(host['Device']==row['Device']) & (host['Trip']==row['Trip']) & (host['Time']>row['Time']) & (host['Time']<(row['Time']+max_look_time)) & (host['BrakeStatus']==1)]['Time'])\n",
        "    if len(rt)>0:\n",
        "        rt=(rt[0]-row['Time'])/100\n",
        "    else:\n",
        "        rt=-1\n",
        "    reactiveness.loc[i]=[row['Device'],row['Trip'],rt,row['Time']]\n",
        "reactiveness.head()"
      ],
      "execution_count": 0,
      "outputs": [
        {
          "output_type": "execute_result",
          "data": {
            "text/html": [
              "<div>\n",
              "<style scoped>\n",
              "    .dataframe tbody tr th:only-of-type {\n",
              "        vertical-align: middle;\n",
              "    }\n",
              "\n",
              "    .dataframe tbody tr th {\n",
              "        vertical-align: top;\n",
              "    }\n",
              "\n",
              "    .dataframe thead th {\n",
              "        text-align: right;\n",
              "    }\n",
              "</style>\n",
              "<table border=\"1\" class=\"dataframe\">\n",
              "  <thead>\n",
              "    <tr style=\"text-align: right;\">\n",
              "      <th></th>\n",
              "      <th>Device</th>\n",
              "      <th>Trip</th>\n",
              "      <th>ReactionTime</th>\n",
              "      <th>Time</th>\n",
              "    </tr>\n",
              "  </thead>\n",
              "  <tbody>\n",
              "    <tr>\n",
              "      <th>0</th>\n",
              "      <td>2004.0</td>\n",
              "      <td>54.0</td>\n",
              "      <td>6.0</td>\n",
              "      <td>109450.0</td>\n",
              "    </tr>\n",
              "    <tr>\n",
              "      <th>1</th>\n",
              "      <td>2004.0</td>\n",
              "      <td>55.0</td>\n",
              "      <td>10.0</td>\n",
              "      <td>9800.0</td>\n",
              "    </tr>\n",
              "    <tr>\n",
              "      <th>2</th>\n",
              "      <td>2008.0</td>\n",
              "      <td>61.0</td>\n",
              "      <td>0.5</td>\n",
              "      <td>222650.0</td>\n",
              "    </tr>\n",
              "    <tr>\n",
              "      <th>3</th>\n",
              "      <td>2147.0</td>\n",
              "      <td>156.0</td>\n",
              "      <td>0.5</td>\n",
              "      <td>136900.0</td>\n",
              "    </tr>\n",
              "    <tr>\n",
              "      <th>4</th>\n",
              "      <td>2331.0</td>\n",
              "      <td>20.0</td>\n",
              "      <td>0.5</td>\n",
              "      <td>194450.0</td>\n",
              "    </tr>\n",
              "  </tbody>\n",
              "</table>\n",
              "</div>"
            ],
            "text/plain": [
              "   Device   Trip  ReactionTime      Time\n",
              "0  2004.0   54.0           6.0  109450.0\n",
              "1  2004.0   55.0          10.0    9800.0\n",
              "2  2008.0   61.0           0.5  222650.0\n",
              "3  2147.0  156.0           0.5  136900.0\n",
              "4  2331.0   20.0           0.5  194450.0"
            ]
          },
          "metadata": {
            "tags": []
          },
          "execution_count": 8
        }
      ]
    },
    {
      "cell_type": "code",
      "metadata": {
        "colab_type": "code",
        "id": "Z4QElF0gU3dp",
        "colab": {}
      },
      "source": [
        "# label reactiveness : less that 1sec as 1\n",
        "reactiveness['reactiveness'] = reactiveness['ReactionTime'].map(lambda x: 1 if abs(x)<1 else 0)"
      ],
      "execution_count": 0,
      "outputs": []
    },
    {
      "cell_type": "code",
      "metadata": {
        "id": "21dMugmboVxV",
        "colab_type": "code",
        "colab": {}
      },
      "source": [
        "# Features: ['BrakeStatus','Speed','ThrottlePosPct', 'StreerAngle']\n",
        "# get features from host table into x_train, calculate max len of the \n",
        "x_train = []\n",
        "y_train = []\n",
        "max_len = -float('inf')\n",
        "\n",
        "for i,row in reactiveness.iterrows():\n",
        "    x=(host[(host['Device']==row['Device']) & (host['Trip']==row['Trip'])][['BrakeStatus','Speed','ThrottlePosPct','SteerAngle', 'LongAccel']]).values\n",
        "    if len(x)>=max_len:\n",
        "        max_len = len(x)\n",
        "    x_train.append(x)\n",
        "    y_train.append(row['reactiveness'])"
      ],
      "execution_count": 0,
      "outputs": []
    },
    {
      "cell_type": "code",
      "metadata": {
        "id": "BuZKXcYfXD60",
        "colab_type": "code",
        "colab": {}
      },
      "source": [
        ""
      ],
      "execution_count": 0,
      "outputs": []
    },
    {
      "cell_type": "code",
      "metadata": {
        "id": "x57Uy9g5oVxZ",
        "colab_type": "code",
        "colab": {}
      },
      "source": [
        "# create same length by appending zeros\n",
        "import numpy as np\n",
        "x_t = []\n",
        "for x in x_train:\n",
        "    zeros = np.zeros((max_len-len(x),5))\n",
        "    x_t.append(np.append(x,zeros,axis=0))"
      ],
      "execution_count": 0,
      "outputs": []
    },
    {
      "cell_type": "code",
      "metadata": {
        "id": "d70mPpE0yr3S",
        "colab_type": "code",
        "colab": {}
      },
      "source": [
        "#create train, val sets\n",
        "from sklearn.model_selection import train_test_split\n",
        "x_train_res, x_val_res, y_train_res, y_val_res = train_test_split(np.array(x_t), np.array(y_train),\n",
        "                                                  test_size = .1,\n",
        "                                                  random_state=12)"
      ],
      "execution_count": 0,
      "outputs": []
    },
    {
      "cell_type": "code",
      "metadata": {
        "id": "7VA-wqVN0L3X",
        "colab_type": "code",
        "colab": {}
      },
      "source": [
        "#imbalance data handling, only for x_train\n",
        "from imblearn.over_sampling import SMOTENC\n",
        "smote_nc = SMOTENC(categorical_features=[0], random_state=0)\n",
        "flat_x = x_train_res.reshape([x_train_res.shape[0],51700])\n",
        "    #temp_x, temp_y = sm.fit_sample(flat_trip, np.array([reactiveness]))\n",
        "temp_x, temp_y = smote_nc.fit_sample(flat_x, y_train_res)"
      ],
      "execution_count": 0,
      "outputs": []
    },
    {
      "cell_type": "code",
      "metadata": {
        "id": "qd1kqtGWwU-0",
        "colab_type": "code",
        "outputId": "aae4ef5f-7dc8-4a35-fc60-10bfa85b774a",
        "colab": {
          "base_uri": "https://localhost:8080/",
          "height": 34
        }
      },
      "source": [
        "x_trai"
      ],
      "execution_count": 0,
      "outputs": [
        {
          "output_type": "execute_result",
          "data": {
            "text/plain": [
              "(160, 5)"
            ]
          },
          "metadata": {
            "tags": []
          },
          "execution_count": 31
        }
      ]
    },
    {
      "cell_type": "code",
      "metadata": {
        "id": "Eq20Vw0soVxc",
        "colab_type": "code",
        "colab": {}
      },
      "source": [
        "#unflatten data:\n",
        "x_ = temp_x.reshape([temp_x.shape[0],10340,5])\n",
        "#set y = the y with more data points\n",
        "y_ = temp_y\n",
        "from sklearn.utils import shuffle\n",
        "x_, y_ = shuffle(x_, y_, random_state=0)"
      ],
      "execution_count": 0,
      "outputs": []
    },
    {
      "cell_type": "code",
      "metadata": {
        "id": "0nczRh9avdd7",
        "colab_type": "code",
        "colab": {}
      },
      "source": [
        "def normalize(x, num_features):\n",
        "  #where x is a col\n",
        "  #axis = \n",
        "  maxval = x.max(axis = (0,1))\n",
        "  minval = x.min(axis = (0,1))\n",
        "  for i in np.arange(num_features):\n",
        "    x[:,:,i:i+1] = (x[:,:,i:i+1]-minval[i])/(maxval[i]-minval[i])\n",
        "  return x"
      ],
      "execution_count": 0,
      "outputs": []
    },
    {
      "cell_type": "code",
      "metadata": {
        "id": "9wcPeChzwz3E",
        "colab_type": "code",
        "colab": {}
      },
      "source": [
        "a = np.array([[[1.0,2.0],\n",
        "              [3.0,4.0]],\n",
        "             [[5.0,6.0],\n",
        "              [7.0,8.0]]])\n",
        "#normalize\n",
        "import numpy as np"
      ],
      "execution_count": 0,
      "outputs": []
    },
    {
      "cell_type": "code",
      "metadata": {
        "id": "tRdCSsZIoT9c",
        "colab_type": "code",
        "outputId": "add686d1-a856-42d6-ca12-b1747101e764",
        "colab": {
          "base_uri": "https://localhost:8080/",
          "height": 101
        }
      },
      "source": [
        "#try normalizing array of only 1's...\n",
        "b = np.array([[[1.0,2.0],\n",
        "              [0.0,4.0]],\n",
        "             [[0.0,6.0],\n",
        "              [1.0,1.0]]])\n",
        "normalize(b,2)"
      ],
      "execution_count": 0,
      "outputs": [
        {
          "output_type": "execute_result",
          "data": {
            "text/plain": [
              "array([[[1. , 0.2],\n",
              "        [0. , 0.6]],\n",
              "\n",
              "       [[0. , 1. ],\n",
              "        [1. , 0. ]]])"
            ]
          },
          "metadata": {
            "tags": []
          },
          "execution_count": 115
        }
      ]
    },
    {
      "cell_type": "code",
      "metadata": {
        "id": "WK4yh2Bm58Vx",
        "colab_type": "code",
        "outputId": "15da3269-e500-407f-d2d7-2bd6d2835c1d",
        "colab": {
          "base_uri": "https://localhost:8080/",
          "height": 101
        }
      },
      "source": [
        "#https://stackoverflow.com/questions/42460217/how-to-normalize-a-4d-numpy-array\n",
        "#how to noramlize on a 3d dataset"
      ],
      "execution_count": 0,
      "outputs": [
        {
          "output_type": "execute_result",
          "data": {
            "text/plain": [
              "array([[[0., 0.],\n",
              "        [0., 0.]],\n",
              "\n",
              "       [[1., 1.],\n",
              "        [1., 1.]]])"
            ]
          },
          "metadata": {
            "tags": []
          },
          "execution_count": 22
        }
      ]
    },
    {
      "cell_type": "code",
      "metadata": {
        "id": "BjQtmi8qu3BP",
        "colab_type": "code",
        "outputId": "7bc654ed-55f9-4435-9d42-ae1d03f574a7",
        "colab": {
          "base_uri": "https://localhost:8080/",
          "height": 34
        }
      },
      "source": [
        "c = x_[:,:,:1]\n",
        "c[c <.5].shape\n",
        "c[c>.5].shape"
      ],
      "execution_count": 0,
      "outputs": [
        {
          "output_type": "execute_result",
          "data": {
            "text/plain": [
              "(180367,)"
            ]
          },
          "metadata": {
            "tags": []
          },
          "execution_count": 18
        }
      ]
    },
    {
      "cell_type": "code",
      "metadata": {
        "id": "TSiJW6LvzV8O",
        "colab_type": "code",
        "outputId": "2401aab1-8a6a-4cca-f43e-7717ba136378",
        "colab": {
          "base_uri": "https://localhost:8080/",
          "height": 840
        }
      },
      "source": [
        "#normalize\n",
        "normalize(x_,5)\n"
      ],
      "execution_count": 0,
      "outputs": [
        {
          "output_type": "execute_result",
          "data": {
            "text/plain": [
              "array([[[0.        , 0.27678134, 0.        , 0.50724882, 0.68533332],\n",
              "        [0.        , 0.27678134, 0.        , 0.49483433, 0.67466665],\n",
              "        [0.        , 0.27183993, 0.        , 0.49159699, 0.67466665],\n",
              "        ...,\n",
              "        [0.        , 0.        , 0.        , 0.49815612, 0.68041236],\n",
              "        [0.        , 0.        , 0.        , 0.49815612, 0.68041236],\n",
              "        [0.        , 0.        , 0.        , 0.49815612, 0.68041236]],\n",
              "\n",
              "       [[0.        , 0.31179107, 0.10548281, 0.51250025, 0.70621892],\n",
              "        [0.        , 0.31261635, 0.06592676, 0.50239077, 0.70029898],\n",
              "        [0.        , 0.30876086, 0.0263707 , 0.49544537, 0.68226142],\n",
              "        ...,\n",
              "        [0.        , 0.        , 0.        , 0.49815612, 0.68041236],\n",
              "        [0.        , 0.        , 0.        , 0.49815612, 0.68041236],\n",
              "        [0.        , 0.        , 0.        , 0.49815612, 0.68041236]],\n",
              "\n",
              "       [[0.        , 0.35187899, 0.03703704, 0.49556625, 0.66133332],\n",
              "        [0.        , 0.3477306 , 0.01851852, 0.49581961, 0.65466665],\n",
              "        [0.        , 0.34352124, 0.01851852, 0.49581961, 0.66533332],\n",
              "        ...,\n",
              "        [0.        , 0.        , 0.        , 0.49815612, 0.68041236],\n",
              "        [0.        , 0.        , 0.        , 0.49815612, 0.68041236],\n",
              "        [0.        , 0.        , 0.        , 0.49815612, 0.68041236]],\n",
              "\n",
              "       ...,\n",
              "\n",
              "       [[0.        , 0.2748902 , 0.05555556, 0.48957014, 0.67333332],\n",
              "        [0.        , 0.27641532, 0.11111111, 0.48858486, 0.67333332],\n",
              "        [0.        , 0.27909956, 0.12962963, 0.48883822, 0.67333332],\n",
              "        ...,\n",
              "        [0.        , 0.        , 0.        , 0.49815612, 0.68041236],\n",
              "        [0.        , 0.        , 0.        , 0.49815612, 0.68041236],\n",
              "        [0.        , 0.        , 0.        , 0.49815612, 0.68041236]],\n",
              "\n",
              "       [[0.        , 0.3793314 , 0.2037037 , 0.49781831, 0.64399999],\n",
              "        [0.        , 0.38317472, 0.18518519, 0.49660783, 0.64399999],\n",
              "        [0.        , 0.38469984, 0.14814815, 0.4954255 , 0.66399999],\n",
              "        ...,\n",
              "        [0.        , 0.        , 0.        , 0.49815612, 0.68041236],\n",
              "        [0.        , 0.        , 0.        , 0.49815612, 0.68041236],\n",
              "        [0.        , 0.        , 0.        , 0.49815612, 0.68041236]],\n",
              "\n",
              "       [[0.        , 0.43175901, 0.16671194, 0.49856414, 0.50513716],\n",
              "        [0.        , 0.43175901, 0.16671194, 0.49856414, 0.50513716],\n",
              "        [0.        , 0.43175901, 0.16671194, 0.49856414, 0.50513716],\n",
              "        ...,\n",
              "        [0.        , 0.        , 0.        , 0.49815612, 0.68041236],\n",
              "        [0.        , 0.        , 0.        , 0.49815612, 0.68041236],\n",
              "        [0.        , 0.        , 0.        , 0.49815612, 0.68041236]]])"
            ]
          },
          "metadata": {
            "tags": []
          },
          "execution_count": 21
        }
      ]
    },
    {
      "cell_type": "code",
      "metadata": {
        "id": "C2jx3JHCnD7v",
        "colab_type": "code",
        "colab": {}
      },
      "source": [
        "x_[:,:,:1][x_[:,:,:1]>.5] = 1\n",
        "x_[:,:,:1][x_[:,:,:1]<=.5] = 0"
      ],
      "execution_count": 0,
      "outputs": []
    },
    {
      "cell_type": "code",
      "metadata": {
        "id": "rjHHc0cbyT9G",
        "colab_type": "code",
        "outputId": "ed79344f-a965-410c-dd97-3ef16ed4f3e0",
        "colab": {
          "base_uri": "https://localhost:8080/",
          "height": 218
        }
      },
      "source": [
        "!pip install keras_metrics"
      ],
      "execution_count": 0,
      "outputs": [
        {
          "output_type": "stream",
          "text": [
            "Collecting keras_metrics\n",
            "  Downloading https://files.pythonhosted.org/packages/32/c9/a87420da8e73de944e63a8e9cdcfb1f03ca31a7c4cdcdbd45d2cdf13275a/keras_metrics-1.1.0-py2.py3-none-any.whl\n",
            "Requirement already satisfied: Keras>=2.1.5 in /usr/local/lib/python3.6/dist-packages (from keras_metrics) (2.2.4)\n",
            "Requirement already satisfied: keras-applications>=1.0.6 in /usr/local/lib/python3.6/dist-packages (from Keras>=2.1.5->keras_metrics) (1.0.7)\n",
            "Requirement already satisfied: numpy>=1.9.1 in /usr/local/lib/python3.6/dist-packages (from Keras>=2.1.5->keras_metrics) (1.16.3)\n",
            "Requirement already satisfied: keras-preprocessing>=1.0.5 in /usr/local/lib/python3.6/dist-packages (from Keras>=2.1.5->keras_metrics) (1.0.9)\n",
            "Requirement already satisfied: h5py in /usr/local/lib/python3.6/dist-packages (from Keras>=2.1.5->keras_metrics) (2.8.0)\n",
            "Requirement already satisfied: scipy>=0.14 in /usr/local/lib/python3.6/dist-packages (from Keras>=2.1.5->keras_metrics) (1.2.1)\n",
            "Requirement already satisfied: six>=1.9.0 in /usr/local/lib/python3.6/dist-packages (from Keras>=2.1.5->keras_metrics) (1.12.0)\n",
            "Requirement already satisfied: pyyaml in /usr/local/lib/python3.6/dist-packages (from Keras>=2.1.5->keras_metrics) (3.13)\n",
            "Installing collected packages: keras-metrics\n",
            "Successfully installed keras-metrics-1.1.0\n"
          ],
          "name": "stdout"
        }
      ]
    },
    {
      "cell_type": "code",
      "metadata": {
        "id": "B7g50luxoVxf",
        "colab_type": "code",
        "outputId": "2dcb6923-4f87-42e4-a12a-7464eca4a96c",
        "colab": {
          "base_uri": "https://localhost:8080/",
          "height": 34
        }
      },
      "source": [
        "# imports\n",
        "import tensorflow as tf\n",
        "from tensorflow.keras.models import Sequential\n",
        "from tensorflow.keras.layers import Dense, Dropout, LSTM, CuDNNLSTM \n",
        "from sklearn.model_selection import train_test_split\n",
        "import keras_metrics"
      ],
      "execution_count": 0,
      "outputs": [
        {
          "output_type": "stream",
          "text": [
            "Using TensorFlow backend.\n"
          ],
          "name": "stderr"
        }
      ]
    },
    {
      "cell_type": "code",
      "metadata": {
        "id": "7LPahPPp2xbU",
        "colab_type": "code",
        "outputId": "c80aacaf-10bd-4126-fd66-db2f305e566a",
        "colab": {
          "base_uri": "https://localhost:8080/",
          "height": 34
        }
      },
      "source": [
        "x_.shape"
      ],
      "execution_count": 0,
      "outputs": [
        {
          "output_type": "execute_result",
          "data": {
            "text/plain": [
              "(176, 51700)"
            ]
          },
          "metadata": {
            "tags": []
          },
          "execution_count": 41
        }
      ]
    },
    {
      "cell_type": "code",
      "metadata": {
        "id": "_wrjc_eGoVxj",
        "colab_type": "code",
        "colab": {}
      },
      "source": [
        "# binary classification lstm model\n",
        "model = Sequential()\n",
        "model.add(LSTM(32,input_shape=(x_.shape[1:]),activation='relu',return_sequences=True))\n",
        "model.add(Dropout(0.2))\n",
        "\n",
        "model.add(LSTM(32,activation='relu'))\n",
        "#model.add(Dropout(0.2))\n",
        "\n",
        "model.add(Dense(32,activation='relu'))\n",
        "model.add(Dropout(0.2))\n",
        "\n",
        "model.add(Dense(1, activation='sigmoid'))"
      ],
      "execution_count": 0,
      "outputs": []
    },
    {
      "cell_type": "code",
      "metadata": {
        "id": "j0ByxkM-oVxp",
        "colab_type": "code",
        "colab": {}
      },
      "source": [
        "# complie\n",
        "model.compile(loss='binary_crossentropy', optimizer=tf.keras.optimizers.Adam(lr=0.0001)\n",
        ",metrics=['accuracy'])"
      ],
      "execution_count": 0,
      "outputs": []
    },
    {
      "cell_type": "code",
      "metadata": {
        "id": "bMEhI-jRy7Wo",
        "colab_type": "code",
        "outputId": "af59ff1f-7927-4273-9774-d539b84c6520",
        "colab": {
          "base_uri": "https://localhost:8080/",
          "height": 34
        }
      },
      "source": [
        "x_.shape"
      ],
      "execution_count": 0,
      "outputs": [
        {
          "output_type": "execute_result",
          "data": {
            "text/plain": [
              "(194, 10340, 5)"
            ]
          },
          "metadata": {
            "tags": []
          },
          "execution_count": 40
        }
      ]
    },
    {
      "cell_type": "code",
      "metadata": {
        "id": "1lMuILVloVxu",
        "colab_type": "code",
        "outputId": "770b8188-cddd-425d-9618-1ad459852da1",
        "colab": {
          "base_uri": "https://localhost:8080/",
          "height": 101
        }
      },
      "source": [
        "# fit\n",
        "#x_train, x_test, y_train, y_test = train_test_split(x_, y_, test_size=0.2, random_state=42)\n",
        "model.fit(x_,y_,epochs=2)"
      ],
      "execution_count": 0,
      "outputs": [
        {
          "output_type": "stream",
          "text": [
            "Epoch 1/2\n",
            "194/194 [==============================] - 97s 498ms/sample - loss: 0.6939 - acc: 0.5000\n",
            "Epoch 2/2\n",
            "194/194 [==============================] - 95s 488ms/sample - loss: 0.6928 - acc: 0.5000\n"
          ],
          "name": "stdout"
        },
        {
          "output_type": "execute_result",
          "data": {
            "text/plain": [
              "<tensorflow.python.keras.callbacks.History at 0x7faa2c2d6f98>"
            ]
          },
          "metadata": {
            "tags": []
          },
          "execution_count": 72
        }
      ]
    },
    {
      "cell_type": "code",
      "metadata": {
        "id": "POd7dGVm1FbX",
        "colab_type": "code",
        "outputId": "d1cde8a2-ea62-4e3a-b7ce-ffc8ec8b6778",
        "colab": {
          "base_uri": "https://localhost:8080/",
          "height": 3276
        }
      },
      "source": [
        "model.predict_classes(x_)"
      ],
      "execution_count": 0,
      "outputs": [
        {
          "output_type": "execute_result",
          "data": {
            "text/plain": [
              "array([[1],\n",
              "       [1],\n",
              "       [1],\n",
              "       [1],\n",
              "       [1],\n",
              "       [1],\n",
              "       [1],\n",
              "       [1],\n",
              "       [1],\n",
              "       [1],\n",
              "       [1],\n",
              "       [1],\n",
              "       [1],\n",
              "       [1],\n",
              "       [1],\n",
              "       [1],\n",
              "       [1],\n",
              "       [1],\n",
              "       [1],\n",
              "       [1],\n",
              "       [1],\n",
              "       [1],\n",
              "       [1],\n",
              "       [1],\n",
              "       [1],\n",
              "       [1],\n",
              "       [1],\n",
              "       [1],\n",
              "       [1],\n",
              "       [1],\n",
              "       [1],\n",
              "       [1],\n",
              "       [1],\n",
              "       [1],\n",
              "       [1],\n",
              "       [1],\n",
              "       [1],\n",
              "       [1],\n",
              "       [1],\n",
              "       [1],\n",
              "       [1],\n",
              "       [1],\n",
              "       [1],\n",
              "       [1],\n",
              "       [1],\n",
              "       [1],\n",
              "       [1],\n",
              "       [1],\n",
              "       [1],\n",
              "       [1],\n",
              "       [1],\n",
              "       [1],\n",
              "       [1],\n",
              "       [1],\n",
              "       [1],\n",
              "       [1],\n",
              "       [1],\n",
              "       [1],\n",
              "       [1],\n",
              "       [1],\n",
              "       [1],\n",
              "       [1],\n",
              "       [1],\n",
              "       [1],\n",
              "       [1],\n",
              "       [1],\n",
              "       [1],\n",
              "       [1],\n",
              "       [1],\n",
              "       [1],\n",
              "       [1],\n",
              "       [1],\n",
              "       [1],\n",
              "       [1],\n",
              "       [1],\n",
              "       [1],\n",
              "       [1],\n",
              "       [1],\n",
              "       [1],\n",
              "       [1],\n",
              "       [1],\n",
              "       [1],\n",
              "       [1],\n",
              "       [1],\n",
              "       [1],\n",
              "       [1],\n",
              "       [1],\n",
              "       [1],\n",
              "       [1],\n",
              "       [1],\n",
              "       [1],\n",
              "       [1],\n",
              "       [1],\n",
              "       [1],\n",
              "       [1],\n",
              "       [1],\n",
              "       [1],\n",
              "       [1],\n",
              "       [1],\n",
              "       [1],\n",
              "       [1],\n",
              "       [1],\n",
              "       [1],\n",
              "       [1],\n",
              "       [1],\n",
              "       [1],\n",
              "       [1],\n",
              "       [1],\n",
              "       [1],\n",
              "       [1],\n",
              "       [1],\n",
              "       [1],\n",
              "       [1],\n",
              "       [1],\n",
              "       [1],\n",
              "       [1],\n",
              "       [1],\n",
              "       [1],\n",
              "       [1],\n",
              "       [1],\n",
              "       [1],\n",
              "       [1],\n",
              "       [1],\n",
              "       [1],\n",
              "       [1],\n",
              "       [1],\n",
              "       [1],\n",
              "       [1],\n",
              "       [1],\n",
              "       [1],\n",
              "       [1],\n",
              "       [1],\n",
              "       [1],\n",
              "       [1],\n",
              "       [1],\n",
              "       [1],\n",
              "       [1],\n",
              "       [1],\n",
              "       [1],\n",
              "       [1],\n",
              "       [1],\n",
              "       [1],\n",
              "       [1],\n",
              "       [1],\n",
              "       [1],\n",
              "       [1],\n",
              "       [1],\n",
              "       [1],\n",
              "       [1],\n",
              "       [1],\n",
              "       [1],\n",
              "       [1],\n",
              "       [1],\n",
              "       [1],\n",
              "       [1],\n",
              "       [1],\n",
              "       [1],\n",
              "       [1],\n",
              "       [1],\n",
              "       [1],\n",
              "       [1],\n",
              "       [1],\n",
              "       [1],\n",
              "       [1],\n",
              "       [1],\n",
              "       [1],\n",
              "       [1],\n",
              "       [1],\n",
              "       [1],\n",
              "       [1],\n",
              "       [1],\n",
              "       [1],\n",
              "       [1],\n",
              "       [1],\n",
              "       [1],\n",
              "       [1],\n",
              "       [1],\n",
              "       [1],\n",
              "       [1],\n",
              "       [1],\n",
              "       [1],\n",
              "       [1],\n",
              "       [1],\n",
              "       [1],\n",
              "       [1],\n",
              "       [1],\n",
              "       [1],\n",
              "       [1],\n",
              "       [1],\n",
              "       [1],\n",
              "       [1],\n",
              "       [1],\n",
              "       [1],\n",
              "       [1]], dtype=int32)"
            ]
          },
          "metadata": {
            "tags": []
          },
          "execution_count": 73
        }
      ]
    },
    {
      "cell_type": "code",
      "metadata": {
        "id": "20Newi4p1jvJ",
        "colab_type": "code",
        "outputId": "e40ea7dd-d686-406f-873b-94402368e26b",
        "colab": {
          "base_uri": "https://localhost:8080/",
          "height": 218
        }
      },
      "source": [
        "y_true"
      ],
      "execution_count": 0,
      "outputs": [
        {
          "output_type": "execute_result",
          "data": {
            "text/plain": [
              "array([0., 0., 0., 1., 1., 1., 1., 0., 0., 1., 1., 0., 0., 0., 0., 0., 0.,\n",
              "       0., 0., 1., 0., 0., 0., 1., 0., 0., 0., 1., 0., 0., 0., 1., 1., 1.,\n",
              "       1., 0., 1., 0., 1., 1., 0., 0., 1., 0., 0., 1., 1., 1., 0., 0., 1.,\n",
              "       1., 0., 1., 1., 1., 1., 0., 0., 0., 0., 0., 1., 1., 1., 0., 0., 1.,\n",
              "       1., 0., 0., 0., 1., 0., 1., 1., 0., 0., 1., 0., 1., 1., 1., 1., 1.,\n",
              "       1., 1., 1., 0., 0., 0., 0., 0., 0., 0., 1., 0., 1., 0., 1., 1., 0.,\n",
              "       1., 1., 0., 1., 0., 0., 0., 1., 0., 0., 1., 0., 1., 1., 1., 1., 1.,\n",
              "       1., 1., 0., 0., 1., 1., 1., 1., 0., 1., 0., 0., 0., 1., 0., 1., 1.,\n",
              "       1., 1., 0., 1., 1., 1., 0., 1., 1., 0., 0., 0., 1., 0., 1., 0., 0.,\n",
              "       1., 1., 1., 0., 1., 0., 0., 0., 1., 0., 0., 0., 1., 1., 1., 1., 1.,\n",
              "       0., 0., 1., 0., 1., 0., 0., 0., 0., 0., 0., 1., 0., 0., 1., 1., 1.,\n",
              "       1., 1., 1., 1., 1., 0., 0.])"
            ]
          },
          "metadata": {
            "tags": []
          },
          "execution_count": 52
        }
      ]
    },
    {
      "cell_type": "code",
      "metadata": {
        "id": "THhTrurAzdj3",
        "colab_type": "code",
        "outputId": "b10c44f5-ebbe-431f-bc59-79dc756c4595",
        "colab": {
          "base_uri": "https://localhost:8080/",
          "height": 374
        }
      },
      "source": [
        "from sklearn.metrics import confusion_matrix\n",
        "y_true = y_\n",
        "y_pred = model.predict(x_)\n",
        "ConfusionMatrix=pd.DataFrame(confusion_matrix(y_true, y_pred), \\\n",
        "                             columns=['Predicted low','Predicted medium','Predicted high'], \\\n",
        "                             index=['Actual low','Actual medium','Actual high'])\n",
        "print ('Confusion matrix of test data is: \\n',ConfusionMatrix)"
      ],
      "execution_count": 0,
      "outputs": [
        {
          "output_type": "error",
          "ename": "ValueError",
          "evalue": "ignored",
          "traceback": [
            "\u001b[0;31m---------------------------------------------------------------------------\u001b[0m",
            "\u001b[0;31mValueError\u001b[0m                                Traceback (most recent call last)",
            "\u001b[0;32m<ipython-input-51-aec73edae425>\u001b[0m in \u001b[0;36m<module>\u001b[0;34m()\u001b[0m\n\u001b[1;32m      2\u001b[0m \u001b[0my_true\u001b[0m \u001b[0;34m=\u001b[0m \u001b[0my_\u001b[0m\u001b[0;34m\u001b[0m\u001b[0;34m\u001b[0m\u001b[0m\n\u001b[1;32m      3\u001b[0m \u001b[0my_pred\u001b[0m \u001b[0;34m=\u001b[0m \u001b[0mmodel\u001b[0m\u001b[0;34m.\u001b[0m\u001b[0mpredict\u001b[0m\u001b[0;34m(\u001b[0m\u001b[0mx_\u001b[0m\u001b[0;34m)\u001b[0m\u001b[0;34m\u001b[0m\u001b[0;34m\u001b[0m\u001b[0m\n\u001b[0;32m----> 4\u001b[0;31m \u001b[0mConfusionMatrix\u001b[0m\u001b[0;34m=\u001b[0m\u001b[0mpd\u001b[0m\u001b[0;34m.\u001b[0m\u001b[0mDataFrame\u001b[0m\u001b[0;34m(\u001b[0m\u001b[0mconfusion_matrix\u001b[0m\u001b[0;34m(\u001b[0m\u001b[0my_true\u001b[0m\u001b[0;34m,\u001b[0m \u001b[0my_pred\u001b[0m\u001b[0;34m)\u001b[0m\u001b[0;34m,\u001b[0m                              \u001b[0mcolumns\u001b[0m\u001b[0;34m=\u001b[0m\u001b[0;34m[\u001b[0m\u001b[0;34m'Predicted low'\u001b[0m\u001b[0;34m,\u001b[0m\u001b[0;34m'Predicted medium'\u001b[0m\u001b[0;34m,\u001b[0m\u001b[0;34m'Predicted high'\u001b[0m\u001b[0;34m]\u001b[0m\u001b[0;34m,\u001b[0m                              \u001b[0mindex\u001b[0m\u001b[0;34m=\u001b[0m\u001b[0;34m[\u001b[0m\u001b[0;34m'Actual low'\u001b[0m\u001b[0;34m,\u001b[0m\u001b[0;34m'Actual medium'\u001b[0m\u001b[0;34m,\u001b[0m\u001b[0;34m'Actual high'\u001b[0m\u001b[0;34m]\u001b[0m\u001b[0;34m)\u001b[0m\u001b[0;34m\u001b[0m\u001b[0;34m\u001b[0m\u001b[0m\n\u001b[0m\u001b[1;32m      5\u001b[0m \u001b[0mprint\u001b[0m \u001b[0;34m(\u001b[0m\u001b[0;34m'Confusion matrix of test data is: \\n'\u001b[0m\u001b[0;34m,\u001b[0m\u001b[0mConfusionMatrix\u001b[0m\u001b[0;34m)\u001b[0m\u001b[0;34m\u001b[0m\u001b[0;34m\u001b[0m\u001b[0m\n",
            "\u001b[0;32m/usr/local/lib/python3.6/dist-packages/sklearn/metrics/classification.py\u001b[0m in \u001b[0;36mconfusion_matrix\u001b[0;34m(y_true, y_pred, labels, sample_weight)\u001b[0m\n\u001b[1;32m    251\u001b[0m \u001b[0;34m\u001b[0m\u001b[0m\n\u001b[1;32m    252\u001b[0m     \"\"\"\n\u001b[0;32m--> 253\u001b[0;31m     \u001b[0my_type\u001b[0m\u001b[0;34m,\u001b[0m \u001b[0my_true\u001b[0m\u001b[0;34m,\u001b[0m \u001b[0my_pred\u001b[0m \u001b[0;34m=\u001b[0m \u001b[0m_check_targets\u001b[0m\u001b[0;34m(\u001b[0m\u001b[0my_true\u001b[0m\u001b[0;34m,\u001b[0m \u001b[0my_pred\u001b[0m\u001b[0;34m)\u001b[0m\u001b[0;34m\u001b[0m\u001b[0;34m\u001b[0m\u001b[0m\n\u001b[0m\u001b[1;32m    254\u001b[0m     \u001b[0;32mif\u001b[0m \u001b[0my_type\u001b[0m \u001b[0;32mnot\u001b[0m \u001b[0;32min\u001b[0m \u001b[0;34m(\u001b[0m\u001b[0;34m\"binary\"\u001b[0m\u001b[0;34m,\u001b[0m \u001b[0;34m\"multiclass\"\u001b[0m\u001b[0;34m)\u001b[0m\u001b[0;34m:\u001b[0m\u001b[0;34m\u001b[0m\u001b[0;34m\u001b[0m\u001b[0m\n\u001b[1;32m    255\u001b[0m         \u001b[0;32mraise\u001b[0m \u001b[0mValueError\u001b[0m\u001b[0;34m(\u001b[0m\u001b[0;34m\"%s is not supported\"\u001b[0m \u001b[0;34m%\u001b[0m \u001b[0my_type\u001b[0m\u001b[0;34m)\u001b[0m\u001b[0;34m\u001b[0m\u001b[0;34m\u001b[0m\u001b[0m\n",
            "\u001b[0;32m/usr/local/lib/python3.6/dist-packages/sklearn/metrics/classification.py\u001b[0m in \u001b[0;36m_check_targets\u001b[0;34m(y_true, y_pred)\u001b[0m\n\u001b[1;32m     79\u001b[0m     \u001b[0;32mif\u001b[0m \u001b[0mlen\u001b[0m\u001b[0;34m(\u001b[0m\u001b[0my_type\u001b[0m\u001b[0;34m)\u001b[0m \u001b[0;34m>\u001b[0m \u001b[0;36m1\u001b[0m\u001b[0;34m:\u001b[0m\u001b[0;34m\u001b[0m\u001b[0;34m\u001b[0m\u001b[0m\n\u001b[1;32m     80\u001b[0m         raise ValueError(\"Classification metrics can't handle a mix of {0} \"\n\u001b[0;32m---> 81\u001b[0;31m                          \"and {1} targets\".format(type_true, type_pred))\n\u001b[0m\u001b[1;32m     82\u001b[0m \u001b[0;34m\u001b[0m\u001b[0m\n\u001b[1;32m     83\u001b[0m     \u001b[0;31m# We can't have more than one value on y_type => The set is no more needed\u001b[0m\u001b[0;34m\u001b[0m\u001b[0;34m\u001b[0m\u001b[0;34m\u001b[0m\u001b[0m\n",
            "\u001b[0;31mValueError\u001b[0m: Classification metrics can't handle a mix of binary and continuous targets"
          ]
        }
      ]
    },
    {
      "cell_type": "code",
      "metadata": {
        "id": "RiVeQkn_02Bv",
        "colab_type": "code",
        "colab": {}
      },
      "source": [
        "from sklearn.metrics import precision_score\n",
        "print('Average precision for 3 classes is: \\n', precision_score(y_true,y_pred,average = None))\n",
        "from sklearn.metrics import recall_score\n",
        "print('Average recall for 3 classes is : \\n', recall_score(y_true,y_pred,average = None))"
      ],
      "execution_count": 0,
      "outputs": []
    },
    {
      "cell_type": "markdown",
      "metadata": {
        "id": "Og83Z0EKoVx0",
        "colab_type": "text"
      },
      "source": [
        "# Train on smaller subset of trips\n",
        "\n"
      ]
    },
    {
      "cell_type": "code",
      "metadata": {
        "id": "w1nSh10goVx1",
        "colab_type": "code",
        "colab": {}
      },
      "source": [
        "import pandas as pd\n",
        "import numpy as np"
      ],
      "execution_count": 0,
      "outputs": []
    },
    {
      "cell_type": "code",
      "metadata": {
        "id": "JO6YCdcXoVx4",
        "colab_type": "code",
        "colab": {}
      },
      "source": [
        "alertl = pd.read_csv('AlertLevel.csv')\n",
        "rvbsm = pd.read_csv('RvBsm.csv')\n",
        "summary = pd.read_csv('Summary.csv')\n",
        "eventappid = pd.read_csv('EventAppID.csv')\n",
        "host = pd.read_csv('Host.csv')\n",
        "rvzone = pd.read_csv('RvZone.csv')\n",
        "evtwarn = pd.read_csv('EvtWarn.csv')\n",
        "vehclass = pd.read_csv('RvBasicVehClass.csv')\n",
        "spat = pd.read_csv('Spat.csv')"
      ],
      "execution_count": 0,
      "outputs": []
    },
    {
      "cell_type": "code",
      "metadata": {
        "id": "4XrFXtp3oVx7",
        "colab_type": "code",
        "colab": {}
      },
      "source": [
        "evt_ = evtwarn[(evtwarn['EventAppId'] == 2)]\n",
        "ignore_interval = 2.5 * 100\n",
        "e_  = pd.DataFrame(columns=evt_.columns)\n",
        "i_ = 0\n",
        "for i, row in evt_.iterrows():\n",
        "    if i_==0:\n",
        "        e_.loc[i_] = row\n",
        "        i_+=1\n",
        "    else:\n",
        "        if ((i-1 in evt_.index) and (evt_.loc[i]['Trip']==evt_.loc[i-1]['Trip']) \\\n",
        "        and (evt_.loc[i]['Device']==evt_.loc[i-1]['Device']) and (evt_.loc[i]['Time']-evt_.loc[i-1]['Time']<=ignore_interval)):\n",
        "            pass\n",
        "        else:\n",
        "            e_.loc[i_] = row\n",
        "            i_+=1\n",
        "max_look_time = 60 * 100\n",
        "reactiveness = pd.DataFrame(columns=['Device','Trip','ReactionTime','Time'])\n",
        "for i,row in e_.iterrows():\n",
        "    rt = list(host[(host['Device']==row['Device']) & (host['Trip']==row['Trip']) & (host['Time']>row['Time']) & (host['Time']<(row['Time']+max_look_time)) & (host['BrakeStatus']==1)]['Time'])\n",
        "    if len(rt)>0:\n",
        "        rt=(rt[0]-row['Time'])/100\n",
        "    else:\n",
        "        rt=-1\n",
        "    reactiveness.loc[i]=[row['Device'],row['Trip'],rt,row['Time']]\n",
        "reactiveness.head()"
      ],
      "execution_count": 0,
      "outputs": []
    },
    {
      "cell_type": "code",
      "metadata": {
        "id": "ZIDlIMtwoVx-",
        "colab_type": "code",
        "colab": {}
      },
      "source": [
        "# label reactiveness : less that 1sec as 1\n",
        "reactiveness['reactiveness'] = reactiveness['ReactionTime'].map(lambda x: 1 if abs(x)<1 else 0)"
      ],
      "execution_count": 0,
      "outputs": []
    },
    {
      "cell_type": "code",
      "metadata": {
        "id": "WSH9MtYwoVyG",
        "colab_type": "code",
        "colab": {}
      },
      "source": [
        "# drop duplicates (for now) (later average?)\n",
        "reactiveness = reactiveness.drop_duplicates(['Device','Trip'])"
      ],
      "execution_count": 0,
      "outputs": []
    },
    {
      "cell_type": "code",
      "metadata": {
        "id": "9EEVoC_ooVyM",
        "colab_type": "code",
        "colab": {}
      },
      "source": [
        "reactiveness['reactiveness'].value_counts()"
      ],
      "execution_count": 0,
      "outputs": []
    },
    {
      "cell_type": "code",
      "metadata": {
        "id": "nU1JveMJoVyT",
        "colab_type": "code",
        "colab": {}
      },
      "source": [
        "# Features: ['BrakeStatus','Speed','ThrottlePosPct', 'StreerAngle']\n",
        "# get features from host table into x_train, divided into smaller chunks\n",
        "x_train = []\n",
        "y_train = []\n",
        "chunk_size = 100\n",
        "\n",
        "for i,row in reactiveness.iterrows():\n",
        "    x=(host[(host['Device']==row['Device']) & (host['Trip']==row['Trip'])][['BrakeStatus','Speed','ThrottlePosPct','SteerAngle']]).values\n",
        "    for j in range(0,len(x)-chunk_size,chunk_size):\n",
        "        x_train.append(x[j:j+chunk_size])\n",
        "        y_train.append(row['reactiveness'])"
      ],
      "execution_count": 0,
      "outputs": []
    },
    {
      "cell_type": "code",
      "metadata": {
        "id": "yia9gvVboVyb",
        "colab_type": "code",
        "colab": {}
      },
      "source": [
        "# convert to np arrays\n",
        "x_ = np.array(x_train)\n",
        "y_ = np.array(y_train)\n",
        "from sklearn.utils import shuffle\n",
        "x_, y_ = shuffle(x_, y_, random_state=0)"
      ],
      "execution_count": 0,
      "outputs": []
    },
    {
      "cell_type": "code",
      "metadata": {
        "id": "oXZnabIRoVyf",
        "colab_type": "code",
        "colab": {}
      },
      "source": [
        "# imports\n",
        "import tensorflow as tf\n",
        "from tensorflow.keras.models import Sequential\n",
        "from tensorflow.keras.layers import Dense, Dropout, LSTM, CuDNNLSTM \n",
        "from sklearn.model_selection import train_test_split"
      ],
      "execution_count": 0,
      "outputs": []
    },
    {
      "cell_type": "code",
      "metadata": {
        "id": "oFMUiYMuoVyi",
        "colab_type": "code",
        "colab": {}
      },
      "source": [
        "# binary classification lstm model\n",
        "model = Sequential()\n",
        "model.add(LSTM(128,input_shape=(x_.shape[1:]),activation='relu',return_sequences=True))\n",
        "model.add(Dropout(0.2))\n",
        "\n",
        "model.add(LSTM(128,activation='relu'))\n",
        "model.add(Dropout(0.2))\n",
        "\n",
        "model.add(Dense(32,activation='relu'))\n",
        "model.add(Dropout(0.2))\n",
        "\n",
        "model.add(Dense(1, activation='sigmoid'))"
      ],
      "execution_count": 0,
      "outputs": []
    },
    {
      "cell_type": "code",
      "metadata": {
        "id": "J0PV015CoVyq",
        "colab_type": "code",
        "colab": {}
      },
      "source": [
        "# complie\n",
        "model.compile(loss='binary_crossentropy', optimizer='adam', metrics=['accuracy'])"
      ],
      "execution_count": 0,
      "outputs": []
    },
    {
      "cell_type": "code",
      "metadata": {
        "id": "kQivRV3EoVyt",
        "colab_type": "code",
        "colab": {}
      },
      "source": [
        "# fit\n",
        "x_train, x_test, y_train, y_test = train_test_split(x_, y_, test_size=0.2, random_state=42)\n",
        "model.fit(x_train,y_train,epochs=1,validation_data=(x_test,y_test))"
      ],
      "execution_count": 0,
      "outputs": []
    }
  ]
}