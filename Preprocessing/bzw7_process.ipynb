{
 "cells": [
  {
   "cell_type": "markdown",
   "metadata": {},
   "source": [
    "# Data Exploration and Preprocessing"
   ]
  },
  {
   "cell_type": "code",
   "execution_count": null,
   "metadata": {},
   "outputs": [],
   "source": [
    "import pandas as pd\n",
    "alertl = pd.read_csv('AlertLevel.csv')\n",
    "rvbsm = pd.read_csv('RvBsm.csv')\n",
    "summary = pd.read_csv('Summary.csv')\n",
    "eventappid = pd.read_csv('EventAppID.csv')\n",
    "host = pd.read_csv('Host.csv')\n",
    "rvzone = pd.read_csv('RvZone.csv')\n",
    "evtwarn = pd.read_csv('EvtWarn.csv')\n",
    "vehclass = pd.read_csv('RvBasicVehClass.csv')\n",
    "spat = pd.read_csv('Spat.csv')"
   ]
  },
  {
   "cell_type": "code",
   "execution_count": null,
   "metadata": {},
   "outputs": [],
   "source": [
    "pd.set_option('display.max_columns', 500)\n",
    "pd.set_option('display.max_rows', 100)"
   ]
  },
  {
   "cell_type": "code",
   "execution_count": null,
   "metadata": {},
   "outputs": [],
   "source": [
    "summary.groupby(['Device','Trip']).size().reset_index().rename(columns={0:'count'}).head()"
   ]
  },
  {
   "cell_type": "code",
   "execution_count": null,
   "metadata": {},
   "outputs": [],
   "source": [
    "# unique device and trip : loop over summary \n",
    "device = 2004\n",
    "trip = 12"
   ]
  },
  {
   "cell_type": "code",
   "execution_count": null,
   "metadata": {},
   "outputs": [],
   "source": [
    "summary[(summary['Device'] == device) & (summary['Trip'] == trip)]"
   ]
  },
  {
   "cell_type": "code",
   "execution_count": null,
   "metadata": {},
   "outputs": [],
   "source": [
    "# filter data for the particular device and trip ids from other tables\n",
    "host_data = host[(host['Device'] == device) & (host['Trip'] == trip)].reset_index().drop(columns=['index'])\n",
    "rvbsm_data = rvbsm[(rvbsm['Device'] == device) & (rvbsm['Trip'] == trip)].reset_index().drop(columns=['index'])\n",
    "evt_data = evtwarn[(evtwarn['Device'] == device) & (evtwarn['Trip'] == trip)].reset_index().drop(columns=['index'])\n",
    "spat_data = spat[(spat['Device'] == device) & (spat['Trip'] == trip)].reset_index().drop(columns=['index'])"
   ]
  },
  {
   "cell_type": "code",
   "execution_count": null,
   "metadata": {},
   "outputs": [],
   "source": [
    "# add unique identifer to join tables on: format: device_trip_time\n",
    "host_data['merge_id'] = host_data['Device'].astype(str) +'_'+ host_data['Trip'].astype(str)  +'_'+ host_data['Time'].astype(str)\n",
    "rvbsm_data['merge_id'] = rvbsm_data['Device'].astype(str) +'_'+ rvbsm_data['Trip'].astype(str)  +'_'+ rvbsm_data['Time'].astype(str)\n",
    "evt_data['merge_id'] = evt_data['Device'].astype(str) +'_'+ evt_data['Trip'].astype(str)  +'_'+ evt_data['Time'].astype(str)\n",
    "spat_data['merge_id'] = spat_data['Device'].astype(str) +'_'+ spat_data['Trip'].astype(str)  +'_'+ spat_data['Time'].astype(str)"
   ]
  },
  {
   "cell_type": "code",
   "execution_count": null,
   "metadata": {},
   "outputs": [],
   "source": [
    "# update index to unique identifiers for the tables\n",
    "host_data = host_data.set_index('merge_id')\n",
    "rvbsm_data = rvbsm_data.set_index('merge_id')\n",
    "evt_data = evt_data.set_index('merge_id')\n",
    "spat_data = spat_data.set_index('merge_id')"
   ]
  },
  {
   "cell_type": "code",
   "execution_count": null,
   "metadata": {},
   "outputs": [],
   "source": [
    "# join the tables\n",
    "ht_ = host_data.join(rvbsm_data,lsuffix='_host',rsuffix='_rvbsm').join(evt_data,rsuffix='_evtwarn').join(spat_data,rsuffix='_spat')"
   ]
  },
  {
   "cell_type": "code",
   "execution_count": null,
   "metadata": {},
   "outputs": [],
   "source": [
    "# save it as a trip (probably)\n",
    "ht_.to_csv('trip0.csv')"
   ]
  },
  {
   "cell_type": "code",
   "execution_count": null,
   "metadata": {},
   "outputs": [],
   "source": [
    "pd.DataFrame(ht_.columns)"
   ]
  },
  {
   "cell_type": "code",
   "execution_count": null,
   "metadata": {},
   "outputs": [],
   "source": [
    "ht_.dropna(thresh=50)"
   ]
  },
  {
   "cell_type": "code",
   "execution_count": null,
   "metadata": {},
   "outputs": [],
   "source": [
    "ht_.drop(columns=['LocalTimeMS_spat','NativeFlag_spat','Time_spat','Trip_spat','Device_spat','RvRandomId_evtwarn','RvDevice_evtwarn'])"
   ]
  },
  {
   "cell_type": "code",
   "execution_count": null,
   "metadata": {},
   "outputs": [],
   "source": [
    "# Ignore things above (eda)\n",
    "# filter event with appid = 2\n",
    "evt_ = evtwarn[(evtwarn['EventAppId'] == 2)]"
   ]
  },
  {
   "cell_type": "code",
   "execution_count": null,
   "metadata": {},
   "outputs": [],
   "source": [
    "# get unique trip and device. ignore consecutive events with interval less than 2.5s\n",
    "ignore_interval = 2.5 * 100\n",
    "e_  = pd.DataFrame(columns=evt_.columns)\n",
    "i_ = 0\n",
    "for i, row in evt_.iterrows():\n",
    "    if i_==0:\n",
    "        e_.loc[i_] = row\n",
    "        i_+=1\n",
    "    else:\n",
    "        if ((i-1 in evt_.index) and (evt_.loc[i]['Trip']==evt_.loc[i-1]['Trip']) \\\n",
    "        and (evt_.loc[i]['Device']==evt_.loc[i-1]['Device']) and (evt_.loc[i]['Time']-evt_.loc[i-1]['Time']<=ignore_interval)):\n",
    "            pass\n",
    "        else:\n",
    "            e_.loc[i_] = row\n",
    "            i_+=1\n",
    "            "
   ]
  },
  {
   "cell_type": "code",
   "execution_count": null,
   "metadata": {},
   "outputs": [],
   "source": [
    "# e_.loc[0]['Time']-list(host[(host['Device']==e_.loc[0]['Device']) & (host['Trip']==e_.loc[0]['Trip']) & (host['Time']>e_.loc[0]['Time']) & (host['Time']<(e_.loc[0]['Time']+6000)) & (host['BrakeStatus']==1)]['Time'])[0]"
   ]
  },
  {
   "cell_type": "code",
   "execution_count": null,
   "metadata": {},
   "outputs": [],
   "source": [
    "# new table with unique warings\n",
    "e_.head()"
   ]
  },
  {
   "cell_type": "code",
   "execution_count": null,
   "metadata": {},
   "outputs": [],
   "source": [
    "# calculate reaction time using host table . max look for 60s\n",
    "max_look_time = 60 * 100\n",
    "reactiveness = pd.DataFrame(columns=['Device','Trip','ReactionTime','Time'])\n",
    "for i,row in e_.iterrows():\n",
    "    rt = list(host[(host['Device']==row['Device']) & (host['Trip']==row['Trip']) & (host['Time']>row['Time']) & (host['Time']<(row['Time']+max_look_time)) & (host['BrakeStatus']==1)]['Time'])\n",
    "    if len(rt)>0:\n",
    "        rt=(rt[0]-row['Time'])/100\n",
    "    else:\n",
    "        rt=-1\n",
    "    reactiveness.loc[i]=[row['Device'],row['Trip'],rt,row['Time']]"
   ]
  },
  {
   "cell_type": "code",
   "execution_count": null,
   "metadata": {},
   "outputs": [],
   "source": [
    "reactiveness"
   ]
  },
  {
   "cell_type": "code",
   "execution_count": null,
   "metadata": {},
   "outputs": [],
   "source": [
    "evtwarn['EventAppId'].value_counts()"
   ]
  },
  {
   "cell_type": "code",
   "execution_count": null,
   "metadata": {},
   "outputs": [],
   "source": [
    "evt_ = evtwarn[(evtwarn['EventAppId'] == 0)]\n",
    "ignore_interval = 2.5 * 100\n",
    "e_  = pd.DataFrame(columns=evt_.columns)\n",
    "i_ = 0\n",
    "for i, row in evt_.iterrows():\n",
    "    if i_==0:\n",
    "        e_.loc[i_] = row\n",
    "        i_+=1\n",
    "    else:\n",
    "        if ((i-1 in evt_.index) and (evt_.loc[i]['Trip']==evt_.loc[i-1]['Trip']) \\\n",
    "        and (evt_.loc[i]['Device']==evt_.loc[i-1]['Device']) and (evt_.loc[i]['Time']-evt_.loc[i-1]['Time']<=ignore_interval)):\n",
    "            pass\n",
    "        else:\n",
    "            e_.loc[i_] = row\n",
    "            i_+=1\n",
    "max_look_time = 60 * 100\n",
    "reactiveness = pd.DataFrame(columns=['Device','Trip','ReactionTime','Time'])\n",
    "for i,row in e_.iterrows():\n",
    "    rt = list(host[(host['Device']==row['Device']) & (host['Trip']==row['Trip']) & (host['Time']>row['Time']) & (host['Time']<(row['Time']+max_look_time)) & (host['BrakeStatus']==1)]['Time'])\n",
    "    if len(rt)>0:\n",
    "        rt=(rt[0]-row['Time'])/100\n",
    "    else:\n",
    "        rt=-1\n",
    "    reactiveness.loc[i]=[row['Device'],row['Trip'],rt,row['Time']]\n",
    "reactiveness"
   ]
  },
  {
   "cell_type": "code",
   "execution_count": null,
   "metadata": {},
   "outputs": [],
   "source": [
    "evt_ = evtwarn[(evtwarn['EventAppId'] == 1)]\n",
    "ignore_interval = 2.5 * 100\n",
    "e_  = pd.DataFrame(columns=evt_.columns)\n",
    "i_ = 0\n",
    "for i, row in evt_.iterrows():\n",
    "    if i_==0:\n",
    "        e_.loc[i_] = row\n",
    "        i_+=1\n",
    "    else:\n",
    "        if ((i-1 in evt_.index) and (evt_.loc[i]['Trip']==evt_.loc[i-1]['Trip']) \\\n",
    "        and (evt_.loc[i]['Device']==evt_.loc[i-1]['Device']) and (evt_.loc[i]['Time']-evt_.loc[i-1]['Time']<=ignore_interval)):\n",
    "            pass\n",
    "        else:\n",
    "            e_.loc[i_] = row\n",
    "            i_+=1\n",
    "max_look_time = 60 * 100\n",
    "reactiveness = pd.DataFrame(columns=['Device','Trip','ReactionTime','Time'])\n",
    "for i,row in e_.iterrows():\n",
    "    rt = list(host[(host['Device']==row['Device']) & (host['Trip']==row['Trip']) & (host['Time']>row['Time']) & (host['Time']<(row['Time']+max_look_time)) & (host['BrakeStatus']==1)]['Time'])\n",
    "    if len(rt)>0:\n",
    "        rt=(rt[0]-row['Time'])/100\n",
    "    else:\n",
    "        rt=-1\n",
    "    reactiveness.loc[i]=[row['Device'],row['Trip'],rt,row['Time']]\n",
    "reactiveness"
   ]
  },
  {
   "cell_type": "code",
   "execution_count": null,
   "metadata": {},
   "outputs": [],
   "source": [
    "evt_ = evtwarn[(evtwarn['EventAppId'] == 3)]\n",
    "ignore_interval = 2.5 * 100\n",
    "e_  = pd.DataFrame(columns=evt_.columns)\n",
    "i_ = 0\n",
    "for i, row in evt_.iterrows():\n",
    "    if i_==0:\n",
    "        e_.loc[i_] = row\n",
    "        i_+=1\n",
    "    else:\n",
    "        if ((i-1 in evt_.index) and (evt_.loc[i]['Trip']==evt_.loc[i-1]['Trip']) \\\n",
    "        and (evt_.loc[i]['Device']==evt_.loc[i-1]['Device']) and (evt_.loc[i]['Time']-evt_.loc[i-1]['Time']<=ignore_interval)):\n",
    "            pass\n",
    "        else:\n",
    "            e_.loc[i_] = row\n",
    "            i_+=1\n",
    "max_look_time = 60 * 100\n",
    "reactiveness = pd.DataFrame(columns=['Device','Trip','ReactionTime','Time'])\n",
    "for i,row in e_.iterrows():\n",
    "    rt = list(host[(host['Device']==row['Device']) & (host['Trip']==row['Trip']) & (host['Time']>row['Time']) & (host['Time']<(row['Time']+max_look_time)) & (host['BrakeStatus']==1)]['Time'])\n",
    "    if len(rt)>0:\n",
    "        rt=(rt[0]-row['Time'])/100\n",
    "    else:\n",
    "        rt=-1\n",
    "    reactiveness.loc[i]=[row['Device'],row['Trip'],rt,row['Time']]\n",
    "reactiveness"
   ]
  },
  {
   "cell_type": "code",
   "execution_count": null,
   "metadata": {},
   "outputs": [],
   "source": [
    "evt_ = evtwarn[(evtwarn['EventAppId'] == 9)]\n",
    "ignore_interval = 2.5 * 100\n",
    "e_  = pd.DataFrame(columns=evt_.columns)\n",
    "i_ = 0\n",
    "for i, row in evt_.iterrows():\n",
    "    if i_==0:\n",
    "        e_.loc[i_] = row\n",
    "        i_+=1\n",
    "    else:\n",
    "        if ((i-1 in evt_.index) and (evt_.loc[i]['Trip']==evt_.loc[i-1]['Trip']) \\\n",
    "        and (evt_.loc[i]['Device']==evt_.loc[i-1]['Device']) and (evt_.loc[i]['Time']-evt_.loc[i-1]['Time']<=ignore_interval)):\n",
    "            pass\n",
    "        else:\n",
    "            e_.loc[i_] = row\n",
    "            i_+=1\n",
    "max_look_time = 60 * 100\n",
    "reactiveness = pd.DataFrame(columns=['Device','Trip','ReactionTime','Time'])\n",
    "for i,row in e_.iterrows():\n",
    "    rt = list(host[(host['Device']==row['Device']) & (host['Trip']==row['Trip']) & (host['Time']>row['Time']) & (host['Time']<(row['Time']+max_look_time)) & (host['BrakeStatus']==1)]['Time'])\n",
    "    if len(rt)>0:\n",
    "        rt=(rt[0]-row['Time'])/100\n",
    "    else:\n",
    "        rt=-1\n",
    "    reactiveness.loc[i]=[row['Device'],row['Trip'],rt,row['Time']]\n",
    "reactiveness"
   ]
  },
  {
   "cell_type": "code",
   "execution_count": null,
   "metadata": {},
   "outputs": [],
   "source": [
    "evt_ = evtwarn[(evtwarn['EventAppId'] == 10)]\n",
    "ignore_interval = 2.5 * 100\n",
    "e_  = pd.DataFrame(columns=evt_.columns)\n",
    "i_ = 0\n",
    "for i, row in evt_.iterrows():\n",
    "    if i_==0:\n",
    "        e_.loc[i_] = row\n",
    "        i_+=1\n",
    "    else:\n",
    "        if ((i-1 in evt_.index) and (evt_.loc[i]['Trip']==evt_.loc[i-1]['Trip']) \\\n",
    "        and (evt_.loc[i]['Device']==evt_.loc[i-1]['Device']) and (evt_.loc[i]['Time']-evt_.loc[i-1]['Time']<=ignore_interval)):\n",
    "            pass\n",
    "        else:\n",
    "            e_.loc[i_] = row\n",
    "            i_+=1\n",
    "max_look_time = 60 * 100\n",
    "reactiveness = pd.DataFrame(columns=['Device','Trip','ReactionTime','Time'])\n",
    "for i,row in e_.iterrows():\n",
    "    rt = list(host[(host['Device']==row['Device']) & (host['Trip']==row['Trip']) & (host['Time']>row['Time']) & (host['Time']<(row['Time']+max_look_time)) & (host['BrakeStatus']==1)]['Time'])\n",
    "    if len(rt)>0:\n",
    "        rt=(rt[0]-row['Time'])/100\n",
    "    else:\n",
    "        rt=-1\n",
    "    reactiveness.loc[i]=[row['Device'],row['Trip'],rt,row['Time']]\n",
    "reactiveness"
   ]
  },
  {
   "cell_type": "code",
   "execution_count": null,
   "metadata": {},
   "outputs": [],
   "source": [
    "evt_ = evtwarn[(evtwarn['EventAppId'] == 11)]\n",
    "ignore_interval = 2.5 * 100\n",
    "e_  = pd.DataFrame(columns=evt_.columns)\n",
    "i_ = 0\n",
    "for i, row in evt_.iterrows():\n",
    "    if i_==0:\n",
    "        e_.loc[i_] = row\n",
    "        i_+=1\n",
    "    else:\n",
    "        if ((i-1 in evt_.index) and (evt_.loc[i]['Trip']==evt_.loc[i-1]['Trip']) \\\n",
    "        and (evt_.loc[i]['Device']==evt_.loc[i-1]['Device']) and (evt_.loc[i]['Time']-evt_.loc[i-1]['Time']<=ignore_interval)):\n",
    "            pass\n",
    "        else:\n",
    "            e_.loc[i_] = row\n",
    "            i_+=1\n",
    "max_look_time = 60 * 100\n",
    "reactiveness = pd.DataFrame(columns=['Device','Trip','ReactionTime','Time'])\n",
    "for i,row in e_.iterrows():\n",
    "    rt = list(host[(host['Device']==row['Device']) & (host['Trip']==row['Trip']) & (host['Time']>row['Time']) & (host['Time']<(row['Time']+max_look_time)) & (host['BrakeStatus']==1)]['Time'])\n",
    "    if len(rt)>0:\n",
    "        rt=(rt[0]-row['Time'])/100\n",
    "    else:\n",
    "        rt=-1\n",
    "    reactiveness.loc[i]=[row['Device'],row['Trip'],rt,row['Time']]\n",
    "reactiveness"
   ]
  },
  {
   "cell_type": "code",
   "execution_count": null,
   "metadata": {},
   "outputs": [],
   "source": [
    "evt_ = evtwarn[(evtwarn['EventAppId'] == 12)]\n",
    "ignore_interval = 2.5 * 100\n",
    "e_  = pd.DataFrame(columns=evt_.columns)\n",
    "i_ = 0\n",
    "for i, row in evt_.iterrows():\n",
    "    if i_==0:\n",
    "        e_.loc[i_] = row\n",
    "        i_+=1\n",
    "    else:\n",
    "        if ((i-1 in evt_.index) and (evt_.loc[i]['Trip']==evt_.loc[i-1]['Trip']) \\\n",
    "        and (evt_.loc[i]['Device']==evt_.loc[i-1]['Device']) and (evt_.loc[i]['Time']-evt_.loc[i-1]['Time']<=ignore_interval)):\n",
    "            pass\n",
    "        else:\n",
    "            e_.loc[i_] = row\n",
    "            i_+=1\n",
    "max_look_time = 60 * 100\n",
    "reactiveness = pd.DataFrame(columns=['Device','Trip','ReactionTime','Time'])\n",
    "for i,row in e_.iterrows():\n",
    "    rt = list(host[(host['Device']==row['Device']) & (host['Trip']==row['Trip']) & (host['Time']>row['Time']) & (host['Time']<(row['Time']+max_look_time)) & (host['BrakeStatus']==1)]['Time'])\n",
    "    if len(rt)>0:\n",
    "        rt=(rt[0]-row['Time'])/100\n",
    "    else:\n",
    "        rt=-1\n",
    "    reactiveness.loc[i]=[row['Device'],row['Trip'],rt,row['Time']]\n",
    "reactiveness"
   ]
  },
  {
   "cell_type": "markdown",
   "metadata": {},
   "source": [
    "# Train an RNN+LSTM Model\n",
    "Prepare training data and train"
   ]
  },
  {
   "cell_type": "code",
   "execution_count": 1,
   "metadata": {},
   "outputs": [],
   "source": [
    "import pandas as pd\n",
    "alertl = pd.read_csv('AlertLevel.csv')\n",
    "rvbsm = pd.read_csv('RvBsm.csv')\n",
    "summary = pd.read_csv('Summary.csv')\n",
    "eventappid = pd.read_csv('EventAppID.csv')\n",
    "host = pd.read_csv('Host.csv')\n",
    "rvzone = pd.read_csv('RvZone.csv')\n",
    "evtwarn = pd.read_csv('EvtWarn.csv')\n",
    "vehclass = pd.read_csv('RvBasicVehClass.csv')\n",
    "spat = pd.read_csv('Spat.csv')"
   ]
  },
  {
   "cell_type": "code",
   "execution_count": 2,
   "metadata": {},
   "outputs": [],
   "source": [
    "evt_ = evtwarn[(evtwarn['EventAppId'] == 2)]\n",
    "ignore_interval = 2.5 * 100\n",
    "e_  = pd.DataFrame(columns=evt_.columns)\n",
    "i_ = 0\n",
    "for i, row in evt_.iterrows():\n",
    "    if i_==0:\n",
    "        e_.loc[i_] = row\n",
    "        i_+=1\n",
    "    else:\n",
    "        if ((i-1 in evt_.index) and (evt_.loc[i]['Trip']==evt_.loc[i-1]['Trip']) \\\n",
    "        and (evt_.loc[i]['Device']==evt_.loc[i-1]['Device']) and (evt_.loc[i]['Time']-evt_.loc[i-1]['Time']<=ignore_interval)):\n",
    "            pass\n",
    "        else:\n",
    "            e_.loc[i_] = row\n",
    "            i_+=1\n",
    "max_look_time = 60 * 100\n",
    "reactiveness = pd.DataFrame(columns=['Device','Trip','ReactionTime','Time'])\n",
    "for i,row in e_.iterrows():\n",
    "    rt = list(host[(host['Device']==row['Device']) & (host['Trip']==row['Trip']) & (host['Time']>row['Time']) & (host['Time']<(row['Time']+max_look_time)) & (host['BrakeStatus']==1)]['Time'])\n",
    "    if len(rt)>0:\n",
    "        rt=(rt[0]-row['Time'])/100\n",
    "    else:\n",
    "        rt=-1\n",
    "    reactiveness.loc[i]=[row['Device'],row['Trip'],rt,row['Time']]\n",
    "reactiveness.head()"
   ]
  },
  {
   "cell_type": "code",
   "execution_count": 3,
   "metadata": {},
   "outputs": [],
   "source": [
    "# label reactiveness : less that 1sec as 1\n",
    "reactiveness['reactiveness'] = reactiveness['ReactionTime'].map(lambda x: 1 if abs(x)<1 else 0)"
   ]
  },
  {
   "cell_type": "code",
   "execution_count": 4,
   "metadata": {},
   "outputs": [],
   "source": [
    "# drop duplicates (for now) (later average?)\n",
    "reactiveness=reactiveness.drop_duplicates(['Device','Trip'])"
   ]
  },
  {
   "cell_type": "code",
   "execution_count": 5,
   "metadata": {},
   "outputs": [
    {
     "data": {
      "text/plain": [
       "1    80\n",
       "0    20\n",
       "Name: reactiveness, dtype: int64"
      ]
     },
     "execution_count": 5,
     "metadata": {},
     "output_type": "execute_result"
    }
   ],
   "source": [
    "reactiveness['reactiveness'].value_counts()"
   ]
  },
  {
   "cell_type": "code",
   "execution_count": 6,
   "metadata": {},
   "outputs": [],
   "source": [
    "# Features: ['BrakeStatus','Speed','ThrottlePosPct', 'StreerAngle']\n",
    "# get features from host table into x_train, calculate max len of the \n",
    "x_train = []\n",
    "y_train = []\n",
    "max_len = -float('inf')\n",
    "\n",
    "for i,row in reactiveness.iterrows():\n",
    "    x=(host[(host['Device']==row['Device']) & (host['Trip']==row['Trip'])][['BrakeStatus','Speed','ThrottlePosPct','SteerAngle']]).values\n",
    "    if len(x)>=max_len:\n",
    "        max_len = len(x)\n",
    "    x_train.append(x)\n",
    "    y_train.append(row['reactiveness'])"
   ]
  },
  {
   "cell_type": "code",
   "execution_count": 7,
   "metadata": {},
   "outputs": [],
   "source": [
    "# create same length by appending zeros\n",
    "import numpy as np\n",
    "x_t = []\n",
    "for x in x_train:\n",
    "    zeros = np.zeros((max_len-len(x),4))\n",
    "    x_t.append(np.append(x,zeros,axis=0))"
   ]
  },
  {
   "cell_type": "code",
   "execution_count": 8,
   "metadata": {},
   "outputs": [],
   "source": [
    "# convert to np arrays\n",
    "x_ = np.array(x_t)\n",
    "y_ = np.array(y_train)\n",
    "from sklearn.utils import shuffle\n",
    "x_, y_ = shuffle(x_, y_, random_state=0)"
   ]
  },
  {
   "cell_type": "code",
   "execution_count": 9,
   "metadata": {},
   "outputs": [],
   "source": [
    "# imports\n",
    "import tensorflow as tf\n",
    "from tensorflow.keras.models import Sequential\n",
    "from tensorflow.keras.layers import Dense, Dropout, LSTM, CuDNNLSTM \n",
    "from sklearn.model_selection import train_test_split"
   ]
  },
  {
   "cell_type": "code",
   "execution_count": 10,
   "metadata": {},
   "outputs": [
    {
     "name": "stdout",
     "output_type": "stream",
     "text": [
      "WARNING:tensorflow:From /home/keshav/anaconda3/envs/data-x/lib/python3.6/site-packages/tensorflow/python/ops/resource_variable_ops.py:435: colocate_with (from tensorflow.python.framework.ops) is deprecated and will be removed in a future version.\n",
      "Instructions for updating:\n",
      "Colocations handled automatically by placer.\n",
      "WARNING:tensorflow:From /home/keshav/anaconda3/envs/data-x/lib/python3.6/site-packages/tensorflow/python/keras/layers/core.py:143: calling dropout (from tensorflow.python.ops.nn_ops) with keep_prob is deprecated and will be removed in a future version.\n",
      "Instructions for updating:\n",
      "Please use `rate` instead of `keep_prob`. Rate should be set to `rate = 1 - keep_prob`.\n"
     ]
    }
   ],
   "source": [
    "# binary classification lstm model\n",
    "model = Sequential()\n",
    "model.add(LSTM(128,input_shape=(x_.shape[1:]),activation='relu',return_sequences=True))\n",
    "model.add(Dropout(0.2))\n",
    "\n",
    "model.add(LSTM(128,activation='relu'))\n",
    "model.add(Dropout(0.2))\n",
    "\n",
    "model.add(Dense(32,activation='relu'))\n",
    "model.add(Dropout(0.2))\n",
    "\n",
    "model.add(Dense(1, activation='sigmoid'))"
   ]
  },
  {
   "cell_type": "code",
   "execution_count": 11,
   "metadata": {},
   "outputs": [],
   "source": [
    "# complie\n",
    "model.compile(loss='binary_crossentropy', optimizer='adam', metrics=['accuracy'])"
   ]
  },
  {
   "cell_type": "code",
   "execution_count": null,
   "metadata": {},
   "outputs": [
    {
     "name": "stdout",
     "output_type": "stream",
     "text": [
      "Train on 80 samples, validate on 20 samples\n"
     ]
    }
   ],
   "source": [
    "# fit\n",
    "x_train, x_test, y_train, y_test = train_test_split(x_, y_, test_size=0.2, random_state=42)\n",
    "model.fit(x_train,y_train,epochs=1,validation_data=(x_test,y_test))"
   ]
  },
  {
   "cell_type": "markdown",
   "metadata": {},
   "source": [
    "# Train on smaller subset of trips\n",
    "\n"
   ]
  },
  {
   "cell_type": "code",
   "execution_count": 2,
   "metadata": {},
   "outputs": [],
   "source": [
    "import pandas as pd\n",
    "import numpy as np"
   ]
  },
  {
   "cell_type": "code",
   "execution_count": 3,
   "metadata": {},
   "outputs": [],
   "source": [
    "alertl = pd.read_csv('AlertLevel.csv')\n",
    "rvbsm = pd.read_csv('RvBsm.csv')\n",
    "summary = pd.read_csv('Summary.csv')\n",
    "eventappid = pd.read_csv('EventAppID.csv')\n",
    "host = pd.read_csv('Host.csv')\n",
    "rvzone = pd.read_csv('RvZone.csv')\n",
    "evtwarn = pd.read_csv('EvtWarn.csv')\n",
    "vehclass = pd.read_csv('RvBasicVehClass.csv')\n",
    "spat = pd.read_csv('Spat.csv')"
   ]
  },
  {
   "cell_type": "code",
   "execution_count": 4,
   "metadata": {},
   "outputs": [],
   "source": [
    "evt_ = evtwarn[(evtwarn['EventAppId'] == 2)]\n",
    "ignore_interval = 2.5 * 100\n",
    "e_  = pd.DataFrame(columns=evt_.columns)\n",
    "i_ = 0\n",
    "for i, row in evt_.iterrows():\n",
    "    if i_==0:\n",
    "        e_.loc[i_] = row\n",
    "        i_+=1\n",
    "    else:\n",
    "        if ((i-1 in evt_.index) and (evt_.loc[i]['Trip']==evt_.loc[i-1]['Trip']) \\\n",
    "        and (evt_.loc[i]['Device']==evt_.loc[i-1]['Device']) and (evt_.loc[i]['Time']-evt_.loc[i-1]['Time']<=ignore_interval)):\n",
    "            pass\n",
    "        else:\n",
    "            e_.loc[i_] = row\n",
    "            i_+=1\n",
    "max_look_time = 60 * 100\n",
    "reactiveness = pd.DataFrame(columns=['Device','Trip','ReactionTime','Time'])\n",
    "for i,row in e_.iterrows():\n",
    "    rt = list(host[(host['Device']==row['Device']) & (host['Trip']==row['Trip']) & (host['Time']>row['Time']) & (host['Time']<(row['Time']+max_look_time)) & (host['BrakeStatus']==1)]['Time'])\n",
    "    if len(rt)>0:\n",
    "        rt=(rt[0]-row['Time'])/100\n",
    "    else:\n",
    "        rt=-1\n",
    "    reactiveness.loc[i]=[row['Device'],row['Trip'],rt,row['Time']]\n",
    "reactiveness.head()"
   ]
  },
  {
   "cell_type": "code",
   "execution_count": 5,
   "metadata": {},
   "outputs": [],
   "source": [
    "# label reactiveness : less that 1sec as 1\n",
    "reactiveness['reactiveness'] = reactiveness['ReactionTime'].map(lambda x: 1 if abs(x)<1 else 0)"
   ]
  },
  {
   "cell_type": "code",
   "execution_count": 6,
   "metadata": {},
   "outputs": [],
   "source": [
    "# drop duplicates (for now) (later average?)\n",
    "reactiveness = reactiveness.drop_duplicates(['Device','Trip'])"
   ]
  },
  {
   "cell_type": "code",
   "execution_count": 7,
   "metadata": {},
   "outputs": [
    {
     "data": {
      "text/plain": [
       "1    80\n",
       "0    20\n",
       "Name: reactiveness, dtype: int64"
      ]
     },
     "execution_count": 7,
     "metadata": {},
     "output_type": "execute_result"
    }
   ],
   "source": [
    "reactiveness['reactiveness'].value_counts()"
   ]
  },
  {
   "cell_type": "code",
   "execution_count": 8,
   "metadata": {},
   "outputs": [],
   "source": [
    "# Features: ['BrakeStatus','Speed','ThrottlePosPct', 'StreerAngle']\n",
    "# get features from host table into x_train, divided into smaller chunks\n",
    "x_train = []\n",
    "y_train = []\n",
    "chunk_size = 100\n",
    "\n",
    "for i,row in reactiveness.iterrows():\n",
    "    x=(host[(host['Device']==row['Device']) & (host['Trip']==row['Trip'])][['BrakeStatus','Speed','ThrottlePosPct','SteerAngle']]).values\n",
    "    for j in range(0,len(x)-chunk_size,chunk_size):\n",
    "        x_train.append(x[j:j+chunk_size])\n",
    "        y_train.append(row['reactiveness'])"
   ]
  },
  {
   "cell_type": "code",
   "execution_count": 9,
   "metadata": {},
   "outputs": [],
   "source": [
    "# convert to np arrays\n",
    "x_ = np.array(x_train)\n",
    "y_ = np.array(y_train)\n",
    "from sklearn.utils import shuffle\n",
    "x_, y_ = shuffle(x_, y_, random_state=0)"
   ]
  },
  {
   "cell_type": "code",
   "execution_count": 10,
   "metadata": {},
   "outputs": [],
   "source": [
    "# imports\n",
    "import tensorflow as tf\n",
    "from tensorflow.keras.models import Sequential\n",
    "from tensorflow.keras.layers import Dense, Dropout, LSTM, CuDNNLSTM \n",
    "from sklearn.model_selection import train_test_split"
   ]
  },
  {
   "cell_type": "code",
   "execution_count": 11,
   "metadata": {},
   "outputs": [
    {
     "name": "stdout",
     "output_type": "stream",
     "text": [
      "WARNING:tensorflow:From /home/keshav/anaconda3/envs/data-x/lib/python3.6/site-packages/tensorflow/python/ops/resource_variable_ops.py:435: colocate_with (from tensorflow.python.framework.ops) is deprecated and will be removed in a future version.\n",
      "Instructions for updating:\n",
      "Colocations handled automatically by placer.\n",
      "WARNING:tensorflow:From /home/keshav/anaconda3/envs/data-x/lib/python3.6/site-packages/tensorflow/python/keras/layers/core.py:143: calling dropout (from tensorflow.python.ops.nn_ops) with keep_prob is deprecated and will be removed in a future version.\n",
      "Instructions for updating:\n",
      "Please use `rate` instead of `keep_prob`. Rate should be set to `rate = 1 - keep_prob`.\n"
     ]
    }
   ],
   "source": [
    "# binary classification lstm model\n",
    "model = Sequential()\n",
    "model.add(LSTM(128,input_shape=(x_.shape[1:]),activation='relu',return_sequences=True))\n",
    "model.add(Dropout(0.2))\n",
    "\n",
    "model.add(LSTM(128,activation='relu'))\n",
    "model.add(Dropout(0.2))\n",
    "\n",
    "model.add(Dense(32,activation='relu'))\n",
    "model.add(Dropout(0.2))\n",
    "\n",
    "model.add(Dense(1, activation='sigmoid'))"
   ]
  },
  {
   "cell_type": "code",
   "execution_count": 12,
   "metadata": {},
   "outputs": [],
   "source": [
    "# complie\n",
    "model.compile(loss='binary_crossentropy', optimizer='adam', metrics=['accuracy'])"
   ]
  },
  {
   "cell_type": "code",
   "execution_count": 13,
   "metadata": {},
   "outputs": [
    {
     "name": "stdout",
     "output_type": "stream",
     "text": [
      "Train on 2468 samples, validate on 618 samples\n",
      "WARNING:tensorflow:From /home/keshav/anaconda3/envs/data-x/lib/python3.6/site-packages/tensorflow/python/ops/math_ops.py:3066: to_int32 (from tensorflow.python.ops.math_ops) is deprecated and will be removed in a future version.\n",
      "Instructions for updating:\n",
      "Use tf.cast instead.\n",
      "2468/2468 [==============================] - 108s 44ms/sample - loss: nan - acc: 0.3724 - val_loss: nan - val_acc: 0.1602\n"
     ]
    },
    {
     "data": {
      "text/plain": [
       "<tensorflow.python.keras.callbacks.History at 0x7f010d2716a0>"
      ]
     },
     "execution_count": 13,
     "metadata": {},
     "output_type": "execute_result"
    }
   ],
   "source": [
    "# fit\n",
    "x_train, x_test, y_train, y_test = train_test_split(x_, y_, test_size=0.2, random_state=42)\n",
    "model.fit(x_train,y_train,epochs=1,validation_data=(x_test,y_test))"
   ]
  }
 ],
 "metadata": {
  "kernelspec": {
   "display_name": "data-x",
   "language": "python",
   "name": "data-x"
  },
  "language_info": {
   "codemirror_mode": {
    "name": "ipython",
    "version": 3
   },
   "file_extension": ".py",
   "mimetype": "text/x-python",
   "name": "python",
   "nbconvert_exporter": "python",
   "pygments_lexer": "ipython3",
   "version": "3.6.7"
  }
 },
 "nbformat": 4,
 "nbformat_minor": 2
}
