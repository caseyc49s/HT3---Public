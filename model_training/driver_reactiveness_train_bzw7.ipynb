{
  "nbformat": 4,
  "nbformat_minor": 0,
  "metadata": {
    "colab": {
      "name": "driver_reactiveness_train_bzw7.ipynb",
      "version": "0.3.2",
      "provenance": [],
      "collapsed_sections": []
    },
    "language_info": {
      "codemirror_mode": {
        "name": "ipython",
        "version": 3
      },
      "file_extension": ".py",
      "mimetype": "text/x-python",
      "name": "python",
      "nbconvert_exporter": "python",
      "pygments_lexer": "ipython3",
      "version": "3.7.3"
    },
    "kernelspec": {
      "name": "python3",
      "display_name": "Python 3"
    },
    "accelerator": "GPU"
  },
  "cells": [
    {
      "cell_type": "code",
      "metadata": {
        "id": "Y3ysON49-Yqj",
        "colab_type": "code",
        "outputId": "d3a8ed26-62fe-4949-afec-c026081ffaba",
        "colab": {
          "base_uri": "https://localhost:8080/",
          "height": 122
        }
      },
      "source": [
        "from google.colab import drive\n",
        "drive.mount('/content/drive')"
      ],
      "execution_count": 0,
      "outputs": [
        {
          "output_type": "stream",
          "text": [
            "Go to this URL in a browser: https://accounts.google.com/o/oauth2/auth?client_id=947318989803-6bn6qk8qdgf4n4g3pfee6491hc0brc4i.apps.googleusercontent.com&redirect_uri=urn%3Aietf%3Awg%3Aoauth%3A2.0%3Aoob&scope=email%20https%3A%2F%2Fwww.googleapis.com%2Fauth%2Fdocs.test%20https%3A%2F%2Fwww.googleapis.com%2Fauth%2Fdrive%20https%3A%2F%2Fwww.googleapis.com%2Fauth%2Fdrive.photos.readonly%20https%3A%2F%2Fwww.googleapis.com%2Fauth%2Fpeopleapi.readonly&response_type=code\n",
            "\n",
            "Enter your authorization code:\n",
            "··········\n",
            "Mounted at /content/drive\n"
          ],
          "name": "stdout"
        }
      ]
    },
    {
      "cell_type": "code",
      "metadata": {
        "id": "_1oBdwHH-n4a",
        "colab_type": "code",
        "outputId": "d7f5ff73-6730-4862-a6ca-a723696a2536",
        "colab": {
          "base_uri": "https://localhost:8080/",
          "height": 51
        }
      },
      "source": [
        "!unzip 'drive/My Drive/Hackathon_DB (1) (1).zip' -d 'drive/My Drive'"
      ],
      "execution_count": 0,
      "outputs": [
        {
          "output_type": "stream",
          "text": [
            "Archive:  drive/My Drive/Hackathon_DB (1) (1).zip\n",
            "replace drive/My Drive/Host.csv? [y]es, [n]o, [A]ll, [N]one, [r]ename: N\n"
          ],
          "name": "stdout"
        }
      ]
    },
    {
      "cell_type": "markdown",
      "metadata": {
        "id": "UxiGzq2lj04r",
        "colab_type": "text"
      },
      "source": [
        ""
      ]
    },
    {
      "cell_type": "code",
      "metadata": {
        "id": "taA4PtT_hi5z",
        "colab_type": "code",
        "colab": {}
      },
      "source": [
        "import os\n",
        "os.chdir('drive/My Drive')"
      ],
      "execution_count": 0,
      "outputs": []
    },
    {
      "cell_type": "code",
      "metadata": {
        "id": "5i5drXT8-OuL",
        "colab_type": "code",
        "colab": {}
      },
      "source": [
        "import pandas as pd\n",
        "#alertl = pd.read_csv('drive/My Drive/AlertLevel.csv')\n",
        "rvbsm = pd.read_csv('RvBsm.csv')\n",
        "#summary = pd.read_csv('drive/My Drive/Summary.csv')\n",
        "#eventappid = pd.read_csv('drive/My Drive/EventAppID.csv')\n",
        "host = pd.read_csv('Host.csv')\n",
        "#rvzone = pd.read_csv('drive/My Drive/RvZone.csv')\n",
        "evtwarn = pd.read_csv('EvtWarn.csv')\n",
        "#vehclass = pd.read_csv('drive/My Drive/RvBasicVehClass.csv')\n",
        "#spat = pd.read_csv('Spat.csv')"
      ],
      "execution_count": 0,
      "outputs": []
    },
    {
      "cell_type": "code",
      "metadata": {
        "id": "1tZQo3VcoTqq",
        "colab_type": "code",
        "outputId": "110ecaa3-7b95-4e30-ffb9-14c3e9b4fcc1",
        "colab": {
          "base_uri": "https://localhost:8080/",
          "height": 253
        }
      },
      "source": [
        "evtwarn.head()"
      ],
      "execution_count": 0,
      "outputs": [
        {
          "output_type": "execute_result",
          "data": {
            "text/html": [
              "<div>\n",
              "<style scoped>\n",
              "    .dataframe tbody tr th:only-of-type {\n",
              "        vertical-align: middle;\n",
              "    }\n",
              "\n",
              "    .dataframe tbody tr th {\n",
              "        vertical-align: top;\n",
              "    }\n",
              "\n",
              "    .dataframe thead th {\n",
              "        text-align: right;\n",
              "    }\n",
              "</style>\n",
              "<table border=\"1\" class=\"dataframe\">\n",
              "  <thead>\n",
              "    <tr style=\"text-align: right;\">\n",
              "      <th></th>\n",
              "      <th>Device</th>\n",
              "      <th>Trip</th>\n",
              "      <th>Time</th>\n",
              "      <th>RvDevice</th>\n",
              "      <th>NativeFlag</th>\n",
              "      <th>LocalTimeMS</th>\n",
              "      <th>PsId</th>\n",
              "      <th>RvBasicVehClass</th>\n",
              "      <th>RvRandomId</th>\n",
              "      <th>AlertLevel</th>\n",
              "      <th>...</th>\n",
              "      <th>RvLatOffset</th>\n",
              "      <th>HvLatitude</th>\n",
              "      <th>HvLongitude</th>\n",
              "      <th>HvHeading</th>\n",
              "      <th>HvElevation</th>\n",
              "      <th>HvSpeed</th>\n",
              "      <th>HvBrakeStatus</th>\n",
              "      <th>HvYawRate</th>\n",
              "      <th>HvLongitudinalAccel</th>\n",
              "      <th>HvTurnSignal</th>\n",
              "    </tr>\n",
              "  </thead>\n",
              "  <tbody>\n",
              "    <tr>\n",
              "      <th>0</th>\n",
              "      <td>2004</td>\n",
              "      <td>12</td>\n",
              "      <td>48150</td>\n",
              "      <td>2494</td>\n",
              "      <td>1</td>\n",
              "      <td>80559500</td>\n",
              "      <td>1</td>\n",
              "      <td>0</td>\n",
              "      <td>1368</td>\n",
              "      <td>2</td>\n",
              "      <td>...</td>\n",
              "      <td>-4.904795</td>\n",
              "      <td>40.258686</td>\n",
              "      <td>-83.463096</td>\n",
              "      <td>110.27</td>\n",
              "      <td>295.51999</td>\n",
              "      <td>31.577778</td>\n",
              "      <td>0</td>\n",
              "      <td>0.24</td>\n",
              "      <td>-0.0836</td>\n",
              "      <td>0</td>\n",
              "    </tr>\n",
              "    <tr>\n",
              "      <th>1</th>\n",
              "      <td>2004</td>\n",
              "      <td>12</td>\n",
              "      <td>48250</td>\n",
              "      <td>2494</td>\n",
              "      <td>1</td>\n",
              "      <td>80560500</td>\n",
              "      <td>1</td>\n",
              "      <td>0</td>\n",
              "      <td>1368</td>\n",
              "      <td>2</td>\n",
              "      <td>...</td>\n",
              "      <td>-5.043336</td>\n",
              "      <td>40.258585</td>\n",
              "      <td>-83.462745</td>\n",
              "      <td>110.43</td>\n",
              "      <td>295.42001</td>\n",
              "      <td>31.611113</td>\n",
              "      <td>0</td>\n",
              "      <td>0.24</td>\n",
              "      <td>0.0716</td>\n",
              "      <td>0</td>\n",
              "    </tr>\n",
              "    <tr>\n",
              "      <th>2</th>\n",
              "      <td>2004</td>\n",
              "      <td>12</td>\n",
              "      <td>48350</td>\n",
              "      <td>2494</td>\n",
              "      <td>1</td>\n",
              "      <td>80561500</td>\n",
              "      <td>1</td>\n",
              "      <td>0</td>\n",
              "      <td>1368</td>\n",
              "      <td>2</td>\n",
              "      <td>...</td>\n",
              "      <td>-5.195783</td>\n",
              "      <td>40.258485</td>\n",
              "      <td>-83.462393</td>\n",
              "      <td>110.53</td>\n",
              "      <td>295.32001</td>\n",
              "      <td>31.622221</td>\n",
              "      <td>0</td>\n",
              "      <td>0.24</td>\n",
              "      <td>0.2074</td>\n",
              "      <td>0</td>\n",
              "    </tr>\n",
              "    <tr>\n",
              "      <th>3</th>\n",
              "      <td>2004</td>\n",
              "      <td>12</td>\n",
              "      <td>48450</td>\n",
              "      <td>2494</td>\n",
              "      <td>1</td>\n",
              "      <td>80562500</td>\n",
              "      <td>1</td>\n",
              "      <td>0</td>\n",
              "      <td>1368</td>\n",
              "      <td>2</td>\n",
              "      <td>...</td>\n",
              "      <td>-5.365892</td>\n",
              "      <td>40.258383</td>\n",
              "      <td>-83.462042</td>\n",
              "      <td>110.57</td>\n",
              "      <td>295.12000</td>\n",
              "      <td>31.561111</td>\n",
              "      <td>0</td>\n",
              "      <td>0.24</td>\n",
              "      <td>0.1686</td>\n",
              "      <td>0</td>\n",
              "    </tr>\n",
              "    <tr>\n",
              "      <th>4</th>\n",
              "      <td>2004</td>\n",
              "      <td>54</td>\n",
              "      <td>109450</td>\n",
              "      <td>22081</td>\n",
              "      <td>1</td>\n",
              "      <td>83779400</td>\n",
              "      <td>1</td>\n",
              "      <td>0</td>\n",
              "      <td>0</td>\n",
              "      <td>3</td>\n",
              "      <td>...</td>\n",
              "      <td>0.000000</td>\n",
              "      <td>40.236264</td>\n",
              "      <td>-83.366918</td>\n",
              "      <td>4.32</td>\n",
              "      <td>267.22000</td>\n",
              "      <td>6.277778</td>\n",
              "      <td>0</td>\n",
              "      <td>-0.97</td>\n",
              "      <td>0.8282</td>\n",
              "      <td>0</td>\n",
              "    </tr>\n",
              "  </tbody>\n",
              "</table>\n",
              "<p>5 rows × 35 columns</p>\n",
              "</div>"
            ],
            "text/plain": [
              "   Device  Trip    Time  RvDevice  NativeFlag  LocalTimeMS  PsId  \\\n",
              "0    2004    12   48150      2494           1     80559500     1   \n",
              "1    2004    12   48250      2494           1     80560500     1   \n",
              "2    2004    12   48350      2494           1     80561500     1   \n",
              "3    2004    12   48450      2494           1     80562500     1   \n",
              "4    2004    54  109450     22081           1     83779400     1   \n",
              "\n",
              "   RvBasicVehClass  RvRandomId  AlertLevel  ...  RvLatOffset  HvLatitude  \\\n",
              "0                0        1368           2  ...    -4.904795   40.258686   \n",
              "1                0        1368           2  ...    -5.043336   40.258585   \n",
              "2                0        1368           2  ...    -5.195783   40.258485   \n",
              "3                0        1368           2  ...    -5.365892   40.258383   \n",
              "4                0           0           3  ...     0.000000   40.236264   \n",
              "\n",
              "   HvLongitude  HvHeading  HvElevation    HvSpeed  HvBrakeStatus  HvYawRate  \\\n",
              "0   -83.463096     110.27    295.51999  31.577778              0       0.24   \n",
              "1   -83.462745     110.43    295.42001  31.611113              0       0.24   \n",
              "2   -83.462393     110.53    295.32001  31.622221              0       0.24   \n",
              "3   -83.462042     110.57    295.12000  31.561111              0       0.24   \n",
              "4   -83.366918       4.32    267.22000   6.277778              0      -0.97   \n",
              "\n",
              "   HvLongitudinalAccel  HvTurnSignal  \n",
              "0              -0.0836             0  \n",
              "1               0.0716             0  \n",
              "2               0.2074             0  \n",
              "3               0.1686             0  \n",
              "4               0.8282             0  \n",
              "\n",
              "[5 rows x 35 columns]"
            ]
          },
          "metadata": {
            "tags": []
          },
          "execution_count": 4
        }
      ]
    },
    {
      "cell_type": "code",
      "metadata": {
        "id": "Pv30TGnF-OuZ",
        "colab_type": "code",
        "colab": {}
      },
      "source": [
        "pd.set_option('display.max_columns', 500)\n",
        "pd.set_option('display.max_rows', 100)"
      ],
      "execution_count": 0,
      "outputs": []
    },
    {
      "cell_type": "code",
      "metadata": {
        "id": "eG4i-Wsgl1vi",
        "colab_type": "code",
        "colab": {}
      },
      "source": [
        "# not required for updated dataset\n",
        "# evtwarn['Time']=evtwarn['Time'].str.replace(',','').astype(int)\n",
        "# evtwarn['Device']=evtwarn['Device'].str.replace(',','').astype(int)\n",
        "# evtwarn['Trip']=evtwarn['Trip'].str.replace(',','').astype(int)"
      ],
      "execution_count": 0,
      "outputs": []
    },
    {
      "cell_type": "code",
      "metadata": {
        "id": "VxudcnyarPTe",
        "colab_type": "code",
        "outputId": "14fe2692-c570-4250-ad7a-db047c20838c",
        "colab": {
          "base_uri": "https://localhost:8080/",
          "height": 253
        }
      },
      "source": [
        "evtwarn.head()"
      ],
      "execution_count": 0,
      "outputs": [
        {
          "output_type": "execute_result",
          "data": {
            "text/html": [
              "<div>\n",
              "<style scoped>\n",
              "    .dataframe tbody tr th:only-of-type {\n",
              "        vertical-align: middle;\n",
              "    }\n",
              "\n",
              "    .dataframe tbody tr th {\n",
              "        vertical-align: top;\n",
              "    }\n",
              "\n",
              "    .dataframe thead th {\n",
              "        text-align: right;\n",
              "    }\n",
              "</style>\n",
              "<table border=\"1\" class=\"dataframe\">\n",
              "  <thead>\n",
              "    <tr style=\"text-align: right;\">\n",
              "      <th></th>\n",
              "      <th>Device</th>\n",
              "      <th>Trip</th>\n",
              "      <th>Time</th>\n",
              "      <th>RvDevice</th>\n",
              "      <th>NativeFlag</th>\n",
              "      <th>LocalTimeMS</th>\n",
              "      <th>PsId</th>\n",
              "      <th>RvBasicVehClass</th>\n",
              "      <th>RvRandomId</th>\n",
              "      <th>AlertLevel</th>\n",
              "      <th>...</th>\n",
              "      <th>RvLatOffset</th>\n",
              "      <th>HvLatitude</th>\n",
              "      <th>HvLongitude</th>\n",
              "      <th>HvHeading</th>\n",
              "      <th>HvElevation</th>\n",
              "      <th>HvSpeed</th>\n",
              "      <th>HvBrakeStatus</th>\n",
              "      <th>HvYawRate</th>\n",
              "      <th>HvLongitudinalAccel</th>\n",
              "      <th>HvTurnSignal</th>\n",
              "    </tr>\n",
              "  </thead>\n",
              "  <tbody>\n",
              "    <tr>\n",
              "      <th>0</th>\n",
              "      <td>2004</td>\n",
              "      <td>12</td>\n",
              "      <td>48150</td>\n",
              "      <td>2,494</td>\n",
              "      <td>1</td>\n",
              "      <td>80,559,500</td>\n",
              "      <td>1</td>\n",
              "      <td>0</td>\n",
              "      <td>1,368</td>\n",
              "      <td>2</td>\n",
              "      <td>...</td>\n",
              "      <td>-4.905</td>\n",
              "      <td>40.259</td>\n",
              "      <td>-83.463</td>\n",
              "      <td>110.27</td>\n",
              "      <td>295.52</td>\n",
              "      <td>31.578</td>\n",
              "      <td>0</td>\n",
              "      <td>0.24</td>\n",
              "      <td>-0.084</td>\n",
              "      <td>0</td>\n",
              "    </tr>\n",
              "    <tr>\n",
              "      <th>1</th>\n",
              "      <td>2004</td>\n",
              "      <td>12</td>\n",
              "      <td>48250</td>\n",
              "      <td>2,494</td>\n",
              "      <td>1</td>\n",
              "      <td>80,560,500</td>\n",
              "      <td>1</td>\n",
              "      <td>0</td>\n",
              "      <td>1,368</td>\n",
              "      <td>2</td>\n",
              "      <td>...</td>\n",
              "      <td>-5.043</td>\n",
              "      <td>40.259</td>\n",
              "      <td>-83.463</td>\n",
              "      <td>110.43</td>\n",
              "      <td>295.42</td>\n",
              "      <td>31.611</td>\n",
              "      <td>0</td>\n",
              "      <td>0.24</td>\n",
              "      <td>0.072</td>\n",
              "      <td>0</td>\n",
              "    </tr>\n",
              "    <tr>\n",
              "      <th>2</th>\n",
              "      <td>2004</td>\n",
              "      <td>12</td>\n",
              "      <td>48350</td>\n",
              "      <td>2,494</td>\n",
              "      <td>1</td>\n",
              "      <td>80,561,500</td>\n",
              "      <td>1</td>\n",
              "      <td>0</td>\n",
              "      <td>1,368</td>\n",
              "      <td>2</td>\n",
              "      <td>...</td>\n",
              "      <td>-5.196</td>\n",
              "      <td>40.258</td>\n",
              "      <td>-83.462</td>\n",
              "      <td>110.53</td>\n",
              "      <td>295.32</td>\n",
              "      <td>31.622</td>\n",
              "      <td>0</td>\n",
              "      <td>0.24</td>\n",
              "      <td>0.207</td>\n",
              "      <td>0</td>\n",
              "    </tr>\n",
              "    <tr>\n",
              "      <th>3</th>\n",
              "      <td>2004</td>\n",
              "      <td>12</td>\n",
              "      <td>48450</td>\n",
              "      <td>2,494</td>\n",
              "      <td>1</td>\n",
              "      <td>80,562,500</td>\n",
              "      <td>1</td>\n",
              "      <td>0</td>\n",
              "      <td>1,368</td>\n",
              "      <td>2</td>\n",
              "      <td>...</td>\n",
              "      <td>-5.366</td>\n",
              "      <td>40.258</td>\n",
              "      <td>-83.462</td>\n",
              "      <td>110.57</td>\n",
              "      <td>295.12</td>\n",
              "      <td>31.561</td>\n",
              "      <td>0</td>\n",
              "      <td>0.24</td>\n",
              "      <td>0.169</td>\n",
              "      <td>0</td>\n",
              "    </tr>\n",
              "    <tr>\n",
              "      <th>4</th>\n",
              "      <td>2004</td>\n",
              "      <td>54</td>\n",
              "      <td>109450</td>\n",
              "      <td>22,081</td>\n",
              "      <td>1</td>\n",
              "      <td>83,779,400</td>\n",
              "      <td>1</td>\n",
              "      <td>0</td>\n",
              "      <td>0</td>\n",
              "      <td>3</td>\n",
              "      <td>...</td>\n",
              "      <td>0.000</td>\n",
              "      <td>40.236</td>\n",
              "      <td>-83.367</td>\n",
              "      <td>4.32</td>\n",
              "      <td>267.22</td>\n",
              "      <td>6.278</td>\n",
              "      <td>0</td>\n",
              "      <td>-0.97</td>\n",
              "      <td>0.828</td>\n",
              "      <td>0</td>\n",
              "    </tr>\n",
              "  </tbody>\n",
              "</table>\n",
              "<p>5 rows × 35 columns</p>\n",
              "</div>"
            ],
            "text/plain": [
              "   Device  Trip    Time RvDevice  NativeFlag LocalTimeMS  PsId  \\\n",
              "0    2004    12   48150    2,494           1  80,559,500     1   \n",
              "1    2004    12   48250    2,494           1  80,560,500     1   \n",
              "2    2004    12   48350    2,494           1  80,561,500     1   \n",
              "3    2004    12   48450    2,494           1  80,562,500     1   \n",
              "4    2004    54  109450   22,081           1  83,779,400     1   \n",
              "\n",
              "   RvBasicVehClass RvRandomId  AlertLevel  ...  RvLatOffset  HvLatitude  \\\n",
              "0                0      1,368           2  ...       -4.905      40.259   \n",
              "1                0      1,368           2  ...       -5.043      40.259   \n",
              "2                0      1,368           2  ...       -5.196      40.258   \n",
              "3                0      1,368           2  ...       -5.366      40.258   \n",
              "4                0          0           3  ...        0.000      40.236   \n",
              "\n",
              "   HvLongitude  HvHeading  HvElevation  HvSpeed  HvBrakeStatus  HvYawRate  \\\n",
              "0      -83.463     110.27       295.52   31.578              0       0.24   \n",
              "1      -83.463     110.43       295.42   31.611              0       0.24   \n",
              "2      -83.462     110.53       295.32   31.622              0       0.24   \n",
              "3      -83.462     110.57       295.12   31.561              0       0.24   \n",
              "4      -83.367       4.32       267.22    6.278              0      -0.97   \n",
              "\n",
              "   HvLongitudinalAccel HvTurnSignal  \n",
              "0               -0.084            0  \n",
              "1                0.072            0  \n",
              "2                0.207            0  \n",
              "3                0.169            0  \n",
              "4                0.828            0  \n",
              "\n",
              "[5 rows x 35 columns]"
            ]
          },
          "metadata": {
            "tags": []
          },
          "execution_count": 6
        }
      ]
    },
    {
      "cell_type": "code",
      "metadata": {
        "id": "RrvkmeLxnVsG",
        "colab_type": "code",
        "colab": {}
      },
      "source": [
        "# event data corresponding to IMA and FCW\n",
        "# Since warning are continous in time, ignore warnings in a rolling period of 5s\n",
        "evt_ = evtwarn[(evtwarn['EventAppId'] == 2) | (evtwarn['EventAppId']==1)]\n",
        "ignore_interval = 5 * 100\n",
        "e_  = pd.DataFrame(columns=evt_.columns)\n",
        "i_ = 0\n",
        "for i, row in evt_.iterrows():\n",
        "    if i_==0:\n",
        "        e_.loc[i_] = row\n",
        "        i_+=1\n",
        "    else:\n",
        "        if ((i-1 in evt_.index) and (evt_.loc[i]['Trip']==evt_.loc[i-1]['Trip']) \\\n",
        "            and (evt_.loc[i]['Device']==evt_.loc[i-1]['Device']) and (evt_.loc[i]['Time']-evt_.loc[i-1]['Time']<=ignore_interval)):\n",
        "            pass\n",
        "        else:\n",
        "            e_.loc[i_] = row\n",
        "            i_+=1\n"
      ],
      "execution_count": 0,
      "outputs": []
    },
    {
      "cell_type": "code",
      "metadata": {
        "id": "AepijyxdnVvB",
        "colab_type": "code",
        "outputId": "ad7a1bf9-987a-435b-d0aa-fa8e9200efe3",
        "colab": {
          "base_uri": "https://localhost:8080/",
          "height": 204
        }
      },
      "source": [
        "# Calculate reaction times for individual warnings, max of 60s\n",
        "max_look_time = 60 * 100\n",
        "reactiveness = pd.DataFrame(columns=['Device','Trip','ReactionTime','Time'])\n",
        "for i,row in e_.iterrows():\n",
        "    rt = list(host[(host['Device']==row['Device']) & (host['Trip']==row['Trip']) & (host['Time']>row['Time']) & (host['Time']<(row['Time']+max_look_time)) & (host['BrakeStatus']==1)]['Time'])\n",
        "    if len(rt)>0:\n",
        "        rt=(rt[0]-row['Time'])/100\n",
        "    else:\n",
        "        rt=60\n",
        "    reactiveness.loc[i]=[row['Device'],row['Trip'],rt,row['Time']]\n",
        "reactiveness.head()"
      ],
      "execution_count": 0,
      "outputs": [
        {
          "output_type": "execute_result",
          "data": {
            "text/html": [
              "<div>\n",
              "<style scoped>\n",
              "    .dataframe tbody tr th:only-of-type {\n",
              "        vertical-align: middle;\n",
              "    }\n",
              "\n",
              "    .dataframe tbody tr th {\n",
              "        vertical-align: top;\n",
              "    }\n",
              "\n",
              "    .dataframe thead th {\n",
              "        text-align: right;\n",
              "    }\n",
              "</style>\n",
              "<table border=\"1\" class=\"dataframe\">\n",
              "  <thead>\n",
              "    <tr style=\"text-align: right;\">\n",
              "      <th></th>\n",
              "      <th>Device</th>\n",
              "      <th>Trip</th>\n",
              "      <th>ReactionTime</th>\n",
              "      <th>Time</th>\n",
              "    </tr>\n",
              "  </thead>\n",
              "  <tbody>\n",
              "    <tr>\n",
              "      <th>0</th>\n",
              "      <td>2004.0</td>\n",
              "      <td>54.0</td>\n",
              "      <td>6.0</td>\n",
              "      <td>109450.0</td>\n",
              "    </tr>\n",
              "    <tr>\n",
              "      <th>1</th>\n",
              "      <td>2004.0</td>\n",
              "      <td>55.0</td>\n",
              "      <td>10.0</td>\n",
              "      <td>9800.0</td>\n",
              "    </tr>\n",
              "    <tr>\n",
              "      <th>2</th>\n",
              "      <td>2008.0</td>\n",
              "      <td>61.0</td>\n",
              "      <td>0.5</td>\n",
              "      <td>222650.0</td>\n",
              "    </tr>\n",
              "    <tr>\n",
              "      <th>3</th>\n",
              "      <td>2147.0</td>\n",
              "      <td>156.0</td>\n",
              "      <td>0.5</td>\n",
              "      <td>136900.0</td>\n",
              "    </tr>\n",
              "    <tr>\n",
              "      <th>4</th>\n",
              "      <td>2331.0</td>\n",
              "      <td>20.0</td>\n",
              "      <td>0.5</td>\n",
              "      <td>194450.0</td>\n",
              "    </tr>\n",
              "  </tbody>\n",
              "</table>\n",
              "</div>"
            ],
            "text/plain": [
              "   Device   Trip  ReactionTime      Time\n",
              "0  2004.0   54.0           6.0  109450.0\n",
              "1  2004.0   55.0          10.0    9800.0\n",
              "2  2008.0   61.0           0.5  222650.0\n",
              "3  2147.0  156.0           0.5  136900.0\n",
              "4  2331.0   20.0           0.5  194450.0"
            ]
          },
          "metadata": {
            "tags": []
          },
          "execution_count": 7
        }
      ]
    },
    {
      "cell_type": "code",
      "metadata": {
        "id": "fEO-IrCJnVyI",
        "colab_type": "code",
        "colab": {}
      },
      "source": [
        "# label reactiveness : less that 1sec as 1\n",
        "\n",
        "# reactiveness['reactiveness'] = reactiveness['ReactionTime'].map(lambda x: 4 if x*2>4 else x*2-1)\n",
        "reactiveness['reactiveness'] = reactiveness['ReactionTime'].map(lambda x: 1 if x<=0.5 else 0)\n",
        "reactiveness['reactiveness']=reactiveness['reactiveness'].astype(int)"
      ],
      "execution_count": 0,
      "outputs": []
    },
    {
      "cell_type": "code",
      "metadata": {
        "id": "l5pDDqY1nV1i",
        "colab_type": "code",
        "outputId": "4348ac8a-ab0b-4700-ad15-cc94d111bae3",
        "colab": {
          "base_uri": "https://localhost:8080/",
          "height": 68
        }
      },
      "source": [
        "reactiveness['reactiveness'].value_counts()"
      ],
      "execution_count": 0,
      "outputs": [
        {
          "output_type": "execute_result",
          "data": {
            "text/plain": [
              "1    100\n",
              "0     31\n",
              "Name: reactiveness, dtype: int64"
            ]
          },
          "metadata": {
            "tags": []
          },
          "execution_count": 9
        }
      ]
    },
    {
      "cell_type": "code",
      "metadata": {
        "id": "PF4YLefMwD_u",
        "colab_type": "code",
        "outputId": "20f660eb-73ca-4987-9d28-2932ca5fbeac",
        "colab": {
          "base_uri": "https://localhost:8080/",
          "height": 102
        }
      },
      "source": [
        "# add a start time to split host\n",
        "r_ = reactiveness.copy()\n",
        "r_.rename(columns = {'Time':'EndTime'}, inplace = True)\n",
        "r_['StartTime']= 0\n",
        "for i,row in r_.iterrows():\n",
        "  if (i-1 in reactiveness.index) and (reactiveness.loc[i-1]['Device']==row['Device']) and (reactiveness.loc[i-1]['Trip']==row['Trip']):\n",
        "    r_['StartTime'].loc[i]=reactiveness['Time'].loc[i-1]\n",
        "reactiveness = r_.copy()"
      ],
      "execution_count": 0,
      "outputs": [
        {
          "output_type": "stream",
          "text": [
            "/usr/local/lib/python3.6/dist-packages/pandas/core/indexing.py:190: SettingWithCopyWarning: \n",
            "A value is trying to be set on a copy of a slice from a DataFrame\n",
            "\n",
            "See the caveats in the documentation: http://pandas.pydata.org/pandas-docs/stable/indexing.html#indexing-view-versus-copy\n",
            "  self._setitem_with_indexer(indexer, value)\n"
          ],
          "name": "stderr"
        }
      ]
    },
    {
      "cell_type": "code",
      "metadata": {
        "id": "AZdXoKteOwLU",
        "colab_type": "code",
        "outputId": "65620afc-0190-4689-b605-e5ee4f6618d4",
        "colab": {
          "base_uri": "https://localhost:8080/",
          "height": 204
        }
      },
      "source": [
        "r_.head()"
      ],
      "execution_count": 0,
      "outputs": [
        {
          "output_type": "execute_result",
          "data": {
            "text/html": [
              "<div>\n",
              "<style scoped>\n",
              "    .dataframe tbody tr th:only-of-type {\n",
              "        vertical-align: middle;\n",
              "    }\n",
              "\n",
              "    .dataframe tbody tr th {\n",
              "        vertical-align: top;\n",
              "    }\n",
              "\n",
              "    .dataframe thead th {\n",
              "        text-align: right;\n",
              "    }\n",
              "</style>\n",
              "<table border=\"1\" class=\"dataframe\">\n",
              "  <thead>\n",
              "    <tr style=\"text-align: right;\">\n",
              "      <th></th>\n",
              "      <th>Device</th>\n",
              "      <th>Trip</th>\n",
              "      <th>ReactionTime</th>\n",
              "      <th>EndTime</th>\n",
              "      <th>reactiveness</th>\n",
              "      <th>StartTime</th>\n",
              "    </tr>\n",
              "  </thead>\n",
              "  <tbody>\n",
              "    <tr>\n",
              "      <th>0</th>\n",
              "      <td>2004.0</td>\n",
              "      <td>54.0</td>\n",
              "      <td>6.0</td>\n",
              "      <td>109450.0</td>\n",
              "      <td>0</td>\n",
              "      <td>0.0</td>\n",
              "    </tr>\n",
              "    <tr>\n",
              "      <th>1</th>\n",
              "      <td>2004.0</td>\n",
              "      <td>55.0</td>\n",
              "      <td>10.0</td>\n",
              "      <td>9800.0</td>\n",
              "      <td>0</td>\n",
              "      <td>0.0</td>\n",
              "    </tr>\n",
              "    <tr>\n",
              "      <th>2</th>\n",
              "      <td>2008.0</td>\n",
              "      <td>61.0</td>\n",
              "      <td>0.5</td>\n",
              "      <td>222650.0</td>\n",
              "      <td>1</td>\n",
              "      <td>0.0</td>\n",
              "    </tr>\n",
              "    <tr>\n",
              "      <th>3</th>\n",
              "      <td>2147.0</td>\n",
              "      <td>156.0</td>\n",
              "      <td>0.5</td>\n",
              "      <td>136900.0</td>\n",
              "      <td>1</td>\n",
              "      <td>0.0</td>\n",
              "    </tr>\n",
              "    <tr>\n",
              "      <th>4</th>\n",
              "      <td>2331.0</td>\n",
              "      <td>20.0</td>\n",
              "      <td>0.5</td>\n",
              "      <td>194450.0</td>\n",
              "      <td>1</td>\n",
              "      <td>0.0</td>\n",
              "    </tr>\n",
              "  </tbody>\n",
              "</table>\n",
              "</div>"
            ],
            "text/plain": [
              "   Device   Trip  ReactionTime   EndTime  reactiveness  StartTime\n",
              "0  2004.0   54.0           6.0  109450.0             0        0.0\n",
              "1  2004.0   55.0          10.0    9800.0             0        0.0\n",
              "2  2008.0   61.0           0.5  222650.0             1        0.0\n",
              "3  2147.0  156.0           0.5  136900.0             1        0.0\n",
              "4  2331.0   20.0           0.5  194450.0             1        0.0"
            ]
          },
          "metadata": {
            "tags": []
          },
          "execution_count": 11
        }
      ]
    },
    {
      "cell_type": "code",
      "metadata": {
        "id": "M79idZOSkJzj",
        "colab_type": "code",
        "colab": {}
      },
      "source": [
        "# normalize dataset on the host table\n",
        "host['Speed']=(host['Speed']-min(host['Speed'].values))/(max(host['Speed'].values)-min(host['Speed'].values))\n",
        "host['ThrottlePosPct']=(host['ThrottlePosPct']-min(host['ThrottlePosPct'].values))/(max(host['ThrottlePosPct'].values)-min(host['ThrottlePosPct'].values))\n",
        "host['SteerAngle']=(host['SteerAngle']-min(host['SteerAngle'].values))/(max(host['SteerAngle'].values)-min(host['SteerAngle'].values))\n",
        "host['LongAccel']=(host['LongAccel']-min(host['LongAccel'].values))/(max(host['LongAccel'].values)-min(host['LongAccel'].values))\n"
      ],
      "execution_count": 0,
      "outputs": []
    },
    {
      "cell_type": "code",
      "metadata": {
        "id": "gnpl_2rYnV4Y",
        "colab_type": "code",
        "colab": {}
      },
      "source": [
        "# split host\n",
        "x_train = []\n",
        "y_train = []\n",
        "max_len = -float('inf')\n",
        "features = ['BrakeStatus','Speed','ThrottlePosPct','SteerAngle','LongAccel']\n",
        "\n",
        "for i,row in reactiveness.iterrows():\n",
        "    x=(host[(host['Device']==row['Device']) & (host['Trip']==row['Trip']) & (host['Time']>row['StartTime']) \\\n",
        "            & (host['Time']>row['EndTime'])][features]).values\n",
        "    if len(x)>=max_len:\n",
        "        max_len = len(x)\n",
        "    x_train.append(x)\n",
        "    y_train.append(row['reactiveness'])"
      ],
      "execution_count": 0,
      "outputs": []
    },
    {
      "cell_type": "code",
      "metadata": {
        "id": "FBeGZat6nV7U",
        "colab_type": "code",
        "colab": {}
      },
      "source": [
        "# create same length by appending zeros\n",
        "import numpy as np\n",
        "x_t = []\n",
        "for x in x_train:\n",
        "    zeros = np.zeros((max_len-len(x),len(features)))\n",
        "    x_t.append(np.append(x,zeros,axis=0))"
      ],
      "execution_count": 0,
      "outputs": []
    },
    {
      "cell_type": "code",
      "metadata": {
        "id": "D0nVfLYAJpSt",
        "colab_type": "code",
        "colab": {}
      },
      "source": [
        "# categorical classes for multiclass classification\n",
        "# from keras.utils.np_utils import to_categorical   \n",
        "\n",
        "# y_train = to_categorical(y_train, num_classes=5)"
      ],
      "execution_count": 0,
      "outputs": []
    },
    {
      "cell_type": "code",
      "metadata": {
        "id": "RQG_ISJe6Vve",
        "colab_type": "code",
        "colab": {}
      },
      "source": [
        "# convert to np arrays\n",
        "x_ = np.array(x_t)\n",
        "y_ = np.array(y_train)\n",
        "from sklearn.utils import shuffle\n",
        "x_, y_ = shuffle(x_, y_, random_state=0)"
      ],
      "execution_count": 0,
      "outputs": []
    },
    {
      "cell_type": "code",
      "metadata": {
        "id": "miHt45pj7W5v",
        "colab_type": "code",
        "colab": {}
      },
      "source": [
        "# def normalize(x):\n",
        "#   #where x is a col\n",
        "#   maxval = max(x)\n",
        "#   minval = min(x)\n",
        "#   x_= (x-minval)/(maxval - minval)\n",
        "#   print (x_)\n",
        "#   return x_"
      ],
      "execution_count": 0,
      "outputs": []
    },
    {
      "cell_type": "code",
      "metadata": {
        "id": "Jhsv9GqW7Xnv",
        "colab_type": "code",
        "colab": {}
      },
      "source": [
        "# x_ = np.apply_along_axis(normalize,0,x_)"
      ],
      "execution_count": 0,
      "outputs": []
    },
    {
      "cell_type": "code",
      "metadata": {
        "id": "Baeq5lt3atmV",
        "colab_type": "code",
        "colab": {}
      },
      "source": [
        "# from scipy.stats import describe\n",
        "# describe(x_)"
      ],
      "execution_count": 0,
      "outputs": []
    },
    {
      "cell_type": "code",
      "metadata": {
        "id": "8-923ov26WE0",
        "colab_type": "code",
        "colab": {}
      },
      "source": [
        "# imports\n",
        "import tensorflow as tf\n",
        "from tensorflow.keras.models import Sequential\n",
        "from tensorflow.keras.layers import Dense, Dropout, LSTM, CuDNNLSTM \n",
        "from sklearn.model_selection import train_test_split"
      ],
      "execution_count": 0,
      "outputs": []
    },
    {
      "cell_type": "code",
      "metadata": {
        "id": "Ba1tk2MwnV-f",
        "colab_type": "code",
        "outputId": "9c2283ba-cf3e-4cda-9fe3-a51d515ec994",
        "colab": {
          "base_uri": "https://localhost:8080/",
          "height": 88
        }
      },
      "source": [
        "# binary classification lstm model\n",
        "model = Sequential()\n",
        "model.add(LSTM(128,input_shape=(x_.shape[1:]),activation='relu',return_sequences=True))\n",
        "\n",
        "model.add(LSTM(128,activation='relu'))\n",
        "\n",
        "model.add(Dense(32,activation='relu'))\n",
        "\n",
        "# model.add(Dense(5, activation='softmax'))\n",
        "model.add(Dense(1, activation='sigmoid'))"
      ],
      "execution_count": 0,
      "outputs": [
        {
          "output_type": "stream",
          "text": [
            "WARNING:tensorflow:From /usr/local/lib/python3.6/dist-packages/tensorflow/python/ops/resource_variable_ops.py:435: colocate_with (from tensorflow.python.framework.ops) is deprecated and will be removed in a future version.\n",
            "Instructions for updating:\n",
            "Colocations handled automatically by placer.\n"
          ],
          "name": "stdout"
        }
      ]
    },
    {
      "cell_type": "code",
      "metadata": {
        "id": "qHQQkpma7-7T",
        "colab_type": "code",
        "colab": {}
      },
      "source": [
        "# complie\n",
        "# model.compile(loss='categorical_crossentropy', optimizer='adam', metrics=['accuracy'])\n",
        "model.compile(loss='binary_crossentropy', optimizer='adam', metrics=['accuracy'])"
      ],
      "execution_count": 0,
      "outputs": []
    },
    {
      "cell_type": "code",
      "metadata": {
        "id": "BSXoUIErmkgZ",
        "colab_type": "code",
        "colab": {}
      },
      "source": [
        "x_train, x_test, y_train, y_test = train_test_split(x_, y_, test_size=0.2, random_state=42)"
      ],
      "execution_count": 0,
      "outputs": []
    },
    {
      "cell_type": "code",
      "metadata": {
        "id": "dVIj0p0amn3V",
        "colab_type": "code",
        "colab": {}
      },
      "source": [
        "# Code to dublicate the 0s in the dataset. each zero is copied 3 times\n",
        "x_ = []\n",
        "y_ = []\n",
        "\n",
        "for x,y in zip(x_train,y_train):\n",
        "  if y==0:\n",
        "    for i in range(2):\n",
        "      x_.append(x)\n",
        "      y_.append(y)\n",
        "  x_.append(x)\n",
        "  y_.append(y)\n",
        "x_, y_ = shuffle(x_, y_, random_state=0)\n",
        "x_train = np.array(x_)\n",
        "y_train = np.array(y_)\n"
      ],
      "execution_count": 0,
      "outputs": []
    },
    {
      "cell_type": "code",
      "metadata": {
        "id": "WcbygJHJnWB1",
        "colab_type": "code",
        "outputId": "80210fe9-e27c-4e74-da2b-a5cf952f0a0f",
        "colab": {
          "base_uri": "https://localhost:8080/",
          "height": 224
        }
      },
      "source": [
        "# fit\n",
        "\n",
        "model.fit(x_train,y_train,epochs=3,validation_data=(x_test,y_test))"
      ],
      "execution_count": 0,
      "outputs": [
        {
          "output_type": "stream",
          "text": [
            "Train on 156 samples, validate on 27 samples\n",
            "WARNING:tensorflow:From /usr/local/lib/python3.6/dist-packages/tensorflow/python/ops/math_ops.py:3066: to_int32 (from tensorflow.python.ops.math_ops) is deprecated and will be removed in a future version.\n",
            "Instructions for updating:\n",
            "Use tf.cast instead.\n",
            "Epoch 1/3\n",
            "156/156 [==============================] - 204s 1s/sample - loss: 0.6930 - acc: 0.4744 - val_loss: 0.6943 - val_acc: 0.1852\n",
            "Epoch 2/3\n",
            "156/156 [==============================] - 195s 1s/sample - loss: 0.6923 - acc: 0.5000 - val_loss: 0.6956 - val_acc: 0.1852\n",
            "Epoch 3/3\n",
            "156/156 [==============================] - 196s 1s/sample - loss: 0.6917 - acc: 0.5000 - val_loss: 0.6952 - val_acc: 0.1852\n"
          ],
          "name": "stdout"
        },
        {
          "output_type": "execute_result",
          "data": {
            "text/plain": [
              "<tensorflow.python.keras.callbacks.History at 0x7f3ffaef69b0>"
            ]
          },
          "metadata": {
            "tags": []
          },
          "execution_count": 30
        }
      ]
    },
    {
      "cell_type": "code",
      "metadata": {
        "id": "OKqC0dyNnWE-",
        "colab_type": "code",
        "outputId": "e4c98fe5-be4f-4d17-9b65-5b68d5208b3a",
        "colab": {
          "base_uri": "https://localhost:8080/",
          "height": 221
        }
      },
      "source": [
        "x_train, x_test, y_train, y_test = train_test_split(x_, y_, test_size=0.2, random_state=42)\n",
        "model.fit(x_train,y_train,epochs=5,validation_data=(x_test,y_test))"
      ],
      "execution_count": 0,
      "outputs": [
        {
          "output_type": "stream",
          "text": [
            "Train on 104 samples, validate on 27 samples\n",
            "Epoch 1/5\n",
            "104/104 [==============================] - 154s 1s/sample - loss: 0.6928 - acc: 0.6154 - val_loss: 0.6865 - val_acc: 0.8148\n",
            "Epoch 2/5\n",
            "104/104 [==============================] - 154s 1s/sample - loss: 0.6868 - acc: 0.7500 - val_loss: 0.6776 - val_acc: 0.8148\n",
            "Epoch 3/5\n",
            "104/104 [==============================] - 154s 1s/sample - loss: 0.6774 - acc: 0.7500 - val_loss: 0.6652 - val_acc: 0.8148\n",
            "Epoch 4/5\n",
            "104/104 [==============================] - 154s 1s/sample - loss: 0.6683 - acc: 0.7500 - val_loss: 0.6447 - val_acc: 0.8148\n",
            "Epoch 5/5\n",
            "104/104 [==============================] - 154s 1s/sample - loss: 0.6487 - acc: 0.7500 - val_loss: 0.5986 - val_acc: 0.8148\n"
          ],
          "name": "stdout"
        },
        {
          "output_type": "execute_result",
          "data": {
            "text/plain": [
              "<tensorflow.python.keras.callbacks.History at 0x7f5431fde470>"
            ]
          },
          "metadata": {
            "tags": []
          },
          "execution_count": 96
        }
      ]
    },
    {
      "cell_type": "markdown",
      "metadata": {
        "id": "oY9VGU5Zmesu",
        "colab_type": "text"
      },
      "source": [
        "Multiple Event App Ids"
      ]
    },
    {
      "cell_type": "code",
      "metadata": {
        "colab_type": "code",
        "id": "TEwiXjOXmcrL",
        "colab": {}
      },
      "source": [
        "evt_ = evtwarn[(evtwarn['EventAppId'] == 2) | (evtwarn['EventAppId']==1)]\n",
        "ignore_interval = 5 * 100\n",
        "e_  = pd.DataFrame(columns=evt_.columns)\n",
        "i_ = 0\n",
        "for i, row in evt_.iterrows():\n",
        "    if i_==0:\n",
        "        e_.loc[i_] = row\n",
        "        i_+=1\n",
        "    else:\n",
        "        if ((i-1 in evt_.index) and (evt_.loc[i]['Trip']==evt_.loc[i-1]['Trip']) \\\n",
        "            and (evt_.loc[i]['Device']==evt_.loc[i-1]['Device']) and (evt_.loc[i]['Time']-evt_.loc[i-1]['Time']<=ignore_interval)):\n",
        "            pass\n",
        "        else:\n",
        "            e_.loc[i_] = row\n",
        "            i_+=1\n"
      ],
      "execution_count": 0,
      "outputs": []
    },
    {
      "cell_type": "code",
      "metadata": {
        "colab_type": "code",
        "outputId": "7af74c99-2e32-446d-d6cb-bcded0b2db8e",
        "id": "KhHSSmcFmcrW",
        "colab": {
          "base_uri": "https://localhost:8080/",
          "height": 204
        }
      },
      "source": [
        "max_look_time = 60 * 100\n",
        "reactiveness = pd.DataFrame(columns=['Device','Trip','ReactionTime','Time'])\n",
        "for i,row in e_.iterrows():\n",
        "    rt = list(host[(host['Device']==row['Device']) & (host['Trip']==row['Trip']) & (host['Time']>row['Time']) & (host['Time']<(row['Time']+max_look_time)) & (host['BrakeStatus']==1)]['Time'])\n",
        "    if len(rt)>0:\n",
        "        rt=(rt[0]-row['Time'])/100\n",
        "    else:\n",
        "        rt=60\n",
        "    reactiveness.loc[i]=[row['Device'],row['Trip'],rt,row['Time']]\n",
        "reactiveness.head()"
      ],
      "execution_count": 0,
      "outputs": [
        {
          "output_type": "execute_result",
          "data": {
            "text/html": [
              "<div>\n",
              "<style scoped>\n",
              "    .dataframe tbody tr th:only-of-type {\n",
              "        vertical-align: middle;\n",
              "    }\n",
              "\n",
              "    .dataframe tbody tr th {\n",
              "        vertical-align: top;\n",
              "    }\n",
              "\n",
              "    .dataframe thead th {\n",
              "        text-align: right;\n",
              "    }\n",
              "</style>\n",
              "<table border=\"1\" class=\"dataframe\">\n",
              "  <thead>\n",
              "    <tr style=\"text-align: right;\">\n",
              "      <th></th>\n",
              "      <th>Device</th>\n",
              "      <th>Trip</th>\n",
              "      <th>ReactionTime</th>\n",
              "      <th>Time</th>\n",
              "    </tr>\n",
              "  </thead>\n",
              "  <tbody>\n",
              "    <tr>\n",
              "      <th>0</th>\n",
              "      <td>2004.0</td>\n",
              "      <td>54.0</td>\n",
              "      <td>6.0</td>\n",
              "      <td>109450.0</td>\n",
              "    </tr>\n",
              "    <tr>\n",
              "      <th>1</th>\n",
              "      <td>2004.0</td>\n",
              "      <td>55.0</td>\n",
              "      <td>10.0</td>\n",
              "      <td>9800.0</td>\n",
              "    </tr>\n",
              "    <tr>\n",
              "      <th>2</th>\n",
              "      <td>2008.0</td>\n",
              "      <td>26.0</td>\n",
              "      <td>60.0</td>\n",
              "      <td>92500.0</td>\n",
              "    </tr>\n",
              "    <tr>\n",
              "      <th>3</th>\n",
              "      <td>2008.0</td>\n",
              "      <td>61.0</td>\n",
              "      <td>0.5</td>\n",
              "      <td>222650.0</td>\n",
              "    </tr>\n",
              "    <tr>\n",
              "      <th>4</th>\n",
              "      <td>2017.0</td>\n",
              "      <td>301.0</td>\n",
              "      <td>60.0</td>\n",
              "      <td>59350.0</td>\n",
              "    </tr>\n",
              "  </tbody>\n",
              "</table>\n",
              "</div>"
            ],
            "text/plain": [
              "   Device   Trip  ReactionTime      Time\n",
              "0  2004.0   54.0           6.0  109450.0\n",
              "1  2004.0   55.0          10.0    9800.0\n",
              "2  2008.0   26.0          60.0   92500.0\n",
              "3  2008.0   61.0           0.5  222650.0\n",
              "4  2017.0  301.0          60.0   59350.0"
            ]
          },
          "metadata": {
            "tags": []
          },
          "execution_count": 32
        }
      ]
    },
    {
      "cell_type": "code",
      "metadata": {
        "colab_type": "code",
        "id": "rl25t4E0mcrb",
        "colab": {}
      },
      "source": [
        "# label reactiveness : less that 1sec as 1\n",
        "\n",
        "# reactiveness['reactiveness'] = reactiveness['ReactionTime'].map(lambda x: 4 if x*2>4 else x*2-1)\n",
        "reactiveness['reactiveness'] = reactiveness['ReactionTime'].map(lambda x: 1 if x<=0.5 else 0)\n",
        "reactiveness['reactiveness']=reactiveness['reactiveness'].astype(int)"
      ],
      "execution_count": 0,
      "outputs": []
    },
    {
      "cell_type": "code",
      "metadata": {
        "colab_type": "code",
        "outputId": "ca290fa1-29ea-4c50-dd7b-1e7b692fbf1a",
        "id": "tvVK58U4mcre",
        "colab": {
          "base_uri": "https://localhost:8080/",
          "height": 68
        }
      },
      "source": [
        "reactiveness['reactiveness'].value_counts()"
      ],
      "execution_count": 0,
      "outputs": [
        {
          "output_type": "execute_result",
          "data": {
            "text/plain": [
              "1    102\n",
              "0     46\n",
              "Name: reactiveness, dtype: int64"
            ]
          },
          "metadata": {
            "tags": []
          },
          "execution_count": 34
        }
      ]
    },
    {
      "cell_type": "code",
      "metadata": {
        "colab_type": "code",
        "outputId": "0987f3d8-25bf-4470-baed-c31f5b477997",
        "id": "lDMPJmqWmcrm",
        "colab": {
          "base_uri": "https://localhost:8080/",
          "height": 102
        }
      },
      "source": [
        "# split host\n",
        "r_ = reactiveness.copy()\n",
        "r_.rename(columns = {'Time':'EndTime'}, inplace = True)\n",
        "r_['StartTime']= 0\n",
        "for i,row in r_.iterrows():\n",
        "  if (i-1 in reactiveness.index) and (reactiveness.loc[i-1]['Device']==row['Device']) and (reactiveness.loc[i-1]['Trip']==row['Trip']):\n",
        "    r_['StartTime'].loc[i]=reactiveness['Time'].loc[i-1]\n",
        "reactiveness = r_.copy()"
      ],
      "execution_count": 0,
      "outputs": [
        {
          "output_type": "stream",
          "text": [
            "/usr/local/lib/python3.6/dist-packages/pandas/core/indexing.py:190: SettingWithCopyWarning: \n",
            "A value is trying to be set on a copy of a slice from a DataFrame\n",
            "\n",
            "See the caveats in the documentation: http://pandas.pydata.org/pandas-docs/stable/indexing.html#indexing-view-versus-copy\n",
            "  self._setitem_with_indexer(indexer, value)\n"
          ],
          "name": "stderr"
        }
      ]
    },
    {
      "cell_type": "code",
      "metadata": {
        "colab_type": "code",
        "outputId": "65620afc-0190-4689-b605-e5ee4f6618d4",
        "id": "MrVRg3SWmcrr",
        "colab": {
          "base_uri": "https://localhost:8080/",
          "height": 204
        }
      },
      "source": [
        "r_.head()"
      ],
      "execution_count": 0,
      "outputs": [
        {
          "output_type": "execute_result",
          "data": {
            "text/html": [
              "<div>\n",
              "<style scoped>\n",
              "    .dataframe tbody tr th:only-of-type {\n",
              "        vertical-align: middle;\n",
              "    }\n",
              "\n",
              "    .dataframe tbody tr th {\n",
              "        vertical-align: top;\n",
              "    }\n",
              "\n",
              "    .dataframe thead th {\n",
              "        text-align: right;\n",
              "    }\n",
              "</style>\n",
              "<table border=\"1\" class=\"dataframe\">\n",
              "  <thead>\n",
              "    <tr style=\"text-align: right;\">\n",
              "      <th></th>\n",
              "      <th>Device</th>\n",
              "      <th>Trip</th>\n",
              "      <th>ReactionTime</th>\n",
              "      <th>EndTime</th>\n",
              "      <th>reactiveness</th>\n",
              "      <th>StartTime</th>\n",
              "    </tr>\n",
              "  </thead>\n",
              "  <tbody>\n",
              "    <tr>\n",
              "      <th>0</th>\n",
              "      <td>2004.0</td>\n",
              "      <td>54.0</td>\n",
              "      <td>6.0</td>\n",
              "      <td>109450.0</td>\n",
              "      <td>0</td>\n",
              "      <td>0.0</td>\n",
              "    </tr>\n",
              "    <tr>\n",
              "      <th>1</th>\n",
              "      <td>2004.0</td>\n",
              "      <td>55.0</td>\n",
              "      <td>10.0</td>\n",
              "      <td>9800.0</td>\n",
              "      <td>0</td>\n",
              "      <td>0.0</td>\n",
              "    </tr>\n",
              "    <tr>\n",
              "      <th>2</th>\n",
              "      <td>2008.0</td>\n",
              "      <td>61.0</td>\n",
              "      <td>0.5</td>\n",
              "      <td>222650.0</td>\n",
              "      <td>1</td>\n",
              "      <td>0.0</td>\n",
              "    </tr>\n",
              "    <tr>\n",
              "      <th>3</th>\n",
              "      <td>2147.0</td>\n",
              "      <td>156.0</td>\n",
              "      <td>0.5</td>\n",
              "      <td>136900.0</td>\n",
              "      <td>1</td>\n",
              "      <td>0.0</td>\n",
              "    </tr>\n",
              "    <tr>\n",
              "      <th>4</th>\n",
              "      <td>2331.0</td>\n",
              "      <td>20.0</td>\n",
              "      <td>0.5</td>\n",
              "      <td>194450.0</td>\n",
              "      <td>1</td>\n",
              "      <td>0.0</td>\n",
              "    </tr>\n",
              "  </tbody>\n",
              "</table>\n",
              "</div>"
            ],
            "text/plain": [
              "   Device   Trip  ReactionTime   EndTime  reactiveness  StartTime\n",
              "0  2004.0   54.0           6.0  109450.0             0        0.0\n",
              "1  2004.0   55.0          10.0    9800.0             0        0.0\n",
              "2  2008.0   61.0           0.5  222650.0             1        0.0\n",
              "3  2147.0  156.0           0.5  136900.0             1        0.0\n",
              "4  2331.0   20.0           0.5  194450.0             1        0.0"
            ]
          },
          "metadata": {
            "tags": []
          },
          "execution_count": 11
        }
      ]
    },
    {
      "cell_type": "code",
      "metadata": {
        "colab_type": "code",
        "id": "q3c_03xmmcrw",
        "colab": {}
      },
      "source": [
        "# split host\n",
        "x_train = []\n",
        "y_train = []\n",
        "max_len = -float('inf')\n",
        "features = ['BrakeStatus','Speed','ThrottlePosPct','SteerAngle','LongAccel']\n",
        "\n",
        "for i,row in reactiveness.iterrows():\n",
        "    x=(host[(host['Device']==row['Device']) & (host['Trip']==row['Trip']) & (host['Time']>row['StartTime']) \\\n",
        "            & (host['Time']>row['EndTime'])][features]).values\n",
        "    if len(x)>=max_len:\n",
        "        max_len = len(x)\n",
        "    x_train.append(x)\n",
        "    y_train.append(row['reactiveness'])"
      ],
      "execution_count": 0,
      "outputs": []
    },
    {
      "cell_type": "code",
      "metadata": {
        "colab_type": "code",
        "id": "dWJP7jKDmcrz",
        "colab": {}
      },
      "source": [
        "# create same length by appending zeros\n",
        "import numpy as np\n",
        "x_t = []\n",
        "for x in x_train:\n",
        "    zeros = np.zeros((max_len-len(x),len(features)))\n",
        "    x_t.append(np.append(x,zeros,axis=0))"
      ],
      "execution_count": 0,
      "outputs": []
    },
    {
      "cell_type": "code",
      "metadata": {
        "colab_type": "code",
        "id": "9sy-TP6Xmcr4",
        "colab": {}
      },
      "source": [
        "# convert to np arrays\n",
        "x_ = np.array(x_t)\n",
        "y_ = np.array(y_train)\n",
        "from sklearn.utils import shuffle\n",
        "x_, y_ = shuffle(x_, y_, random_state=0)"
      ],
      "execution_count": 0,
      "outputs": []
    },
    {
      "cell_type": "code",
      "metadata": {
        "colab_type": "code",
        "id": "4jADxcZimcr8",
        "colab": {}
      },
      "source": [
        "# imports\n",
        "import tensorflow as tf\n",
        "from tensorflow.keras.models import Sequential\n",
        "from tensorflow.keras.layers import Dense, Dropout, LSTM, CuDNNLSTM \n",
        "from sklearn.model_selection import train_test_split"
      ],
      "execution_count": 0,
      "outputs": []
    },
    {
      "cell_type": "code",
      "metadata": {
        "colab_type": "code",
        "id": "7QJ6MD4fmcr_",
        "colab": {}
      },
      "source": [
        "# binary classification lstm model\n",
        "model = Sequential()\n",
        "model.add(LSTM(128,input_shape=(x_.shape[1:]),activation='relu',return_sequences=True))\n",
        "\n",
        "model.add(LSTM(128,activation='relu'))\n",
        "\n",
        "model.add(Dense(32,activation='relu'))\n",
        "\n",
        "# model.add(Dense(5, activation='softmax'))\n",
        "model.add(Dense(1, activation='sigmoid'))"
      ],
      "execution_count": 0,
      "outputs": []
    },
    {
      "cell_type": "code",
      "metadata": {
        "colab_type": "code",
        "id": "BLb6AWxTmcsD",
        "colab": {}
      },
      "source": [
        "# complie\n",
        "# model.compile(loss='categorical_crossentropy', optimizer='adam', metrics=['accuracy'])\n",
        "model.compile(loss='binary_crossentropy', optimizer='adam', metrics=['accuracy'])"
      ],
      "execution_count": 0,
      "outputs": []
    },
    {
      "cell_type": "code",
      "metadata": {
        "colab_type": "code",
        "id": "U-5Tr3TvmcsF",
        "colab": {}
      },
      "source": [
        "x_train, x_test, y_train, y_test = train_test_split(x_, y_, test_size=0.2, random_state=42)"
      ],
      "execution_count": 0,
      "outputs": []
    },
    {
      "cell_type": "code",
      "metadata": {
        "colab_type": "code",
        "id": "gR3vUO1lmcsH",
        "colab": {}
      },
      "source": [
        "# Code to dublicate the 0s in the dataset. each zero is copied 3 times\n",
        "x_ = []\n",
        "y_ = []\n",
        "\n",
        "for x,y in zip(x_train,y_train):\n",
        "  if y==0:\n",
        "    for i in range(2):\n",
        "      x_.append(x)\n",
        "      y_.append(y)\n",
        "  x_.append(x)\n",
        "  y_.append(y)\n",
        "x_, y_ = shuffle(x_, y_, random_state=0)\n",
        "x_train = np.array(x_)\n",
        "y_train = np.array(y_)\n"
      ],
      "execution_count": 0,
      "outputs": []
    },
    {
      "cell_type": "code",
      "metadata": {
        "colab_type": "code",
        "outputId": "59dc9643-956c-45b3-8cc6-f0a5994f3504",
        "id": "N4MLdtLroYxN",
        "colab": {
          "base_uri": "https://localhost:8080/",
          "height": 153
        }
      },
      "source": [
        "# fit\n",
        "\n",
        "model.fit(x_train,y_train,epochs=3,validation_data=(x_test,y_test))"
      ],
      "execution_count": 0,
      "outputs": [
        {
          "output_type": "stream",
          "text": [
            "Train on 190 samples, validate on 30 samples\n",
            "Epoch 1/3\n",
            "190/190 [==============================] - 236s 1s/sample - loss: 0.6927 - acc: 0.5684 - val_loss: 0.6968 - val_acc: 0.3333\n",
            "Epoch 2/3\n",
            "190/190 [==============================] - 234s 1s/sample - loss: 0.6895 - acc: 0.5684 - val_loss: 0.7036 - val_acc: 0.3333\n",
            "Epoch 3/3\n",
            "190/190 [==============================] - 234s 1s/sample - loss: 0.6838 - acc: 0.5684 - val_loss: 0.7304 - val_acc: 0.3333\n"
          ],
          "name": "stdout"
        },
        {
          "output_type": "execute_result",
          "data": {
            "text/plain": [
              "<tensorflow.python.keras.callbacks.History at 0x7f3fcd313668>"
            ]
          },
          "metadata": {
            "tags": []
          },
          "execution_count": 44
        }
      ]
    },
    {
      "cell_type": "code",
      "metadata": {
        "id": "DKhGTWywrI3u",
        "colab_type": "code",
        "outputId": "4ff59acf-206c-48a7-b883-2ef0d082d7b7",
        "colab": {
          "base_uri": "https://localhost:8080/",
          "height": 34
        }
      },
      "source": [
        "p0 = (len(y_test)-y_test.sum())/len(y_test)\n",
        "print ('% of 0s:',p0)"
      ],
      "execution_count": 0,
      "outputs": [
        {
          "output_type": "stream",
          "text": [
            "% of 0s: 0.3333333333333333\n"
          ],
          "name": "stdout"
        }
      ]
    },
    {
      "cell_type": "code",
      "metadata": {
        "id": "JaVcCBs3rI9M",
        "colab_type": "code",
        "colab": {}
      },
      "source": [
        ""
      ],
      "execution_count": 0,
      "outputs": []
    },
    {
      "cell_type": "code",
      "metadata": {
        "colab_type": "code",
        "id": "1Tz7ZHAsrJnx",
        "colab": {}
      },
      "source": [
        "evt_ = evtwarn[(evtwarn['EventAppId'] == 2) | (evtwarn['EventAppId']==1)]\n",
        "ignore_interval = 5 * 100\n",
        "e_  = pd.DataFrame(columns=evt_.columns)\n",
        "i_ = 0\n",
        "for i, row in evt_.iterrows():\n",
        "    if i_==0:\n",
        "        e_.loc[i_] = row\n",
        "        i_+=1\n",
        "    else:\n",
        "        if ((i-1 in evt_.index) and (evt_.loc[i]['Trip']==evt_.loc[i-1]['Trip']) \\\n",
        "            and (evt_.loc[i]['Device']==evt_.loc[i-1]['Device']) and (evt_.loc[i]['Time']-evt_.loc[i-1]['Time']<=ignore_interval)):\n",
        "            pass\n",
        "        else:\n",
        "            e_.loc[i_] = row\n",
        "            i_+=1\n"
      ],
      "execution_count": 0,
      "outputs": []
    },
    {
      "cell_type": "code",
      "metadata": {
        "colab_type": "code",
        "outputId": "44a03546-5316-409e-e903-979351f28888",
        "id": "dTgbSj4erJn3",
        "colab": {
          "base_uri": "https://localhost:8080/",
          "height": 204
        }
      },
      "source": [
        "max_look_time = 60 * 100\n",
        "reactiveness = pd.DataFrame(columns=['Device','Trip','ReactionTime','Time'])\n",
        "for i,row in e_.iterrows():\n",
        "    rt = list(host[(host['Device']==row['Device']) & (host['Trip']==row['Trip']) & (host['Time']>row['Time']) & (host['Time']<(row['Time']+max_look_time)) & (host['BrakeStatus']==1)]['Time'])\n",
        "    if len(rt)>0:\n",
        "        rt=(rt[0]-row['Time'])/100\n",
        "    else:\n",
        "        rt=60\n",
        "    reactiveness.loc[i]=[row['Device'],row['Trip'],rt,row['Time']]\n",
        "reactiveness.head()"
      ],
      "execution_count": 0,
      "outputs": [
        {
          "output_type": "execute_result",
          "data": {
            "text/html": [
              "<div>\n",
              "<style scoped>\n",
              "    .dataframe tbody tr th:only-of-type {\n",
              "        vertical-align: middle;\n",
              "    }\n",
              "\n",
              "    .dataframe tbody tr th {\n",
              "        vertical-align: top;\n",
              "    }\n",
              "\n",
              "    .dataframe thead th {\n",
              "        text-align: right;\n",
              "    }\n",
              "</style>\n",
              "<table border=\"1\" class=\"dataframe\">\n",
              "  <thead>\n",
              "    <tr style=\"text-align: right;\">\n",
              "      <th></th>\n",
              "      <th>Device</th>\n",
              "      <th>Trip</th>\n",
              "      <th>ReactionTime</th>\n",
              "      <th>Time</th>\n",
              "    </tr>\n",
              "  </thead>\n",
              "  <tbody>\n",
              "    <tr>\n",
              "      <th>0</th>\n",
              "      <td>2004.0</td>\n",
              "      <td>54.0</td>\n",
              "      <td>6.0</td>\n",
              "      <td>109450.0</td>\n",
              "    </tr>\n",
              "    <tr>\n",
              "      <th>1</th>\n",
              "      <td>2004.0</td>\n",
              "      <td>55.0</td>\n",
              "      <td>10.0</td>\n",
              "      <td>9800.0</td>\n",
              "    </tr>\n",
              "    <tr>\n",
              "      <th>2</th>\n",
              "      <td>2008.0</td>\n",
              "      <td>26.0</td>\n",
              "      <td>60.0</td>\n",
              "      <td>92500.0</td>\n",
              "    </tr>\n",
              "    <tr>\n",
              "      <th>3</th>\n",
              "      <td>2008.0</td>\n",
              "      <td>61.0</td>\n",
              "      <td>0.5</td>\n",
              "      <td>222650.0</td>\n",
              "    </tr>\n",
              "    <tr>\n",
              "      <th>4</th>\n",
              "      <td>2017.0</td>\n",
              "      <td>301.0</td>\n",
              "      <td>60.0</td>\n",
              "      <td>59350.0</td>\n",
              "    </tr>\n",
              "  </tbody>\n",
              "</table>\n",
              "</div>"
            ],
            "text/plain": [
              "   Device   Trip  ReactionTime      Time\n",
              "0  2004.0   54.0           6.0  109450.0\n",
              "1  2004.0   55.0          10.0    9800.0\n",
              "2  2008.0   26.0          60.0   92500.0\n",
              "3  2008.0   61.0           0.5  222650.0\n",
              "4  2017.0  301.0          60.0   59350.0"
            ]
          },
          "metadata": {
            "tags": []
          },
          "execution_count": 49
        }
      ]
    },
    {
      "cell_type": "code",
      "metadata": {
        "colab_type": "code",
        "id": "JSIaNTvVrJn7",
        "colab": {}
      },
      "source": [
        "# label reactiveness : less that 1sec as 1\n",
        "\n",
        "# reactiveness['reactiveness'] = reactiveness['ReactionTime'].map(lambda x: 4 if x*2>4 else x*2-1)\n",
        "reactiveness['reactiveness'] = reactiveness['ReactionTime'].map(lambda x: 1 if x<=0.5 else 0)\n",
        "reactiveness['reactiveness']=reactiveness['reactiveness'].astype(int)"
      ],
      "execution_count": 0,
      "outputs": []
    },
    {
      "cell_type": "code",
      "metadata": {
        "colab_type": "code",
        "outputId": "4880ef71-2377-4110-efbb-9912f813d9f5",
        "id": "q2GwrNz_rJn_",
        "colab": {
          "base_uri": "https://localhost:8080/",
          "height": 68
        }
      },
      "source": [
        "reactiveness['reactiveness'].value_counts()"
      ],
      "execution_count": 0,
      "outputs": [
        {
          "output_type": "execute_result",
          "data": {
            "text/plain": [
              "1    102\n",
              "0     46\n",
              "Name: reactiveness, dtype: int64"
            ]
          },
          "metadata": {
            "tags": []
          },
          "execution_count": 51
        }
      ]
    },
    {
      "cell_type": "code",
      "metadata": {
        "colab_type": "code",
        "outputId": "a41f25ae-4b21-4196-ebbf-dcc2763a6dea",
        "id": "UvXeDYi0rJoE",
        "colab": {
          "base_uri": "https://localhost:8080/",
          "height": 102
        }
      },
      "source": [
        "# split host\n",
        "r_ = reactiveness.copy()\n",
        "r_.rename(columns = {'Time':'EndTime'}, inplace = True)\n",
        "r_['StartTime']= 0\n",
        "for i,row in r_.iterrows():\n",
        "  if (i-1 in reactiveness.index) and (reactiveness.loc[i-1]['Device']==row['Device']) and (reactiveness.loc[i-1]['Trip']==row['Trip']):\n",
        "    r_['StartTime'].loc[i]=reactiveness['Time'].loc[i-1]\n",
        "reactiveness = r_.copy()"
      ],
      "execution_count": 0,
      "outputs": [
        {
          "output_type": "stream",
          "text": [
            "/usr/local/lib/python3.6/dist-packages/pandas/core/indexing.py:190: SettingWithCopyWarning: \n",
            "A value is trying to be set on a copy of a slice from a DataFrame\n",
            "\n",
            "See the caveats in the documentation: http://pandas.pydata.org/pandas-docs/stable/indexing.html#indexing-view-versus-copy\n",
            "  self._setitem_with_indexer(indexer, value)\n"
          ],
          "name": "stderr"
        }
      ]
    },
    {
      "cell_type": "code",
      "metadata": {
        "colab_type": "code",
        "outputId": "ee23767b-3312-485b-e76d-d9c3caefbe13",
        "id": "i50V-zPVrJoI",
        "colab": {
          "base_uri": "https://localhost:8080/",
          "height": 204
        }
      },
      "source": [
        "r_.head()"
      ],
      "execution_count": 0,
      "outputs": [
        {
          "output_type": "execute_result",
          "data": {
            "text/html": [
              "<div>\n",
              "<style scoped>\n",
              "    .dataframe tbody tr th:only-of-type {\n",
              "        vertical-align: middle;\n",
              "    }\n",
              "\n",
              "    .dataframe tbody tr th {\n",
              "        vertical-align: top;\n",
              "    }\n",
              "\n",
              "    .dataframe thead th {\n",
              "        text-align: right;\n",
              "    }\n",
              "</style>\n",
              "<table border=\"1\" class=\"dataframe\">\n",
              "  <thead>\n",
              "    <tr style=\"text-align: right;\">\n",
              "      <th></th>\n",
              "      <th>Device</th>\n",
              "      <th>Trip</th>\n",
              "      <th>ReactionTime</th>\n",
              "      <th>EndTime</th>\n",
              "      <th>reactiveness</th>\n",
              "      <th>StartTime</th>\n",
              "    </tr>\n",
              "  </thead>\n",
              "  <tbody>\n",
              "    <tr>\n",
              "      <th>0</th>\n",
              "      <td>2004.0</td>\n",
              "      <td>54.0</td>\n",
              "      <td>6.0</td>\n",
              "      <td>109450.0</td>\n",
              "      <td>0</td>\n",
              "      <td>0.0</td>\n",
              "    </tr>\n",
              "    <tr>\n",
              "      <th>1</th>\n",
              "      <td>2004.0</td>\n",
              "      <td>55.0</td>\n",
              "      <td>10.0</td>\n",
              "      <td>9800.0</td>\n",
              "      <td>0</td>\n",
              "      <td>0.0</td>\n",
              "    </tr>\n",
              "    <tr>\n",
              "      <th>2</th>\n",
              "      <td>2008.0</td>\n",
              "      <td>26.0</td>\n",
              "      <td>60.0</td>\n",
              "      <td>92500.0</td>\n",
              "      <td>0</td>\n",
              "      <td>0.0</td>\n",
              "    </tr>\n",
              "    <tr>\n",
              "      <th>3</th>\n",
              "      <td>2008.0</td>\n",
              "      <td>61.0</td>\n",
              "      <td>0.5</td>\n",
              "      <td>222650.0</td>\n",
              "      <td>1</td>\n",
              "      <td>0.0</td>\n",
              "    </tr>\n",
              "    <tr>\n",
              "      <th>4</th>\n",
              "      <td>2017.0</td>\n",
              "      <td>301.0</td>\n",
              "      <td>60.0</td>\n",
              "      <td>59350.0</td>\n",
              "      <td>0</td>\n",
              "      <td>0.0</td>\n",
              "    </tr>\n",
              "  </tbody>\n",
              "</table>\n",
              "</div>"
            ],
            "text/plain": [
              "   Device   Trip  ReactionTime   EndTime  reactiveness  StartTime\n",
              "0  2004.0   54.0           6.0  109450.0             0        0.0\n",
              "1  2004.0   55.0          10.0    9800.0             0        0.0\n",
              "2  2008.0   26.0          60.0   92500.0             0        0.0\n",
              "3  2008.0   61.0           0.5  222650.0             1        0.0\n",
              "4  2017.0  301.0          60.0   59350.0             0        0.0"
            ]
          },
          "metadata": {
            "tags": []
          },
          "execution_count": 53
        }
      ]
    },
    {
      "cell_type": "code",
      "metadata": {
        "colab_type": "code",
        "id": "39z0bss5rJoM",
        "colab": {}
      },
      "source": [
        "# split host\n",
        "x_train = []\n",
        "y_train = []\n",
        "max_len = -float('inf')\n",
        "features = ['BrakeStatus','Speed','ThrottlePosPct','SteerAngle','LongAccel']\n",
        "\n",
        "for i,row in reactiveness.iterrows():\n",
        "    x=(host[(host['Device']==row['Device']) & (host['Trip']==row['Trip']) & (host['Time']>row['StartTime']) \\\n",
        "            & (host['Time']>row['EndTime'])][features]).values\n",
        "    if len(x)>=max_len:\n",
        "        max_len = len(x)\n",
        "    x_train.append(x)\n",
        "    y_train.append(row['reactiveness'])"
      ],
      "execution_count": 0,
      "outputs": []
    },
    {
      "cell_type": "code",
      "metadata": {
        "colab_type": "code",
        "id": "b2wETJgkrJoP",
        "colab": {}
      },
      "source": [
        "# create same length by appending zeros\n",
        "import numpy as np\n",
        "x_t = []\n",
        "for x in x_train:\n",
        "    zeros = np.zeros((max_len-len(x),len(features)))\n",
        "    x_t.append(np.append(x,zeros,axis=0))"
      ],
      "execution_count": 0,
      "outputs": []
    },
    {
      "cell_type": "code",
      "metadata": {
        "colab_type": "code",
        "id": "lDQyC2SlrJoS",
        "colab": {}
      },
      "source": [
        "# convert to np arrays\n",
        "x_ = np.array(x_t)\n",
        "y_ = np.array(y_train)\n",
        "from sklearn.utils import shuffle\n",
        "x_, y_ = shuffle(x_, y_, random_state=0)"
      ],
      "execution_count": 0,
      "outputs": []
    },
    {
      "cell_type": "code",
      "metadata": {
        "colab_type": "code",
        "id": "B44OGADjrJoV",
        "colab": {}
      },
      "source": [
        "# imports\n",
        "import tensorflow as tf\n",
        "from tensorflow.keras.models import Sequential\n",
        "from tensorflow.keras.layers import Dense, Dropout, LSTM, CuDNNLSTM \n",
        "from sklearn.model_selection import train_test_split"
      ],
      "execution_count": 0,
      "outputs": []
    },
    {
      "cell_type": "code",
      "metadata": {
        "colab_type": "code",
        "id": "pOy0WQ3YrJoZ",
        "colab": {}
      },
      "source": [
        "# binary classification lstm model\n",
        "model = Sequential()\n",
        "model.add(LSTM(128,input_shape=(x_.shape[1:]),activation='relu',return_sequences=True))\n",
        "\n",
        "model.add(LSTM(128,activation='relu'))\n",
        "\n",
        "model.add(Dense(128,activation='relu'))\n",
        "\n",
        "model.add(Dense(64,activation='relu'))\n",
        "\n",
        "model.add(Dense(32,activation='relu'))\n",
        "\n",
        "# model.add(Dense(5, activation='softmax'))\n",
        "model.add(Dense(1, activation='sigmoid'))"
      ],
      "execution_count": 0,
      "outputs": []
    },
    {
      "cell_type": "code",
      "metadata": {
        "colab_type": "code",
        "id": "CwTy7W89rJob",
        "colab": {}
      },
      "source": [
        "# complie\n",
        "# model.compile(loss='categorical_crossentropy', optimizer='adam', metrics=['accuracy'])\n",
        "model.compile(loss='binary_crossentropy', optimizer='adam', metrics=['accuracy'])"
      ],
      "execution_count": 0,
      "outputs": []
    },
    {
      "cell_type": "code",
      "metadata": {
        "colab_type": "code",
        "id": "cXMgS0m1rJoc",
        "colab": {}
      },
      "source": [
        "x_train, x_test, y_train, y_test = train_test_split(x_, y_, test_size=0.2, random_state=42)"
      ],
      "execution_count": 0,
      "outputs": []
    },
    {
      "cell_type": "code",
      "metadata": {
        "colab_type": "code",
        "id": "-oMDiMYFrJof",
        "colab": {}
      },
      "source": [
        "# Code to dublicate the 0s in the dataset. each zero is copied 3 times\n",
        "x_ = []\n",
        "y_ = []\n",
        "\n",
        "for x,y in zip(x_train,y_train):\n",
        "  if y==0:\n",
        "    for i in range(1):\n",
        "      x_.append(x)\n",
        "      y_.append(y)\n",
        "  x_.append(x)\n",
        "  y_.append(y)\n",
        "x_, y_ = shuffle(x_, y_, random_state=0)\n",
        "x_train = np.array(x_)\n",
        "y_train = np.array(y_)\n"
      ],
      "execution_count": 0,
      "outputs": []
    },
    {
      "cell_type": "code",
      "metadata": {
        "colab_type": "code",
        "outputId": "a1f1c16b-943e-4e6b-9e8c-9380806a2b4e",
        "id": "03oNaqt8rJog",
        "colab": {
          "base_uri": "https://localhost:8080/",
          "height": 153
        }
      },
      "source": [
        "# fit\n",
        "\n",
        "model.fit(x_train,y_train,epochs=3,validation_data=(x_test,y_test))"
      ],
      "execution_count": 0,
      "outputs": [
        {
          "output_type": "stream",
          "text": [
            "Train on 154 samples, validate on 30 samples\n",
            "Epoch 1/3\n",
            "154/154 [==============================] - 196s 1s/sample - loss: 0.6934 - acc: 0.4156 - val_loss: 0.6929 - val_acc: 0.6667\n",
            "Epoch 2/3\n",
            "154/154 [==============================] - 194s 1s/sample - loss: 0.6932 - acc: 0.4416 - val_loss: 0.6922 - val_acc: 0.6667\n",
            "Epoch 3/3\n",
            "154/154 [==============================] - 196s 1s/sample - loss: 0.6928 - acc: 0.5455 - val_loss: 0.6914 - val_acc: 0.6667\n"
          ],
          "name": "stdout"
        },
        {
          "output_type": "execute_result",
          "data": {
            "text/plain": [
              "<tensorflow.python.keras.callbacks.History at 0x7f3b5545f0f0>"
            ]
          },
          "metadata": {
            "tags": []
          },
          "execution_count": 62
        }
      ]
    },
    {
      "cell_type": "code",
      "metadata": {
        "id": "CERYO0bpr1Bg",
        "colab_type": "code",
        "outputId": "b61fe802-45fa-418d-e6bd-65ad4da7072f",
        "colab": {
          "base_uri": "https://localhost:8080/",
          "height": 34
        }
      },
      "source": [
        "p0 = (len(y_test)-y_test.sum())/len(y_test)\n",
        "print ('% of 0s:',p0)"
      ],
      "execution_count": 0,
      "outputs": [
        {
          "output_type": "stream",
          "text": [
            "% of 0s: 0.3333333333333333\n"
          ],
          "name": "stdout"
        }
      ]
    },
    {
      "cell_type": "code",
      "metadata": {
        "id": "uoMFt5sItsSO",
        "colab_type": "code",
        "colab": {}
      },
      "source": [
        ""
      ],
      "execution_count": 0,
      "outputs": []
    },
    {
      "cell_type": "code",
      "metadata": {
        "colab_type": "code",
        "id": "7rOe5V_0ttTz",
        "colab": {}
      },
      "source": [
        "evt_ = evtwarn\n",
        "ignore_interval = 5 * 100\n",
        "e_  = pd.DataFrame(columns=evt_.columns)\n",
        "i_ = 0\n",
        "for i, row in evt_.iterrows():\n",
        "    if i_==0:\n",
        "        e_.loc[i_] = row\n",
        "        i_+=1\n",
        "    else:\n",
        "        if ((i-1 in evt_.index) and (evt_.loc[i]['Trip']==evt_.loc[i-1]['Trip']) \\\n",
        "            and (evt_.loc[i]['Device']==evt_.loc[i-1]['Device']) and (evt_.loc[i]['Time']-evt_.loc[i-1]['Time']<=ignore_interval)):\n",
        "            pass\n",
        "        else:\n",
        "            e_.loc[i_] = row\n",
        "            i_+=1\n"
      ],
      "execution_count": 0,
      "outputs": []
    },
    {
      "cell_type": "code",
      "metadata": {
        "colab_type": "code",
        "outputId": "34f81885-16f4-4f85-86b6-427f3e38a3a6",
        "id": "RRzmZBO8ttT5",
        "colab": {
          "base_uri": "https://localhost:8080/",
          "height": 204
        }
      },
      "source": [
        "max_look_time = 60 * 100\n",
        "reactiveness = pd.DataFrame(columns=['Device','Trip','ReactionTime','Time'])\n",
        "for i,row in e_.iterrows():\n",
        "    rt = list(host[(host['Device']==row['Device']) & (host['Trip']==row['Trip']) & (host['Time']>row['Time']) & (host['Time']<(row['Time']+max_look_time)) & (host['BrakeStatus']==1)]['Time'])\n",
        "    if len(rt)>0:\n",
        "        rt=(rt[0]-row['Time'])/100\n",
        "    else:\n",
        "        rt=60\n",
        "    reactiveness.loc[i]=[row['Device'],row['Trip'],rt,row['Time']]\n",
        "reactiveness.head()"
      ],
      "execution_count": 0,
      "outputs": [
        {
          "output_type": "execute_result",
          "data": {
            "text/html": [
              "<div>\n",
              "<style scoped>\n",
              "    .dataframe tbody tr th:only-of-type {\n",
              "        vertical-align: middle;\n",
              "    }\n",
              "\n",
              "    .dataframe tbody tr th {\n",
              "        vertical-align: top;\n",
              "    }\n",
              "\n",
              "    .dataframe thead th {\n",
              "        text-align: right;\n",
              "    }\n",
              "</style>\n",
              "<table border=\"1\" class=\"dataframe\">\n",
              "  <thead>\n",
              "    <tr style=\"text-align: right;\">\n",
              "      <th></th>\n",
              "      <th>Device</th>\n",
              "      <th>Trip</th>\n",
              "      <th>ReactionTime</th>\n",
              "      <th>Time</th>\n",
              "    </tr>\n",
              "  </thead>\n",
              "  <tbody>\n",
              "    <tr>\n",
              "      <th>0</th>\n",
              "      <td>2004.0</td>\n",
              "      <td>12.0</td>\n",
              "      <td>60.0</td>\n",
              "      <td>48150.0</td>\n",
              "    </tr>\n",
              "    <tr>\n",
              "      <th>1</th>\n",
              "      <td>2004.0</td>\n",
              "      <td>54.0</td>\n",
              "      <td>6.0</td>\n",
              "      <td>109450.0</td>\n",
              "    </tr>\n",
              "    <tr>\n",
              "      <th>2</th>\n",
              "      <td>2004.0</td>\n",
              "      <td>55.0</td>\n",
              "      <td>10.0</td>\n",
              "      <td>9800.0</td>\n",
              "    </tr>\n",
              "    <tr>\n",
              "      <th>3</th>\n",
              "      <td>2004.0</td>\n",
              "      <td>55.0</td>\n",
              "      <td>1.5</td>\n",
              "      <td>10650.0</td>\n",
              "    </tr>\n",
              "    <tr>\n",
              "      <th>4</th>\n",
              "      <td>2004.0</td>\n",
              "      <td>119.0</td>\n",
              "      <td>2.0</td>\n",
              "      <td>129650.0</td>\n",
              "    </tr>\n",
              "  </tbody>\n",
              "</table>\n",
              "</div>"
            ],
            "text/plain": [
              "   Device   Trip  ReactionTime      Time\n",
              "0  2004.0   12.0          60.0   48150.0\n",
              "1  2004.0   54.0           6.0  109450.0\n",
              "2  2004.0   55.0          10.0    9800.0\n",
              "3  2004.0   55.0           1.5   10650.0\n",
              "4  2004.0  119.0           2.0  129650.0"
            ]
          },
          "metadata": {
            "tags": []
          },
          "execution_count": 66
        }
      ]
    },
    {
      "cell_type": "code",
      "metadata": {
        "colab_type": "code",
        "id": "yeo-glW2ttUA",
        "colab": {}
      },
      "source": [
        "# label reactiveness : less that 1sec as 1\n",
        "\n",
        "# reactiveness['reactiveness'] = reactiveness['ReactionTime'].map(lambda x: 4 if x*2>4 else x*2-1)\n",
        "reactiveness['reactiveness'] = reactiveness['ReactionTime'].map(lambda x: 1 if x<=0.5 else 0)\n",
        "reactiveness['reactiveness']=reactiveness['reactiveness'].astype(int)"
      ],
      "execution_count": 0,
      "outputs": []
    },
    {
      "cell_type": "code",
      "metadata": {
        "colab_type": "code",
        "outputId": "6ee1c832-5265-4a06-aa73-c7958f4718d7",
        "id": "4_4yFbP0ttUG",
        "colab": {
          "base_uri": "https://localhost:8080/",
          "height": 68
        }
      },
      "source": [
        "reactiveness['reactiveness'].value_counts()"
      ],
      "execution_count": 0,
      "outputs": [
        {
          "output_type": "execute_result",
          "data": {
            "text/plain": [
              "0    172\n",
              "1    127\n",
              "Name: reactiveness, dtype: int64"
            ]
          },
          "metadata": {
            "tags": []
          },
          "execution_count": 68
        }
      ]
    },
    {
      "cell_type": "code",
      "metadata": {
        "colab_type": "code",
        "outputId": "f1a40c39-536a-46e2-db7b-1bd234d9abb4",
        "id": "JmX91mP5ttUM",
        "colab": {
          "base_uri": "https://localhost:8080/",
          "height": 102
        }
      },
      "source": [
        "# split host\n",
        "r_ = reactiveness.copy()\n",
        "r_.rename(columns = {'Time':'EndTime'}, inplace = True)\n",
        "r_['StartTime']= 0\n",
        "for i,row in r_.iterrows():\n",
        "  if (i-1 in reactiveness.index) and (reactiveness.loc[i-1]['Device']==row['Device']) and (reactiveness.loc[i-1]['Trip']==row['Trip']):\n",
        "    r_['StartTime'].loc[i]=reactiveness['Time'].loc[i-1]\n",
        "reactiveness = r_.copy()"
      ],
      "execution_count": 0,
      "outputs": [
        {
          "output_type": "stream",
          "text": [
            "/usr/local/lib/python3.6/dist-packages/pandas/core/indexing.py:190: SettingWithCopyWarning: \n",
            "A value is trying to be set on a copy of a slice from a DataFrame\n",
            "\n",
            "See the caveats in the documentation: http://pandas.pydata.org/pandas-docs/stable/indexing.html#indexing-view-versus-copy\n",
            "  self._setitem_with_indexer(indexer, value)\n"
          ],
          "name": "stderr"
        }
      ]
    },
    {
      "cell_type": "code",
      "metadata": {
        "colab_type": "code",
        "outputId": "0cb65f47-0bce-40f5-eae2-9f681a603958",
        "id": "nW92lOclttUX",
        "colab": {
          "base_uri": "https://localhost:8080/",
          "height": 204
        }
      },
      "source": [
        "r_.head()"
      ],
      "execution_count": 0,
      "outputs": [
        {
          "output_type": "execute_result",
          "data": {
            "text/html": [
              "<div>\n",
              "<style scoped>\n",
              "    .dataframe tbody tr th:only-of-type {\n",
              "        vertical-align: middle;\n",
              "    }\n",
              "\n",
              "    .dataframe tbody tr th {\n",
              "        vertical-align: top;\n",
              "    }\n",
              "\n",
              "    .dataframe thead th {\n",
              "        text-align: right;\n",
              "    }\n",
              "</style>\n",
              "<table border=\"1\" class=\"dataframe\">\n",
              "  <thead>\n",
              "    <tr style=\"text-align: right;\">\n",
              "      <th></th>\n",
              "      <th>Device</th>\n",
              "      <th>Trip</th>\n",
              "      <th>ReactionTime</th>\n",
              "      <th>EndTime</th>\n",
              "      <th>reactiveness</th>\n",
              "      <th>StartTime</th>\n",
              "    </tr>\n",
              "  </thead>\n",
              "  <tbody>\n",
              "    <tr>\n",
              "      <th>0</th>\n",
              "      <td>2004.0</td>\n",
              "      <td>12.0</td>\n",
              "      <td>60.0</td>\n",
              "      <td>48150.0</td>\n",
              "      <td>0</td>\n",
              "      <td>0.0</td>\n",
              "    </tr>\n",
              "    <tr>\n",
              "      <th>1</th>\n",
              "      <td>2004.0</td>\n",
              "      <td>54.0</td>\n",
              "      <td>6.0</td>\n",
              "      <td>109450.0</td>\n",
              "      <td>0</td>\n",
              "      <td>0.0</td>\n",
              "    </tr>\n",
              "    <tr>\n",
              "      <th>2</th>\n",
              "      <td>2004.0</td>\n",
              "      <td>55.0</td>\n",
              "      <td>10.0</td>\n",
              "      <td>9800.0</td>\n",
              "      <td>0</td>\n",
              "      <td>0.0</td>\n",
              "    </tr>\n",
              "    <tr>\n",
              "      <th>3</th>\n",
              "      <td>2004.0</td>\n",
              "      <td>55.0</td>\n",
              "      <td>1.5</td>\n",
              "      <td>10650.0</td>\n",
              "      <td>0</td>\n",
              "      <td>9800.0</td>\n",
              "    </tr>\n",
              "    <tr>\n",
              "      <th>4</th>\n",
              "      <td>2004.0</td>\n",
              "      <td>119.0</td>\n",
              "      <td>2.0</td>\n",
              "      <td>129650.0</td>\n",
              "      <td>0</td>\n",
              "      <td>0.0</td>\n",
              "    </tr>\n",
              "  </tbody>\n",
              "</table>\n",
              "</div>"
            ],
            "text/plain": [
              "   Device   Trip  ReactionTime   EndTime  reactiveness  StartTime\n",
              "0  2004.0   12.0          60.0   48150.0             0        0.0\n",
              "1  2004.0   54.0           6.0  109450.0             0        0.0\n",
              "2  2004.0   55.0          10.0    9800.0             0        0.0\n",
              "3  2004.0   55.0           1.5   10650.0             0     9800.0\n",
              "4  2004.0  119.0           2.0  129650.0             0        0.0"
            ]
          },
          "metadata": {
            "tags": []
          },
          "execution_count": 70
        }
      ]
    },
    {
      "cell_type": "code",
      "metadata": {
        "colab_type": "code",
        "id": "u62PJ8TsttUf",
        "colab": {}
      },
      "source": [
        "# split host\n",
        "x_train = []\n",
        "y_train = []\n",
        "max_len = -float('inf')\n",
        "features = ['BrakeStatus','Speed','ThrottlePosPct','SteerAngle','LongAccel']\n",
        "\n",
        "for i,row in reactiveness.iterrows():\n",
        "    x=(host[(host['Device']==row['Device']) & (host['Trip']==row['Trip']) & (host['Time']>row['StartTime']) \\\n",
        "            & (host['Time']>row['EndTime'])][features]).values\n",
        "    if len(x)>=max_len:\n",
        "        max_len = len(x)\n",
        "    x_train.append(x)\n",
        "    y_train.append(row['reactiveness'])"
      ],
      "execution_count": 0,
      "outputs": []
    },
    {
      "cell_type": "code",
      "metadata": {
        "colab_type": "code",
        "id": "e7Qc0-SmttUn",
        "colab": {}
      },
      "source": [
        "# create same length by appending zeros\n",
        "import numpy as np\n",
        "x_t = []\n",
        "for x in x_train:\n",
        "    zeros = np.zeros((max_len-len(x),len(features)))\n",
        "    x_t.append(np.append(x,zeros,axis=0))"
      ],
      "execution_count": 0,
      "outputs": []
    },
    {
      "cell_type": "code",
      "metadata": {
        "colab_type": "code",
        "id": "QwBvk6I2ttUr",
        "colab": {}
      },
      "source": [
        "# convert to np arrays\n",
        "x_ = np.array(x_t)\n",
        "y_ = np.array(y_train)\n",
        "from sklearn.utils import shuffle\n",
        "x_, y_ = shuffle(x_, y_, random_state=0)"
      ],
      "execution_count": 0,
      "outputs": []
    },
    {
      "cell_type": "code",
      "metadata": {
        "colab_type": "code",
        "id": "xF28gldOttUv",
        "colab": {}
      },
      "source": [
        "# imports\n",
        "import tensorflow as tf\n",
        "from tensorflow.keras.models import Sequential\n",
        "from tensorflow.keras.layers import Dense, Dropout, LSTM, CuDNNLSTM \n",
        "from sklearn.model_selection import train_test_split"
      ],
      "execution_count": 0,
      "outputs": []
    },
    {
      "cell_type": "code",
      "metadata": {
        "colab_type": "code",
        "id": "TM76i_TwttU2",
        "colab": {}
      },
      "source": [
        "# binary classification lstm model\n",
        "model = Sequential()\n",
        "model.add(LSTM(128,input_shape=(x_.shape[1:]),activation='relu',return_sequences=True))\n",
        "\n",
        "model.add(LSTM(128,activation='relu'))\n",
        "\n",
        "model.add(Dense(128,activation='relu'))\n",
        "\n",
        "model.add(Dense(64,activation='relu'))\n",
        "\n",
        "model.add(Dense(32,activation='relu'))\n",
        "\n",
        "# model.add(Dense(5, activation='softmax'))\n",
        "model.add(Dense(1, activation='sigmoid'))"
      ],
      "execution_count": 0,
      "outputs": []
    },
    {
      "cell_type": "code",
      "metadata": {
        "colab_type": "code",
        "id": "RzshB9n9ttU6",
        "colab": {}
      },
      "source": [
        "# complie\n",
        "# model.compile(loss='categorical_crossentropy', optimizer='adam', metrics=['accuracy'])\n",
        "model.compile(loss='binary_crossentropy', optimizer='adam', metrics=['accuracy'])"
      ],
      "execution_count": 0,
      "outputs": []
    },
    {
      "cell_type": "code",
      "metadata": {
        "colab_type": "code",
        "id": "j1medN-MttVD",
        "colab": {}
      },
      "source": [
        "x_train, x_test, y_train, y_test = train_test_split(x_, y_, test_size=0.2, random_state=42)"
      ],
      "execution_count": 0,
      "outputs": []
    },
    {
      "cell_type": "code",
      "metadata": {
        "colab_type": "code",
        "id": "hzmkRMhKttVL",
        "colab": {}
      },
      "source": [
        "# Code to dublicate the 0s in the dataset. each zero is copied 3 times\n",
        "x_ = []\n",
        "y_ = []\n",
        "\n",
        "for x,y in zip(x_train,y_train):\n",
        "  if y==0:\n",
        "    for i in range(1):\n",
        "      x_.append(x)\n",
        "      y_.append(y)\n",
        "  x_.append(x)\n",
        "  y_.append(y)\n",
        "x_, y_ = shuffle(x_, y_, random_state=0)\n",
        "x_train = np.array(x_)\n",
        "y_train = np.array(y_)\n"
      ],
      "execution_count": 0,
      "outputs": []
    },
    {
      "cell_type": "code",
      "metadata": {
        "colab_type": "code",
        "outputId": "b8bdebfd-fe38-4058-f869-c31ae2689cf3",
        "id": "4kUIyr51ttVN",
        "colab": {
          "base_uri": "https://localhost:8080/",
          "height": 153
        }
      },
      "source": [
        "# fit\n",
        "\n",
        "model.fit(x_train,y_train,epochs=3,validation_data=(x_test,y_test))"
      ],
      "execution_count": 0,
      "outputs": [
        {
          "output_type": "stream",
          "text": [
            "Train on 239 samples, validate on 60 samples\n",
            "Epoch 1/3\n",
            "239/239 [==============================] - 341s 1s/sample - loss: 0.6930 - acc: 0.5188 - val_loss: 0.6923 - val_acc: 0.5667\n",
            "Epoch 2/3\n",
            "239/239 [==============================] - 336s 1s/sample - loss: 0.6913 - acc: 0.5816 - val_loss: 0.6903 - val_acc: 0.5667\n",
            "Epoch 3/3\n",
            "239/239 [==============================] - 337s 1s/sample - loss: 0.6880 - acc: 0.5816 - val_loss: 0.6872 - val_acc: 0.5667\n"
          ],
          "name": "stdout"
        },
        {
          "output_type": "execute_result",
          "data": {
            "text/plain": [
              "<tensorflow.python.keras.callbacks.History at 0x7f3fcd2db550>"
            ]
          },
          "metadata": {
            "tags": []
          },
          "execution_count": 78
        }
      ]
    },
    {
      "cell_type": "code",
      "metadata": {
        "colab_type": "code",
        "id": "P7sxKKOhttVT",
        "outputId": "2e3e2aa3-a992-40d0-c1c1-799da57c8e9f",
        "colab": {
          "base_uri": "https://localhost:8080/",
          "height": 34
        }
      },
      "source": [
        "p0 = (len(y_test)-y_test.sum())/len(y_test)\n",
        "print ('% of 0s:',p0)"
      ],
      "execution_count": 0,
      "outputs": [
        {
          "output_type": "stream",
          "text": [
            "% of 0s: 0.5666666666666667\n"
          ],
          "name": "stdout"
        }
      ]
    },
    {
      "cell_type": "code",
      "metadata": {
        "id": "9r1dKwjZvWd_",
        "colab_type": "code",
        "colab": {}
      },
      "source": [
        ""
      ],
      "execution_count": 0,
      "outputs": []
    },
    {
      "cell_type": "code",
      "metadata": {
        "colab_type": "code",
        "id": "dIhqiRGevW7U",
        "colab": {}
      },
      "source": [
        "# imports\n",
        "import tensorflow as tf\n",
        "from tensorflow.keras.models import Sequential\n",
        "from tensorflow.keras.layers import Dense, Dropout, LSTM, CuDNNLSTM \n",
        "from sklearn.model_selection import train_test_split"
      ],
      "execution_count": 0,
      "outputs": []
    },
    {
      "cell_type": "code",
      "metadata": {
        "colab_type": "code",
        "id": "PLCPJ0WlvW7Z",
        "colab": {}
      },
      "source": [
        "# binary classification lstm model\n",
        "model = Sequential()\n",
        "model.add(LSTM(128,input_shape=(x_.shape[1:]),activation='relu',return_sequences=True))\n",
        "\n",
        "model.add(LSTM(128,activation='relu'))\n",
        "\n",
        "# model.add(Dense(128,activation='relu'))\n",
        "\n",
        "model.add(Dense(64,activation='relu'))\n",
        "\n",
        "model.add(Dense(32,activation='relu'))\n",
        "\n",
        "# model.add(Dense(5, activation='softmax'))\n",
        "model.add(Dense(1, activation='sigmoid'))"
      ],
      "execution_count": 0,
      "outputs": []
    },
    {
      "cell_type": "code",
      "metadata": {
        "colab_type": "code",
        "id": "Fwzrx225vW7b",
        "colab": {}
      },
      "source": [
        "# complie\n",
        "# model.compile(loss='categorical_crossentropy', optimizer='adam', metrics=['accuracy'])\n",
        "model.compile(loss='binary_crossentropy', optimizer='adam', metrics=['accuracy'])"
      ],
      "execution_count": 0,
      "outputs": []
    },
    {
      "cell_type": "code",
      "metadata": {
        "colab_type": "code",
        "outputId": "00a50cce-c75a-49eb-b5eb-5af07fcf6580",
        "id": "pApyY_ZIvW7f",
        "colab": {
          "base_uri": "https://localhost:8080/",
          "height": 153
        }
      },
      "source": [
        "# fit\n",
        "\n",
        "model.fit(x_train,y_train,epochs=3,validation_data=(x_test,y_test))"
      ],
      "execution_count": 0,
      "outputs": [
        {
          "output_type": "stream",
          "text": [
            "Train on 239 samples, validate on 60 samples\n",
            "Epoch 1/3\n",
            "239/239 [==============================] - 340s 1s/sample - loss: 0.6931 - acc: 0.5021 - val_loss: 0.6929 - val_acc: 0.5667\n",
            "Epoch 2/3\n",
            "239/239 [==============================] - 336s 1s/sample - loss: 0.6923 - acc: 0.5816 - val_loss: 0.6914 - val_acc: 0.5667\n",
            "Epoch 3/3\n",
            "239/239 [==============================] - 335s 1s/sample - loss: 0.6904 - acc: 0.5816 - val_loss: 0.6898 - val_acc: 0.5667\n"
          ],
          "name": "stdout"
        },
        {
          "output_type": "execute_result",
          "data": {
            "text/plain": [
              "<tensorflow.python.keras.callbacks.History at 0x7f3b513f5e10>"
            ]
          },
          "metadata": {
            "tags": []
          },
          "execution_count": 86
        }
      ]
    },
    {
      "cell_type": "code",
      "metadata": {
        "colab_type": "code",
        "id": "6lsWruY-vW7i",
        "colab": {}
      },
      "source": [
        "p0 = (len(y_test)-y_test.sum())/len(y_test)\n",
        "print ('% of 0s:',p0)"
      ],
      "execution_count": 0,
      "outputs": []
    }
  ]
}